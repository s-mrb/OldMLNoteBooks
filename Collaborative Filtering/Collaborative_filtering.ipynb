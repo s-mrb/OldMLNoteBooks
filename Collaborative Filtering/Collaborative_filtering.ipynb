{
  "nbformat": 4,
  "nbformat_minor": 0,
  "metadata": {
    "colab": {
      "name": "Collaborative_filtering.ipynb",
      "provenance": [],
      "collapsed_sections": []
    },
    "kernelspec": {
      "name": "python3",
      "display_name": "Python 3"
    },
    "accelerator": "GPU"
  },
  "cells": [
    {
      "cell_type": "code",
      "metadata": {
        "id": "BtfWnsKqMFtX",
        "colab_type": "code",
        "colab": {}
      },
      "source": [
        "from fastai.collab import *\n",
        "from fastai.tabular import *"
      ],
      "execution_count": 0,
      "outputs": []
    },
    {
      "cell_type": "markdown",
      "metadata": {
        "id": "2djpehWxMTaT",
        "colab_type": "text"
      },
      "source": [
        "**Collaborative filtering example**\n"
      ]
    },
    {
      "cell_type": "markdown",
      "metadata": {
        "id": "Zh7P0_1SMV2J",
        "colab_type": "text"
      },
      "source": [
        "collab models use data in a DataFrame of user, items, and ratings."
      ]
    },
    {
      "cell_type": "code",
      "metadata": {
        "id": "Vpo1SoZpMWp0",
        "colab_type": "code",
        "colab": {}
      },
      "source": [
        "user,item,title = 'userId','movieId','title'"
      ],
      "execution_count": 0,
      "outputs": []
    },
    {
      "cell_type": "code",
      "metadata": {
        "id": "j-JOnpYsMc7L",
        "colab_type": "code",
        "outputId": "fa20ee33-44c7-4138-b8f0-2fa2c3a4645d",
        "colab": {
          "base_uri": "https://localhost:8080/",
          "height": 51
        }
      },
      "source": [
        "path = untar_data(URLs.ML_SAMPLE)\n",
        "path"
      ],
      "execution_count": 4,
      "outputs": [
        {
          "output_type": "stream",
          "text": [
            "Downloading http://files.fast.ai/data/examples/movie_lens_sample\n"
          ],
          "name": "stdout"
        },
        {
          "output_type": "display_data",
          "data": {
            "text/html": [
              ""
            ],
            "text/plain": [
              "<IPython.core.display.HTML object>"
            ]
          },
          "metadata": {
            "tags": []
          }
        },
        {
          "output_type": "execute_result",
          "data": {
            "text/plain": [
              "PosixPath('/root/.fastai/data/movie_lens_sample')"
            ]
          },
          "metadata": {
            "tags": []
          },
          "execution_count": 4
        }
      ]
    },
    {
      "cell_type": "code",
      "metadata": {
        "id": "al60_OkDMfP4",
        "colab_type": "code",
        "outputId": "0b256c06-0d6b-4467-9aee-ce1e8bb765c2",
        "colab": {
          "base_uri": "https://localhost:8080/",
          "height": 204
        }
      },
      "source": [
        "ratings = pd.read_csv(path/'ratings.csv')\n",
        "ratings.head()"
      ],
      "execution_count": 5,
      "outputs": [
        {
          "output_type": "execute_result",
          "data": {
            "text/html": [
              "<div>\n",
              "<style scoped>\n",
              "    .dataframe tbody tr th:only-of-type {\n",
              "        vertical-align: middle;\n",
              "    }\n",
              "\n",
              "    .dataframe tbody tr th {\n",
              "        vertical-align: top;\n",
              "    }\n",
              "\n",
              "    .dataframe thead th {\n",
              "        text-align: right;\n",
              "    }\n",
              "</style>\n",
              "<table border=\"1\" class=\"dataframe\">\n",
              "  <thead>\n",
              "    <tr style=\"text-align: right;\">\n",
              "      <th></th>\n",
              "      <th>userId</th>\n",
              "      <th>movieId</th>\n",
              "      <th>rating</th>\n",
              "      <th>timestamp</th>\n",
              "    </tr>\n",
              "  </thead>\n",
              "  <tbody>\n",
              "    <tr>\n",
              "      <th>0</th>\n",
              "      <td>73</td>\n",
              "      <td>1097</td>\n",
              "      <td>4.0</td>\n",
              "      <td>1255504951</td>\n",
              "    </tr>\n",
              "    <tr>\n",
              "      <th>1</th>\n",
              "      <td>561</td>\n",
              "      <td>924</td>\n",
              "      <td>3.5</td>\n",
              "      <td>1172695223</td>\n",
              "    </tr>\n",
              "    <tr>\n",
              "      <th>2</th>\n",
              "      <td>157</td>\n",
              "      <td>260</td>\n",
              "      <td>3.5</td>\n",
              "      <td>1291598691</td>\n",
              "    </tr>\n",
              "    <tr>\n",
              "      <th>3</th>\n",
              "      <td>358</td>\n",
              "      <td>1210</td>\n",
              "      <td>5.0</td>\n",
              "      <td>957481884</td>\n",
              "    </tr>\n",
              "    <tr>\n",
              "      <th>4</th>\n",
              "      <td>130</td>\n",
              "      <td>316</td>\n",
              "      <td>2.0</td>\n",
              "      <td>1138999234</td>\n",
              "    </tr>\n",
              "  </tbody>\n",
              "</table>\n",
              "</div>"
            ],
            "text/plain": [
              "   userId  movieId  rating   timestamp\n",
              "0      73     1097     4.0  1255504951\n",
              "1     561      924     3.5  1172695223\n",
              "2     157      260     3.5  1291598691\n",
              "3     358     1210     5.0   957481884\n",
              "4     130      316     2.0  1138999234"
            ]
          },
          "metadata": {
            "tags": []
          },
          "execution_count": 5
        }
      ]
    },
    {
      "cell_type": "code",
      "metadata": {
        "id": "hLgoBZyoMg5q",
        "colab_type": "code",
        "colab": {}
      },
      "source": [
        "# seed is probably used to distribute data between train and valid\n",
        "data = CollabDataBunch.from_df(ratings, seed=42)"
      ],
      "execution_count": 0,
      "outputs": []
    },
    {
      "cell_type": "code",
      "metadata": {
        "id": "h0mBXWYhBLVU",
        "colab_type": "code",
        "colab": {
          "base_uri": "https://localhost:8080/",
          "height": 306
        },
        "outputId": "504fa97e-6331-4526-d032-2a4cf6e257d0"
      },
      "source": [
        "data"
      ],
      "execution_count": 7,
      "outputs": [
        {
          "output_type": "execute_result",
          "data": {
            "text/plain": [
              "TabularDataBunch;\n",
              "\n",
              "Train: LabelList (4825 items)\n",
              "x: CollabList\n",
              "userId 73; movieId 1097; ,userId 561; movieId 924; ,userId 157; movieId 260; ,userId 358; movieId 1210; ,userId 130; movieId 316; \n",
              "y: FloatList\n",
              "4.0,3.5,3.5,5.0,2.0\n",
              "Path: .;\n",
              "\n",
              "Valid: LabelList (1206 items)\n",
              "x: CollabList\n",
              "userId 306; movieId 2628; ,userId 605; movieId 3793; ,userId 313; movieId 4886; ,userId 468; movieId 1136; ,userId 380; movieId 539; \n",
              "y: FloatList\n",
              "3.0,2.0,4.5,4.0,1.5\n",
              "Path: .;\n",
              "\n",
              "Test: None"
            ]
          },
          "metadata": {
            "tags": []
          },
          "execution_count": 7
        }
      ]
    },
    {
      "cell_type": "code",
      "metadata": {
        "id": "htqKaWF_MkrH",
        "colab_type": "code",
        "colab": {}
      },
      "source": [
        "# WHat y_range? \n",
        "\n",
        "y_range = [0,5.5]"
      ],
      "execution_count": 0,
      "outputs": []
    },
    {
      "cell_type": "code",
      "metadata": {
        "id": "Ym8_sPvtMniR",
        "colab_type": "code",
        "colab": {}
      },
      "source": [
        "# What n_factor\n",
        "learn = collab_learner(data, n_factors=50, y_range=y_range)"
      ],
      "execution_count": 0,
      "outputs": []
    },
    {
      "cell_type": "code",
      "metadata": {
        "id": "J0j7dkQIMmPC",
        "colab_type": "code",
        "outputId": "d50634c4-4cf9-41a6-9a68-15da67d67d45",
        "colab": {
          "base_uri": "https://localhost:8080/",
          "height": 142
        }
      },
      "source": [
        "learn.fit_one_cycle(3, 5e-3)"
      ],
      "execution_count": 10,
      "outputs": [
        {
          "output_type": "display_data",
          "data": {
            "text/html": [
              "<table border=\"1\" class=\"dataframe\">\n",
              "  <thead>\n",
              "    <tr style=\"text-align: left;\">\n",
              "      <th>epoch</th>\n",
              "      <th>train_loss</th>\n",
              "      <th>valid_loss</th>\n",
              "      <th>time</th>\n",
              "    </tr>\n",
              "  </thead>\n",
              "  <tbody>\n",
              "    <tr>\n",
              "      <td>0</td>\n",
              "      <td>1.619715</td>\n",
              "      <td>0.942220</td>\n",
              "      <td>00:00</td>\n",
              "    </tr>\n",
              "    <tr>\n",
              "      <td>1</td>\n",
              "      <td>0.851900</td>\n",
              "      <td>0.681827</td>\n",
              "      <td>00:00</td>\n",
              "    </tr>\n",
              "    <tr>\n",
              "      <td>2</td>\n",
              "      <td>0.655334</td>\n",
              "      <td>0.669758</td>\n",
              "      <td>00:00</td>\n",
              "    </tr>\n",
              "  </tbody>\n",
              "</table>"
            ],
            "text/plain": [
              "<IPython.core.display.HTML object>"
            ]
          },
          "metadata": {
            "tags": []
          }
        }
      ]
    },
    {
      "cell_type": "markdown",
      "metadata": {
        "id": "GpAvwjKSMsXT",
        "colab_type": "text"
      },
      "source": [
        "**Movielens 100k**"
      ]
    },
    {
      "cell_type": "markdown",
      "metadata": {
        "id": "12ipV0EcNCPT",
        "colab_type": "text"
      },
      "source": [
        "Let's try with the full Movielens 100k data dataset, available from http://files.grouplens.org/datasets/movielens/ml-100k.zip"
      ]
    },
    {
      "cell_type": "code",
      "metadata": {
        "id": "cAaxQPpKO3K2",
        "colab_type": "code",
        "outputId": "9c8e963c-643c-4324-d465-323bcd168712",
        "colab": {
          "base_uri": "https://localhost:8080/",
          "height": 122
        }
      },
      "source": [
        "# Mount the drive\n",
        "from google.colab import drive\n",
        "drive.mount('/content/gdrive')"
      ],
      "execution_count": 11,
      "outputs": [
        {
          "output_type": "stream",
          "text": [
            "Go to this URL in a browser: https://accounts.google.com/o/oauth2/auth?client_id=947318989803-6bn6qk8qdgf4n4g3pfee6491hc0brc4i.apps.googleusercontent.com&redirect_uri=urn%3aietf%3awg%3aoauth%3a2.0%3aoob&response_type=code&scope=email%20https%3a%2f%2fwww.googleapis.com%2fauth%2fdocs.test%20https%3a%2f%2fwww.googleapis.com%2fauth%2fdrive%20https%3a%2f%2fwww.googleapis.com%2fauth%2fdrive.photos.readonly%20https%3a%2f%2fwww.googleapis.com%2fauth%2fpeopleapi.readonly\n",
            "\n",
            "Enter your authorization code:\n",
            "··········\n",
            "Mounted at /content/gdrive\n"
          ],
          "name": "stdout"
        }
      ]
    },
    {
      "cell_type": "code",
      "metadata": {
        "id": "aw61iTh1MqFj",
        "colab_type": "code",
        "colab": {}
      },
      "source": [
        "path='/content/gdrive/My Drive/DataSets/MOVIE_LENS/ml-100k'"
      ],
      "execution_count": 0,
      "outputs": []
    },
    {
      "cell_type": "code",
      "metadata": {
        "id": "kLQOyabAND34",
        "colab_type": "code",
        "outputId": "8797850e-d9c2-45f0-cafe-e7871ff6768a",
        "colab": {
          "base_uri": "https://localhost:8080/",
          "height": 204
        }
      },
      "source": [
        "# What u.data\n",
        "ratings = pd.read_csv(path+'/u.data', delimiter='\\t', header=None,\n",
        "                      names=[user,item,'rating','timestamp'])\n",
        "ratings.head()"
      ],
      "execution_count": 18,
      "outputs": [
        {
          "output_type": "execute_result",
          "data": {
            "text/html": [
              "<div>\n",
              "<style scoped>\n",
              "    .dataframe tbody tr th:only-of-type {\n",
              "        vertical-align: middle;\n",
              "    }\n",
              "\n",
              "    .dataframe tbody tr th {\n",
              "        vertical-align: top;\n",
              "    }\n",
              "\n",
              "    .dataframe thead th {\n",
              "        text-align: right;\n",
              "    }\n",
              "</style>\n",
              "<table border=\"1\" class=\"dataframe\">\n",
              "  <thead>\n",
              "    <tr style=\"text-align: right;\">\n",
              "      <th></th>\n",
              "      <th>userId</th>\n",
              "      <th>movieId</th>\n",
              "      <th>rating</th>\n",
              "      <th>timestamp</th>\n",
              "    </tr>\n",
              "  </thead>\n",
              "  <tbody>\n",
              "    <tr>\n",
              "      <th>0</th>\n",
              "      <td>196</td>\n",
              "      <td>242</td>\n",
              "      <td>3</td>\n",
              "      <td>881250949</td>\n",
              "    </tr>\n",
              "    <tr>\n",
              "      <th>1</th>\n",
              "      <td>186</td>\n",
              "      <td>302</td>\n",
              "      <td>3</td>\n",
              "      <td>891717742</td>\n",
              "    </tr>\n",
              "    <tr>\n",
              "      <th>2</th>\n",
              "      <td>22</td>\n",
              "      <td>377</td>\n",
              "      <td>1</td>\n",
              "      <td>878887116</td>\n",
              "    </tr>\n",
              "    <tr>\n",
              "      <th>3</th>\n",
              "      <td>244</td>\n",
              "      <td>51</td>\n",
              "      <td>2</td>\n",
              "      <td>880606923</td>\n",
              "    </tr>\n",
              "    <tr>\n",
              "      <th>4</th>\n",
              "      <td>166</td>\n",
              "      <td>346</td>\n",
              "      <td>1</td>\n",
              "      <td>886397596</td>\n",
              "    </tr>\n",
              "  </tbody>\n",
              "</table>\n",
              "</div>"
            ],
            "text/plain": [
              "   userId  movieId  rating  timestamp\n",
              "0     196      242       3  881250949\n",
              "1     186      302       3  891717742\n",
              "2      22      377       1  878887116\n",
              "3     244       51       2  880606923\n",
              "4     166      346       1  886397596"
            ]
          },
          "metadata": {
            "tags": []
          },
          "execution_count": 18
        }
      ]
    },
    {
      "cell_type": "code",
      "metadata": {
        "id": "0ymrgCSLNGH_",
        "colab_type": "code",
        "outputId": "b978676a-06e5-469c-9637-6e1cde06dc64",
        "colab": {
          "base_uri": "https://localhost:8080/",
          "height": 204
        }
      },
      "source": [
        "# WHat u.item, N, *[f'g{i}' for i in range(19)]\n",
        "\n",
        "movies = pd.read_csv(path+'/u.item',  delimiter='|', encoding='latin-1', header=None,\n",
        "                    names=[item, 'title', 'date', 'N', 'url', *[f'g{i}' for i in range(19)]])\n",
        "movies.head()"
      ],
      "execution_count": 25,
      "outputs": [
        {
          "output_type": "execute_result",
          "data": {
            "text/html": [
              "<div>\n",
              "<style scoped>\n",
              "    .dataframe tbody tr th:only-of-type {\n",
              "        vertical-align: middle;\n",
              "    }\n",
              "\n",
              "    .dataframe tbody tr th {\n",
              "        vertical-align: top;\n",
              "    }\n",
              "\n",
              "    .dataframe thead th {\n",
              "        text-align: right;\n",
              "    }\n",
              "</style>\n",
              "<table border=\"1\" class=\"dataframe\">\n",
              "  <thead>\n",
              "    <tr style=\"text-align: right;\">\n",
              "      <th></th>\n",
              "      <th>movieId</th>\n",
              "      <th>title</th>\n",
              "      <th>date</th>\n",
              "      <th>N</th>\n",
              "      <th>url</th>\n",
              "      <th>g0</th>\n",
              "      <th>g1</th>\n",
              "      <th>g2</th>\n",
              "      <th>g3</th>\n",
              "      <th>g4</th>\n",
              "      <th>g5</th>\n",
              "      <th>g6</th>\n",
              "      <th>g7</th>\n",
              "      <th>g8</th>\n",
              "      <th>g9</th>\n",
              "      <th>g10</th>\n",
              "      <th>g11</th>\n",
              "      <th>g12</th>\n",
              "      <th>g13</th>\n",
              "      <th>g14</th>\n",
              "      <th>g15</th>\n",
              "      <th>g16</th>\n",
              "      <th>g17</th>\n",
              "      <th>g18</th>\n",
              "    </tr>\n",
              "  </thead>\n",
              "  <tbody>\n",
              "    <tr>\n",
              "      <th>0</th>\n",
              "      <td>1</td>\n",
              "      <td>Toy Story (1995)</td>\n",
              "      <td>01-Jan-1995</td>\n",
              "      <td>NaN</td>\n",
              "      <td>http://us.imdb.com/M/title-exact?Toy%20Story%2...</td>\n",
              "      <td>0</td>\n",
              "      <td>0</td>\n",
              "      <td>0</td>\n",
              "      <td>1</td>\n",
              "      <td>1</td>\n",
              "      <td>1</td>\n",
              "      <td>0</td>\n",
              "      <td>0</td>\n",
              "      <td>0</td>\n",
              "      <td>0</td>\n",
              "      <td>0</td>\n",
              "      <td>0</td>\n",
              "      <td>0</td>\n",
              "      <td>0</td>\n",
              "      <td>0</td>\n",
              "      <td>0</td>\n",
              "      <td>0</td>\n",
              "      <td>0</td>\n",
              "      <td>0</td>\n",
              "    </tr>\n",
              "    <tr>\n",
              "      <th>1</th>\n",
              "      <td>2</td>\n",
              "      <td>GoldenEye (1995)</td>\n",
              "      <td>01-Jan-1995</td>\n",
              "      <td>NaN</td>\n",
              "      <td>http://us.imdb.com/M/title-exact?GoldenEye%20(...</td>\n",
              "      <td>0</td>\n",
              "      <td>1</td>\n",
              "      <td>1</td>\n",
              "      <td>0</td>\n",
              "      <td>0</td>\n",
              "      <td>0</td>\n",
              "      <td>0</td>\n",
              "      <td>0</td>\n",
              "      <td>0</td>\n",
              "      <td>0</td>\n",
              "      <td>0</td>\n",
              "      <td>0</td>\n",
              "      <td>0</td>\n",
              "      <td>0</td>\n",
              "      <td>0</td>\n",
              "      <td>0</td>\n",
              "      <td>1</td>\n",
              "      <td>0</td>\n",
              "      <td>0</td>\n",
              "    </tr>\n",
              "    <tr>\n",
              "      <th>2</th>\n",
              "      <td>3</td>\n",
              "      <td>Four Rooms (1995)</td>\n",
              "      <td>01-Jan-1995</td>\n",
              "      <td>NaN</td>\n",
              "      <td>http://us.imdb.com/M/title-exact?Four%20Rooms%...</td>\n",
              "      <td>0</td>\n",
              "      <td>0</td>\n",
              "      <td>0</td>\n",
              "      <td>0</td>\n",
              "      <td>0</td>\n",
              "      <td>0</td>\n",
              "      <td>0</td>\n",
              "      <td>0</td>\n",
              "      <td>0</td>\n",
              "      <td>0</td>\n",
              "      <td>0</td>\n",
              "      <td>0</td>\n",
              "      <td>0</td>\n",
              "      <td>0</td>\n",
              "      <td>0</td>\n",
              "      <td>0</td>\n",
              "      <td>1</td>\n",
              "      <td>0</td>\n",
              "      <td>0</td>\n",
              "    </tr>\n",
              "    <tr>\n",
              "      <th>3</th>\n",
              "      <td>4</td>\n",
              "      <td>Get Shorty (1995)</td>\n",
              "      <td>01-Jan-1995</td>\n",
              "      <td>NaN</td>\n",
              "      <td>http://us.imdb.com/M/title-exact?Get%20Shorty%...</td>\n",
              "      <td>0</td>\n",
              "      <td>1</td>\n",
              "      <td>0</td>\n",
              "      <td>0</td>\n",
              "      <td>0</td>\n",
              "      <td>1</td>\n",
              "      <td>0</td>\n",
              "      <td>0</td>\n",
              "      <td>1</td>\n",
              "      <td>0</td>\n",
              "      <td>0</td>\n",
              "      <td>0</td>\n",
              "      <td>0</td>\n",
              "      <td>0</td>\n",
              "      <td>0</td>\n",
              "      <td>0</td>\n",
              "      <td>0</td>\n",
              "      <td>0</td>\n",
              "      <td>0</td>\n",
              "    </tr>\n",
              "    <tr>\n",
              "      <th>4</th>\n",
              "      <td>5</td>\n",
              "      <td>Copycat (1995)</td>\n",
              "      <td>01-Jan-1995</td>\n",
              "      <td>NaN</td>\n",
              "      <td>http://us.imdb.com/M/title-exact?Copycat%20(1995)</td>\n",
              "      <td>0</td>\n",
              "      <td>0</td>\n",
              "      <td>0</td>\n",
              "      <td>0</td>\n",
              "      <td>0</td>\n",
              "      <td>0</td>\n",
              "      <td>1</td>\n",
              "      <td>0</td>\n",
              "      <td>1</td>\n",
              "      <td>0</td>\n",
              "      <td>0</td>\n",
              "      <td>0</td>\n",
              "      <td>0</td>\n",
              "      <td>0</td>\n",
              "      <td>0</td>\n",
              "      <td>0</td>\n",
              "      <td>1</td>\n",
              "      <td>0</td>\n",
              "      <td>0</td>\n",
              "    </tr>\n",
              "  </tbody>\n",
              "</table>\n",
              "</div>"
            ],
            "text/plain": [
              "   movieId              title         date   N  ... g15  g16  g17  g18\n",
              "0        1   Toy Story (1995)  01-Jan-1995 NaN  ...   0    0    0    0\n",
              "1        2   GoldenEye (1995)  01-Jan-1995 NaN  ...   0    1    0    0\n",
              "2        3  Four Rooms (1995)  01-Jan-1995 NaN  ...   0    1    0    0\n",
              "3        4  Get Shorty (1995)  01-Jan-1995 NaN  ...   0    0    0    0\n",
              "4        5     Copycat (1995)  01-Jan-1995 NaN  ...   0    1    0    0\n",
              "\n",
              "[5 rows x 24 columns]"
            ]
          },
          "metadata": {
            "tags": []
          },
          "execution_count": 25
        }
      ]
    },
    {
      "cell_type": "code",
      "metadata": {
        "id": "burh71PINJ0W",
        "colab_type": "code",
        "outputId": "948a214c-b1a8-4a37-a9f6-2c49289a403e",
        "colab": {
          "base_uri": "https://localhost:8080/",
          "height": 34
        }
      },
      "source": [
        "len(ratings)"
      ],
      "execution_count": 23,
      "outputs": [
        {
          "output_type": "execute_result",
          "data": {
            "text/plain": [
              "100000"
            ]
          },
          "metadata": {
            "tags": []
          },
          "execution_count": 23
        }
      ]
    },
    {
      "cell_type": "code",
      "metadata": {
        "id": "Iijm2TY1Gqog",
        "colab_type": "code",
        "colab": {
          "base_uri": "https://localhost:8080/",
          "height": 1000
        },
        "outputId": "c760ab13-1f25-424c-93f0-dd6a4d462842"
      },
      "source": [
        "doc (ratings.merge)"
      ],
      "execution_count": 30,
      "outputs": [
        {
          "output_type": "display_data",
          "data": {
            "text/html": [
              "<h4 id=\"DataFrame.merge\" class=\"doc_header\"><code>merge</code><a class=\"source_link\" data-toggle=\"collapse\" data-target=\"#DataFrame-merge-pytest\" style=\"float:right; padding-right:10px\">[test]</a></h4><blockquote><p><code>merge</code>(<strong><code>right</code></strong>, <strong><code>how</code></strong>=<strong><em><code>'inner'</code></em></strong>, <strong><code>on</code></strong>=<strong><em><code>None</code></em></strong>, <strong><code>left_on</code></strong>=<strong><em><code>None</code></em></strong>, <strong><code>right_on</code></strong>=<strong><em><code>None</code></em></strong>, <strong><code>left_index</code></strong>=<strong><em><code>False</code></em></strong>, <strong><code>right_index</code></strong>=<strong><em><code>False</code></em></strong>, <strong><code>sort</code></strong>=<strong><em><code>False</code></em></strong>, <strong><code>suffixes</code></strong>=<strong><em><code>('_x', '_y')</code></em></strong>, <strong><code>copy</code></strong>=<strong><em><code>True</code></em></strong>, <strong><code>indicator</code></strong>=<strong><em><code>False</code></em></strong>, <strong><code>validate</code></strong>=<strong><em><code>None</code></em></strong>)</p>\n",
              "</blockquote>\n",
              "<div class=\"collapse\" id=\"DataFrame-merge-pytest\"><div class=\"card card-body pytest_card\"><a type=\"button\" data-toggle=\"collapse\" data-target=\"#DataFrame-merge-pytest\" class=\"close\" aria-label=\"Close\"><span aria-hidden=\"true\">&times;</span></a><p>No tests found for <code>merge</code>. To contribute a test please refer to <a href=\"/dev/test.html\">this guide</a> and <a href=\"https://forums.fast.ai/t/improving-expanding-functional-tests/32929\">this discussion</a>.</p></div></div><p>Merge DataFrame or named Series objects with a database-style join. The join is done on columns or indexes. If joining columns on\n",
              "columns, the DataFrame indexes <em>will be ignored</em>. Otherwise if joining indexes\n",
              "on indexes or indexes on a column or columns, the index will be passed on.</p>\n",
              "<h2 id=\"Parameters\">Parameters<a class=\"anchor-link\" href=\"#Parameters\">&#182;</a></h2><p>right : DataFrame or named Series\n",
              "    Object to merge with.\n",
              "how : {'left', 'right', 'outer', 'inner'}, default 'inner'\n",
              "    Type of merge to be performed.</p>\n",
              "\n",
              "<pre><code>* left: use only keys from left frame, similar to a SQL left outer join;\n",
              "  preserve key order.\n",
              "* right: use only keys from right frame, similar to a SQL right outer join;\n",
              "  preserve key order.\n",
              "* outer: use union of keys from both frames, similar to a SQL full outer\n",
              "  join; sort keys lexicographically.\n",
              "* inner: use intersection of keys from both frames, similar to a SQL inner\n",
              "  join; preserve the order of the left keys.\n",
              "</code></pre>\n",
              "<p>on : label or list\n",
              "    Column or index level names to join on. These must be found in both\n",
              "    DataFrames. If <code>on</code> is None and not merging on indexes then this defaults\n",
              "    to the intersection of the columns in both DataFrames.\n",
              "left_on : label or list, or array-like\n",
              "    Column or index level names to join on in the left DataFrame. Can also\n",
              "    be an array or list of arrays of the length of the left DataFrame.\n",
              "    These arrays are treated as if they are columns.\n",
              "right_on : label or list, or array-like\n",
              "    Column or index level names to join on in the right DataFrame. Can also\n",
              "    be an array or list of arrays of the length of the right DataFrame.\n",
              "    These arrays are treated as if they are columns.\n",
              "left_index : bool, default False\n",
              "    Use the index from the left DataFrame as the join key(s). If it is a\n",
              "    MultiIndex, the number of keys in the other DataFrame (either the index\n",
              "    or a number of columns) must match the number of levels.\n",
              "right_index : bool, default False\n",
              "    Use the index from the right DataFrame as the join key. Same caveats as\n",
              "    left_index.\n",
              "sort : bool, default False\n",
              "    Sort the join keys lexicographically in the result DataFrame. If False,\n",
              "    the order of the join keys depends on the join type (how keyword).\n",
              "suffixes : tuple of (str, str), default ('_x', '_y')\n",
              "    Suffix to apply to overlapping column names in the left and right\n",
              "    side, respectively. To raise an exception on overlapping columns use\n",
              "    (False, False).\n",
              "copy : bool, default True\n",
              "    If False, avoid copy if possible.\n",
              "indicator : bool or str, default False\n",
              "    If True, adds a column to output DataFrame called \"_merge\" with\n",
              "    information on the source of each row.\n",
              "    If string, column with information on source of each row will be added to\n",
              "    output DataFrame, and column will be named value of string.\n",
              "    Information column is Categorical-type and takes on a value of \"left_only\"\n",
              "    for observations whose merge key only appears in 'left' DataFrame,\n",
              "    \"right_only\" for observations whose merge key only appears in 'right'\n",
              "    DataFrame, and \"both\" if the observation's merge key is found in both.</p>\n",
              "<p>validate : str, optional\n",
              "    If specified, checks if merge is of specified type.</p>\n",
              "\n",
              "<pre><code>* \"one_to_one\" or \"1:1\": check if merge keys are unique in both\n",
              "  left and right datasets.\n",
              "* \"one_to_many\" or \"1:m\": check if merge keys are unique in left\n",
              "  dataset.\n",
              "* \"many_to_one\" or \"m:1\": check if merge keys are unique in right\n",
              "  dataset.\n",
              "* \"many_to_many\" or \"m:m\": allowed, but does not result in checks.\n",
              "\n",
              ".. versionadded:: 0.21.0\n",
              "\n",
              "</code></pre>\n",
              "<h2 id=\"Returns\">Returns<a class=\"anchor-link\" href=\"#Returns\">&#182;</a></h2><p>DataFrame\n",
              "    A DataFrame of the two merged objects.</p>\n",
              "<h2 id=\"See-Also\">See Also<a class=\"anchor-link\" href=\"#See-Also\">&#182;</a></h2><p>merge_ordered : Merge with optional filling/interpolation.\n",
              "merge_asof : Merge on nearest keys.\n",
              "DataFrame.join : Similar method using indices.</p>\n",
              "<h2 id=\"Notes\">Notes<a class=\"anchor-link\" href=\"#Notes\">&#182;</a></h2><p>Support for specifying index levels as the <code>on</code>, <code>left_on</code>, and\n",
              "<code>right_on</code> parameters was added in version 0.23.0\n",
              "Support for merging named Series objects was added in version 0.24.0</p>\n",
              "<h2 id=\"Examples\">Examples<a class=\"anchor-link\" href=\"#Examples\">&#182;</a></h2><blockquote><blockquote><blockquote><p>df1 = pd.DataFrame({'lkey': ['foo', 'bar', 'baz', 'foo'],\n",
              "...                     'value': [1, 2, 3, 5]})\n",
              "df2 = pd.DataFrame({'rkey': ['foo', 'bar', 'baz', 'foo'],\n",
              "...                     'value': [5, 6, 7, 8]})\n",
              "df1\n",
              "    lkey value\n",
              "0   foo      1\n",
              "1   bar      2\n",
              "2   baz      3\n",
              "3   foo      5\n",
              "df2\n",
              "    rkey value\n",
              "0   foo      5\n",
              "1   bar      6\n",
              "2   baz      7\n",
              "3   foo      8</p>\n",
              "</blockquote>\n",
              "</blockquote>\n",
              "</blockquote>\n",
              "<p>Merge df1 and df2 on the lkey and rkey columns. The value columns have\n",
              "the default suffixes, _x and _y, appended.</p>\n",
              "<blockquote><blockquote><blockquote><p>df1.merge(df2, left_on='lkey', right_on='rkey')\n",
              "  lkey  value_x rkey  value_y\n",
              "0  foo        1  foo        5\n",
              "1  foo        1  foo        8\n",
              "2  foo        5  foo        5\n",
              "3  foo        5  foo        8\n",
              "4  bar        2  bar        6\n",
              "5  baz        3  baz        7</p>\n",
              "</blockquote>\n",
              "</blockquote>\n",
              "</blockquote>\n",
              "<p>Merge DataFrames df1 and df2 with specified left and right suffixes\n",
              "appended to any overlapping columns.</p>\n",
              "<blockquote><blockquote><blockquote><p>df1.merge(df2, left_on='lkey', right_on='rkey',\n",
              "...           suffixes=('_left', '_right'))\n",
              "  lkey  value_left rkey  value_right\n",
              "0  foo           1  foo            5\n",
              "1  foo           1  foo            8\n",
              "2  foo           5  foo            5\n",
              "3  foo           5  foo            8\n",
              "4  bar           2  bar            6\n",
              "5  baz           3  baz            7</p>\n",
              "</blockquote>\n",
              "</blockquote>\n",
              "</blockquote>\n",
              "<p>Merge DataFrames df1 and df2, but raise an exception if the DataFrames have\n",
              "any overlapping columns.</p>\n",
              "<blockquote><blockquote><blockquote><p>df1.merge(df2, left_on='lkey', right_on='rkey', suffixes=(False, False))\n",
              "Traceback (most recent call last):\n",
              "...\n",
              "ValueError: columns overlap but no suffix specified:\n",
              "    Index(['value'], dtype='object')</p>\n",
              "</blockquote>\n",
              "</blockquote>\n",
              "</blockquote>\n"
            ],
            "text/plain": [
              "<IPython.core.display.HTML object>"
            ]
          },
          "metadata": {
            "tags": []
          }
        }
      ]
    },
    {
      "cell_type": "code",
      "metadata": {
        "id": "fRrw_d8PQf7E",
        "colab_type": "code",
        "outputId": "5989aea7-2606-41ce-f7b6-e22a7a670e4f",
        "colab": {
          "base_uri": "https://localhost:8080/",
          "height": 204
        }
      },
      "source": [
        "# What ratings.merge(movies[[item, title]])\n",
        "\n",
        "# Most probably applying Join operation using movieid as item and title\n",
        "\n",
        "# The purpose was just to bring movie name (from the movies part) in data i.e to get a data having rating of movies wither their id's and title and userId\n",
        "\n",
        "rating_movie = ratings.merge(movies[[item, title]])\n",
        "rating_movie.head()"
      ],
      "execution_count": 31,
      "outputs": [
        {
          "output_type": "execute_result",
          "data": {
            "text/html": [
              "<div>\n",
              "<style scoped>\n",
              "    .dataframe tbody tr th:only-of-type {\n",
              "        vertical-align: middle;\n",
              "    }\n",
              "\n",
              "    .dataframe tbody tr th {\n",
              "        vertical-align: top;\n",
              "    }\n",
              "\n",
              "    .dataframe thead th {\n",
              "        text-align: right;\n",
              "    }\n",
              "</style>\n",
              "<table border=\"1\" class=\"dataframe\">\n",
              "  <thead>\n",
              "    <tr style=\"text-align: right;\">\n",
              "      <th></th>\n",
              "      <th>userId</th>\n",
              "      <th>movieId</th>\n",
              "      <th>rating</th>\n",
              "      <th>timestamp</th>\n",
              "      <th>title</th>\n",
              "    </tr>\n",
              "  </thead>\n",
              "  <tbody>\n",
              "    <tr>\n",
              "      <th>0</th>\n",
              "      <td>196</td>\n",
              "      <td>242</td>\n",
              "      <td>3</td>\n",
              "      <td>881250949</td>\n",
              "      <td>Kolya (1996)</td>\n",
              "    </tr>\n",
              "    <tr>\n",
              "      <th>1</th>\n",
              "      <td>63</td>\n",
              "      <td>242</td>\n",
              "      <td>3</td>\n",
              "      <td>875747190</td>\n",
              "      <td>Kolya (1996)</td>\n",
              "    </tr>\n",
              "    <tr>\n",
              "      <th>2</th>\n",
              "      <td>226</td>\n",
              "      <td>242</td>\n",
              "      <td>5</td>\n",
              "      <td>883888671</td>\n",
              "      <td>Kolya (1996)</td>\n",
              "    </tr>\n",
              "    <tr>\n",
              "      <th>3</th>\n",
              "      <td>154</td>\n",
              "      <td>242</td>\n",
              "      <td>3</td>\n",
              "      <td>879138235</td>\n",
              "      <td>Kolya (1996)</td>\n",
              "    </tr>\n",
              "    <tr>\n",
              "      <th>4</th>\n",
              "      <td>306</td>\n",
              "      <td>242</td>\n",
              "      <td>5</td>\n",
              "      <td>876503793</td>\n",
              "      <td>Kolya (1996)</td>\n",
              "    </tr>\n",
              "  </tbody>\n",
              "</table>\n",
              "</div>"
            ],
            "text/plain": [
              "   userId  movieId  rating  timestamp         title\n",
              "0     196      242       3  881250949  Kolya (1996)\n",
              "1      63      242       3  875747190  Kolya (1996)\n",
              "2     226      242       5  883888671  Kolya (1996)\n",
              "3     154      242       3  879138235  Kolya (1996)\n",
              "4     306      242       5  876503793  Kolya (1996)"
            ]
          },
          "metadata": {
            "tags": []
          },
          "execution_count": 31
        }
      ]
    },
    {
      "cell_type": "code",
      "metadata": {
        "id": "tRtC5VaAQiC-",
        "colab_type": "code",
        "colab": {}
      },
      "source": [
        "# WHat item_name\n",
        "\n",
        "# most probably item_name should be feature\n",
        "\n",
        "# Where dependent var\n",
        "data = CollabDataBunch.from_df(rating_movie, seed=42, valid_pct=0.1, item_name=title)"
      ],
      "execution_count": 0,
      "outputs": []
    },
    {
      "cell_type": "code",
      "metadata": {
        "id": "_82IWjqYQjuG",
        "colab_type": "code",
        "outputId": "0fbd56f9-b93a-433a-fdb1-33509897b647",
        "colab": {
          "base_uri": "https://localhost:8080/",
          "height": 204
        }
      },
      "source": [
        "data.show_batch()"
      ],
      "execution_count": 33,
      "outputs": [
        {
          "output_type": "display_data",
          "data": {
            "text/html": [
              "<table border=\"1\" class=\"dataframe\">\n",
              "  <thead>\n",
              "    <tr style=\"text-align: right;\">\n",
              "      <th>userId</th>\n",
              "      <th>title</th>\n",
              "      <th>target</th>\n",
              "    </tr>\n",
              "  </thead>\n",
              "  <tbody>\n",
              "    <tr>\n",
              "      <td>405</td>\n",
              "      <td>Thin Blue Line, The (1988)</td>\n",
              "      <td>3.0</td>\n",
              "    </tr>\n",
              "    <tr>\n",
              "      <td>763</td>\n",
              "      <td>Amadeus (1984)</td>\n",
              "      <td>4.0</td>\n",
              "    </tr>\n",
              "    <tr>\n",
              "      <td>854</td>\n",
              "      <td>Some Like It Hot (1959)</td>\n",
              "      <td>3.0</td>\n",
              "    </tr>\n",
              "    <tr>\n",
              "      <td>651</td>\n",
              "      <td>Cold Comfort Farm (1995)</td>\n",
              "      <td>2.0</td>\n",
              "    </tr>\n",
              "    <tr>\n",
              "      <td>886</td>\n",
              "      <td>Dead Man Walking (1995)</td>\n",
              "      <td>5.0</td>\n",
              "    </tr>\n",
              "  </tbody>\n",
              "</table>"
            ],
            "text/plain": [
              "<IPython.core.display.HTML object>"
            ]
          },
          "metadata": {
            "tags": []
          }
        }
      ]
    },
    {
      "cell_type": "code",
      "metadata": {
        "id": "9EDorwIwQlcg",
        "colab_type": "code",
        "colab": {}
      },
      "source": [
        "y_range = [0,5.5]"
      ],
      "execution_count": 0,
      "outputs": []
    },
    {
      "cell_type": "code",
      "metadata": {
        "id": "S6qKHLNJQoZr",
        "colab_type": "code",
        "colab": {}
      },
      "source": [
        "# What n_factors\n",
        "# What wd\n",
        "\n",
        "# Most probably wd = weight decay, L2 regularization\n",
        "learn = collab_learner(data, n_factors=40, y_range=y_range, wd=1e-1)"
      ],
      "execution_count": 0,
      "outputs": []
    },
    {
      "cell_type": "code",
      "metadata": {
        "id": "iQwgo_hjQpmK",
        "colab_type": "code",
        "outputId": "b79058e6-adce-4922-dbee-62dd6b221caf",
        "colab": {
          "base_uri": "https://localhost:8080/",
          "height": 374
        }
      },
      "source": [
        "learn.lr_find()\n",
        "learn.recorder.plot(skip_end=15)"
      ],
      "execution_count": 36,
      "outputs": [
        {
          "output_type": "display_data",
          "data": {
            "text/html": [
              "\n",
              "    <div>\n",
              "        <style>\n",
              "            /* Turns off some styling */\n",
              "            progress {\n",
              "                /* gets rid of default border in Firefox and Opera. */\n",
              "                border: none;\n",
              "                /* Needs to be in here for Safari polyfill so background images work as expected. */\n",
              "                background-size: auto;\n",
              "            }\n",
              "            .progress-bar-interrupted, .progress-bar-interrupted::-webkit-progress-bar {\n",
              "                background: #F44336;\n",
              "            }\n",
              "        </style>\n",
              "      <progress value='0' class='' max='1', style='width:300px; height:20px; vertical-align: middle;'></progress>\n",
              "      0.00% [0/1 00:00<00:00]\n",
              "    </div>\n",
              "    \n",
              "<table border=\"1\" class=\"dataframe\">\n",
              "  <thead>\n",
              "    <tr style=\"text-align: left;\">\n",
              "      <th>epoch</th>\n",
              "      <th>train_loss</th>\n",
              "      <th>valid_loss</th>\n",
              "      <th>time</th>\n",
              "    </tr>\n",
              "  </thead>\n",
              "  <tbody>\n",
              "  </tbody>\n",
              "</table><p>\n",
              "\n",
              "    <div>\n",
              "        <style>\n",
              "            /* Turns off some styling */\n",
              "            progress {\n",
              "                /* gets rid of default border in Firefox and Opera. */\n",
              "                border: none;\n",
              "                /* Needs to be in here for Safari polyfill so background images work as expected. */\n",
              "                background-size: auto;\n",
              "            }\n",
              "            .progress-bar-interrupted, .progress-bar-interrupted::-webkit-progress-bar {\n",
              "                background: #F44336;\n",
              "            }\n",
              "        </style>\n",
              "      <progress value='85' class='' max='1406', style='width:300px; height:20px; vertical-align: middle;'></progress>\n",
              "      6.05% [85/1406 00:00<00:10 1.8480]\n",
              "    </div>\n",
              "    "
            ],
            "text/plain": [
              "<IPython.core.display.HTML object>"
            ]
          },
          "metadata": {
            "tags": []
          }
        },
        {
          "output_type": "stream",
          "text": [
            "LR Finder is complete, type {learner_name}.recorder.plot() to see the graph.\n"
          ],
          "name": "stdout"
        },
        {
          "output_type": "display_data",
          "data": {
            "image/png": "[encoded data removed]",
            "text/plain": [
              "<Figure size 432x288 with 1 Axes>"
            ]
          },
          "metadata": {
            "tags": []
          }
        }
      ]
    },
    {
      "cell_type": "code",
      "metadata": {
        "id": "PrhncjVILH1i",
        "colab_type": "code",
        "colab": {}
      },
      "source": [
        "learn.destroy"
      ],
      "execution_count": 0,
      "outputs": []
    },
    {
      "cell_type": "code",
      "metadata": {
        "id": "996PFEx5QsTo",
        "colab_type": "code",
        "outputId": "3bcf5142-1ae7-43d2-8491-bab091fc3b77",
        "colab": {
          "base_uri": "https://localhost:8080/",
          "height": 204
        }
      },
      "source": [
        "learn.fit_one_cycle(5, 5e-3)"
      ],
      "execution_count": 40,
      "outputs": [
        {
          "output_type": "display_data",
          "data": {
            "text/html": [
              "<table border=\"1\" class=\"dataframe\">\n",
              "  <thead>\n",
              "    <tr style=\"text-align: left;\">\n",
              "      <th>epoch</th>\n",
              "      <th>train_loss</th>\n",
              "      <th>valid_loss</th>\n",
              "      <th>time</th>\n",
              "    </tr>\n",
              "  </thead>\n",
              "  <tbody>\n",
              "    <tr>\n",
              "      <td>0</td>\n",
              "      <td>0.909938</td>\n",
              "      <td>0.951564</td>\n",
              "      <td>00:09</td>\n",
              "    </tr>\n",
              "    <tr>\n",
              "      <td>1</td>\n",
              "      <td>0.875454</td>\n",
              "      <td>0.878361</td>\n",
              "      <td>00:09</td>\n",
              "    </tr>\n",
              "    <tr>\n",
              "      <td>2</td>\n",
              "      <td>0.769198</td>\n",
              "      <td>0.835716</td>\n",
              "      <td>00:09</td>\n",
              "    </tr>\n",
              "    <tr>\n",
              "      <td>3</td>\n",
              "      <td>0.645937</td>\n",
              "      <td>0.817779</td>\n",
              "      <td>00:09</td>\n",
              "    </tr>\n",
              "    <tr>\n",
              "      <td>4</td>\n",
              "      <td>0.544438</td>\n",
              "      <td>0.817510</td>\n",
              "      <td>00:09</td>\n",
              "    </tr>\n",
              "  </tbody>\n",
              "</table>"
            ],
            "text/plain": [
              "<IPython.core.display.HTML object>"
            ]
          },
          "metadata": {
            "tags": []
          }
        }
      ]
    },
    {
      "cell_type": "code",
      "metadata": {
        "id": "MS5Oyhs4QuHY",
        "colab_type": "code",
        "colab": {}
      },
      "source": [
        "learn.save('dotprod')"
      ],
      "execution_count": 0,
      "outputs": []
    },
    {
      "cell_type": "markdown",
      "metadata": {
        "id": "971uQY9jQ2K3",
        "colab_type": "text"
      },
      "source": [
        "**Interpretation**"
      ]
    },
    {
      "cell_type": "markdown",
      "metadata": {
        "id": "DnxTcPx8Q4cg",
        "colab_type": "text"
      },
      "source": [
        "**SETUP**"
      ]
    },
    {
      "cell_type": "code",
      "metadata": {
        "id": "oBHS_9SOQ-gb",
        "colab_type": "code",
        "colab": {}
      },
      "source": [
        "learn.load('dotprod');"
      ],
      "execution_count": 0,
      "outputs": []
    },
    {
      "cell_type": "code",
      "metadata": {
        "id": "7ChunxIuQ-_3",
        "colab_type": "code",
        "outputId": "53658846-2ce4-4dc2-f9d3-92130a10a7bb",
        "colab": {
          "base_uri": "https://localhost:8080/",
          "height": 119
        }
      },
      "source": [
        "# What learn.model\n",
        "\n",
        "# What EmbeddingDotBias\n",
        "\n",
        "\n",
        "learn.model"
      ],
      "execution_count": 44,
      "outputs": [
        {
          "output_type": "execute_result",
          "data": {
            "text/plain": [
              "EmbeddingDotBias(\n",
              "  (u_weight): Embedding(944, 40)\n",
              "  (i_weight): Embedding(1654, 40)\n",
              "  (u_bias): Embedding(944, 1)\n",
              "  (i_bias): Embedding(1654, 1)\n",
              ")"
            ]
          },
          "metadata": {
            "tags": []
          },
          "execution_count": 44
        }
      ]
    },
    {
      "cell_type": "code",
      "metadata": {
        "id": "w3ZjOOGURAhq",
        "colab_type": "code",
        "outputId": "20164c0a-3d50-423d-e2d4-e2fd26f49695",
        "colab": {
          "base_uri": "https://localhost:8080/",
          "height": 68
        }
      },
      "source": [
        "# What g (also note count)\n",
        "\n",
        "g = rating_movie.groupby(title)['rating'].count()\n",
        "top_movies = g.sort_values(ascending=False).index.values[:1000]\n",
        "top_movies[:10]"
      ],
      "execution_count": 47,
      "outputs": [
        {
          "output_type": "execute_result",
          "data": {
            "text/plain": [
              "array(['Star Wars (1977)', 'Contact (1997)', 'Fargo (1996)', 'Return of the Jedi (1983)', 'Liar Liar (1997)',\n",
              "       'English Patient, The (1996)', 'Scream (1996)', 'Toy Story (1995)', 'Air Force One (1997)',\n",
              "       'Independence Day (ID4) (1996)'], dtype=object)"
            ]
          },
          "metadata": {
            "tags": []
          },
          "execution_count": 47
        }
      ]
    },
    {
      "cell_type": "markdown",
      "metadata": {
        "id": "hDCl4VPhRDsB",
        "colab_type": "text"
      },
      "source": [
        "**Movie Bias**"
      ]
    },
    {
      "cell_type": "code",
      "metadata": {
        "id": "GBHH1u71RCUq",
        "colab_type": "code",
        "outputId": "e74d8296-a16d-4835-c021-0c4a2025a434",
        "colab": {
          "base_uri": "https://localhost:8080/",
          "height": 34
        }
      },
      "source": [
        "# What\n",
        "\n",
        "movie_bias = learn.bias(top_movies, is_item=True)\n",
        "movie_bias.shape"
      ],
      "execution_count": 48,
      "outputs": [
        {
          "output_type": "execute_result",
          "data": {
            "text/plain": [
              "torch.Size([1000])"
            ]
          },
          "metadata": {
            "tags": []
          },
          "execution_count": 48
        }
      ]
    },
    {
      "cell_type": "code",
      "metadata": {
        "id": "JWuDEvm8RG8Q",
        "colab_type": "code",
        "colab": {}
      },
      "source": [
        "# WHat movie_ratings\n",
        "\n",
        "mean_ratings = rating_movie.groupby(title)['rating'].mean()\n",
        "movie_ratings = [(b, i, mean_ratings.loc[i]) for i,b in zip(top_movies,movie_bias)]"
      ],
      "execution_count": 0,
      "outputs": []
    },
    {
      "cell_type": "code",
      "metadata": {
        "id": "kxisdByrRJME",
        "colab_type": "code",
        "colab": {}
      },
      "source": [
        "# What\n",
        "# How\n",
        "\n",
        "item0 = lambda o:o[0]"
      ],
      "execution_count": 0,
      "outputs": []
    },
    {
      "cell_type": "code",
      "metadata": {
        "id": "cMdFhpRzRKuQ",
        "colab_type": "code",
        "outputId": "4e9b01bd-f7c7-4e05-b5f4-a188c628d131",
        "colab": {
          "base_uri": "https://localhost:8080/",
          "height": 340
        }
      },
      "source": [
        "sorted(movie_ratings, key=item0)[:15]"
      ],
      "execution_count": 51,
      "outputs": [
        {
          "output_type": "execute_result",
          "data": {
            "text/plain": [
              "[(tensor(-0.3632),\n",
              "  'Children of the Corn: The Gathering (1996)',\n",
              "  1.3157894736842106),\n",
              " (tensor(-0.2987),\n",
              "  'Lawnmower Man 2: Beyond Cyberspace (1996)',\n",
              "  1.7142857142857142),\n",
              " (tensor(-0.2968), 'Cable Guy, The (1996)', 2.339622641509434),\n",
              " (tensor(-0.2647), 'Striptease (1996)', 2.2388059701492535),\n",
              " (tensor(-0.2503), 'Mortal Kombat: Annihilation (1997)', 1.9534883720930232),\n",
              " (tensor(-0.2442), \"Joe's Apartment (1996)\", 2.2444444444444445),\n",
              " (tensor(-0.2422), 'Island of Dr. Moreau, The (1996)', 2.1578947368421053),\n",
              " (tensor(-0.2327), 'Grease 2 (1982)', 2.0),\n",
              " (tensor(-0.2290), 'Free Willy 3: The Rescue (1997)', 1.7407407407407407),\n",
              " (tensor(-0.2229), 'Bio-Dome (1996)', 1.903225806451613),\n",
              " (tensor(-0.2216), 'Beautician and the Beast, The (1997)', 2.313953488372093),\n",
              " (tensor(-0.2210), 'Crow: City of Angels, The (1996)', 1.9487179487179487),\n",
              " (tensor(-0.2198), \"Stephen King's The Langoliers (1995)\", 2.413793103448276),\n",
              " (tensor(-0.2145), 'Showgirls (1995)', 1.9565217391304348),\n",
              " (tensor(-0.2035), 'Home Alone 3 (1997)', 1.894736842105263)]"
            ]
          },
          "metadata": {
            "tags": []
          },
          "execution_count": 51
        }
      ]
    },
    {
      "cell_type": "code",
      "metadata": {
        "id": "7C3-4jo0RMUz",
        "colab_type": "code",
        "outputId": "e3f2e17f-543f-4160-84a1-23dec94bcc5b",
        "colab": {
          "base_uri": "https://localhost:8080/",
          "height": 272
        }
      },
      "source": [
        "sorted(movie_ratings, key=lambda o: o[0], reverse=True)[:15]"
      ],
      "execution_count": 52,
      "outputs": [
        {
          "output_type": "execute_result",
          "data": {
            "text/plain": [
              "[(tensor(0.6152), \"Schindler's List (1993)\", 4.466442953020135),\n",
              " (tensor(0.5910), 'Titanic (1997)', 4.2457142857142856),\n",
              " (tensor(0.5665), 'Shawshank Redemption, The (1994)', 4.445229681978798),\n",
              " (tensor(0.5489), 'L.A. Confidential (1997)', 4.161616161616162),\n",
              " (tensor(0.5399), 'Rear Window (1954)', 4.3875598086124405),\n",
              " (tensor(0.5341), 'Silence of the Lambs, The (1991)', 4.28974358974359),\n",
              " (tensor(0.5196), 'As Good As It Gets (1997)', 4.196428571428571),\n",
              " (tensor(0.5196), 'Star Wars (1977)', 4.3584905660377355),\n",
              " (tensor(0.4869), \"One Flew Over the Cuckoo's Nest (1975)\", 4.291666666666667),\n",
              " (tensor(0.4843), 'Good Will Hunting (1997)', 4.262626262626263),\n",
              " (tensor(0.4800), 'Casablanca (1942)', 4.45679012345679),\n",
              " (tensor(0.4726), 'Godfather, The (1972)', 4.283292978208232),\n",
              " (tensor(0.4634), 'To Kill a Mockingbird (1962)', 4.292237442922374),\n",
              " (tensor(0.4602), 'Usual Suspects, The (1995)', 4.385767790262173),\n",
              " (tensor(0.4491), 'Apt Pupil (1998)', 4.1)]"
            ]
          },
          "metadata": {
            "tags": []
          },
          "execution_count": 52
        }
      ]
    },
    {
      "cell_type": "code",
      "metadata": {
        "id": "g9Vrh9yrROLY",
        "colab_type": "code",
        "outputId": "f94d1301-967e-4d7e-bc92-2b5ee15ca5cd",
        "colab": {
          "base_uri": "https://localhost:8080/",
          "height": 34
        }
      },
      "source": [
        "# What\n",
        "\n",
        "movie_w = learn.weight(top_movies, is_item=True)\n",
        "movie_w.shape"
      ],
      "execution_count": 54,
      "outputs": [
        {
          "output_type": "execute_result",
          "data": {
            "text/plain": [
              "torch.Size([1000, 40])"
            ]
          },
          "metadata": {
            "tags": []
          },
          "execution_count": 54
        }
      ]
    },
    {
      "cell_type": "code",
      "metadata": {
        "id": "XuytBBesRQTv",
        "colab_type": "code",
        "outputId": "e4987ec5-b7d7-4e26-e579-25b36296cb06",
        "colab": {
          "base_uri": "https://localhost:8080/",
          "height": 34
        }
      },
      "source": [
        "# What pca\n",
        "\n",
        "movie_pca = movie_w.pca(3)\n",
        "movie_pca.shape"
      ],
      "execution_count": 55,
      "outputs": [
        {
          "output_type": "execute_result",
          "data": {
            "text/plain": [
              "torch.Size([1000, 3])"
            ]
          },
          "metadata": {
            "tags": []
          },
          "execution_count": 55
        }
      ]
    },
    {
      "cell_type": "code",
      "metadata": {
        "id": "paANkYp9NMHr",
        "colab_type": "code",
        "colab": {
          "base_uri": "https://localhost:8080/",
          "height": 136
        },
        "outputId": "22af2b34-2d0e-4237-fb25-d77cfcf49d28"
      },
      "source": [
        "movie_pca"
      ],
      "execution_count": 56,
      "outputs": [
        {
          "output_type": "execute_result",
          "data": {
            "text/plain": [
              "tensor([[-0.7408, -0.8743, -0.7233],\n",
              "        [-0.1202, -0.3147,  0.0848],\n",
              "        [-0.8452,  0.2322, -0.0853],\n",
              "        ...,\n",
              "        [ 0.1912,  0.3465,  0.0663],\n",
              "        [ 0.5786,  0.3956,  0.1251],\n",
              "        [ 0.4810, -0.1569, -0.0441]])"
            ]
          },
          "metadata": {
            "tags": []
          },
          "execution_count": 56
        }
      ]
    },
    {
      "cell_type": "code",
      "metadata": {
        "id": "Vgff2PUhRUIP",
        "colab_type": "code",
        "colab": {}
      },
      "source": [
        "# What\n",
        "\n",
        "fac0,fac1,fac2 = movie_pca.t()\n",
        "movie_comp = [(f, i) for f,i in zip(fac0, top_movies)]"
      ],
      "execution_count": 0,
      "outputs": []
    },
    {
      "cell_type": "code",
      "metadata": {
        "id": "lr5NPwL3RSmJ",
        "colab_type": "code",
        "outputId": "68fb07d6-7468-425d-f06e-ffcf2725fb85",
        "colab": {
          "base_uri": "https://localhost:8080/",
          "height": 187
        }
      },
      "source": [
        "# What key\n",
        "\n",
        "sorted(movie_comp, key=itemgetter(0), reverse=True)[:10]"
      ],
      "execution_count": 63,
      "outputs": [
        {
          "output_type": "execute_result",
          "data": {
            "text/plain": [
              "[(tensor(1.2953), \"McHale's Navy (1997)\"),\n",
              " (tensor(1.2154), 'D3: The Mighty Ducks (1996)'),\n",
              " (tensor(1.2078), 'Home Alone 3 (1997)'),\n",
              " (tensor(1.1803), 'Leave It to Beaver (1997)'),\n",
              " (tensor(1.1676), 'Children of the Corn: The Gathering (1996)'),\n",
              " (tensor(1.1671), 'Jungle2Jungle (1997)'),\n",
              " (tensor(1.0996), 'Bio-Dome (1996)'),\n",
              " (tensor(1.0867), 'Grease 2 (1982)'),\n",
              " (tensor(1.0597), 'Mortal Kombat: Annihilation (1997)'),\n",
              " (tensor(1.0561), 'Hellraiser: Bloodline (1996)')]"
            ]
          },
          "metadata": {
            "tags": []
          },
          "execution_count": 63
        }
      ]
    },
    {
      "cell_type": "code",
      "metadata": {
        "id": "iQM_G4LMRXIH",
        "colab_type": "code",
        "outputId": "7fd1c69e-2758-47a4-b1e9-2e6277d2abcb",
        "colab": {
          "base_uri": "https://localhost:8080/",
          "height": 187
        }
      },
      "source": [
        "sorted(movie_comp, key=itemgetter(0))[:10]"
      ],
      "execution_count": 64,
      "outputs": [
        {
          "output_type": "execute_result",
          "data": {
            "text/plain": [
              "[(tensor(-1.0969), 'Close Shave, A (1995)'),\n",
              " (tensor(-1.0617), 'Wrong Trousers, The (1993)'),\n",
              " (tensor(-1.0444), 'Wallace & Gromit: The Best of Aardman Animation (1996)'),\n",
              " (tensor(-1.0247), 'Casablanca (1942)'),\n",
              " (tensor(-0.9957), 'Chinatown (1974)'),\n",
              " (tensor(-0.9559), '12 Angry Men (1957)'),\n",
              " (tensor(-0.9554), 'Some Folks Call It a Sling Blade (1993)'),\n",
              " (tensor(-0.9550), 'Lawrence of Arabia (1962)'),\n",
              " (tensor(-0.9447), 'Godfather, The (1972)'),\n",
              " (tensor(-0.9232), 'Secrets & Lies (1996)')]"
            ]
          },
          "metadata": {
            "tags": []
          },
          "execution_count": 64
        }
      ]
    },
    {
      "cell_type": "code",
      "metadata": {
        "id": "UrH_FDeKRY2A",
        "colab_type": "code",
        "colab": {}
      },
      "source": [
        "# What\n",
        "\n",
        "movie_comp = [(f, i) for f,i in zip(fac1, top_movies)]"
      ],
      "execution_count": 0,
      "outputs": []
    },
    {
      "cell_type": "code",
      "metadata": {
        "id": "z0PEDVLnRaqg",
        "colab_type": "code",
        "outputId": "fc179f72-01f2-4889-8777-df9395bc6f29",
        "colab": {
          "base_uri": "https://localhost:8080/",
          "height": 187
        }
      },
      "source": [
        "sorted(movie_comp, key=itemgetter(0), reverse=True)[:10]"
      ],
      "execution_count": 66,
      "outputs": [
        {
          "output_type": "execute_result",
          "data": {
            "text/plain": [
              "[(tensor(0.8876), 'Keys to Tulsa (1997)'),\n",
              " (tensor(0.8343), 'Ready to Wear (Pret-A-Porter) (1994)'),\n",
              " (tensor(0.7922), 'Trainspotting (1996)'),\n",
              " (tensor(0.7586), 'Sweet Hereafter, The (1997)'),\n",
              " (tensor(0.7584), 'Jude (1996)'),\n",
              " (tensor(0.7503), 'Rosencrantz and Guildenstern Are Dead (1990)'),\n",
              " (tensor(0.7472), 'Clockwork Orange, A (1971)'),\n",
              " (tensor(0.7361), 'Nosferatu (Nosferatu, eine Symphonie des Grauens) (1922)'),\n",
              " (tensor(0.7340), 'Dead Man (1995)'),\n",
              " (tensor(0.7237), 'Cable Guy, The (1996)')]"
            ]
          },
          "metadata": {
            "tags": []
          },
          "execution_count": 66
        }
      ]
    },
    {
      "cell_type": "code",
      "metadata": {
        "id": "X8r8uKsYRczu",
        "colab_type": "code",
        "outputId": "4187db95-908b-4649-b7ea-e0a4b2d43805",
        "colab": {
          "base_uri": "https://localhost:8080/",
          "height": 187
        }
      },
      "source": [
        "sorted(movie_comp, key=itemgetter(0))[:10]"
      ],
      "execution_count": 67,
      "outputs": [
        {
          "output_type": "execute_result",
          "data": {
            "text/plain": [
              "[(tensor(-1.1619), 'Braveheart (1995)'),\n",
              " (tensor(-1.1550), 'Raiders of the Lost Ark (1981)'),\n",
              " (tensor(-1.1506), 'Titanic (1997)'),\n",
              " (tensor(-0.9251), \"It's a Wonderful Life (1946)\"),\n",
              " (tensor(-0.8875), 'Forrest Gump (1994)'),\n",
              " (tensor(-0.8743), 'Star Wars (1977)'),\n",
              " (tensor(-0.8625), 'American President, The (1995)'),\n",
              " (tensor(-0.8460), 'Independence Day (ID4) (1996)'),\n",
              " (tensor(-0.8369), 'Top Gun (1986)'),\n",
              " (tensor(-0.8259), \"Mr. Holland's Opus (1995)\")]"
            ]
          },
          "metadata": {
            "tags": []
          },
          "execution_count": 67
        }
      ]
    },
    {
      "cell_type": "code",
      "metadata": {
        "id": "IvBFYopCRec1",
        "colab_type": "code",
        "outputId": "dddb1f37-ba06-4d5c-b745-6073a64fc583",
        "colab": {
          "base_uri": "https://localhost:8080/",
          "height": 863
        }
      },
      "source": [
        "# What\n",
        "# Why\n",
        "\n",
        "\n",
        "idxs = np.random.choice(len(top_movies), 50, replace=False)\n",
        "idxs = list(range(50))\n",
        "X = fac0[idxs]\n",
        "Y = fac2[idxs]\n",
        "plt.figure(figsize=(15,15))\n",
        "plt.scatter(X, Y)\n",
        "for i, x, y in zip(top_movies[idxs], X, Y):\n",
        "    plt.text(x,y,i, color=np.random.rand(3)*0.7, fontsize=11)\n",
        "plt.show()"
      ],
      "execution_count": 68,
      "outputs": [
        {
          "output_type": "display_data",
          "data": {
            "image/png": "[encoded data removed]",
            "text/plain": [
              "<Figure size 1080x1080 with 1 Axes>"
            ]
          },
          "metadata": {
            "tags": []
          }
        }
      ]
    },
    {
      "cell_type": "code",
      "metadata": {
        "id": "xPbGdYMcN2kg",
        "colab_type": "code",
        "colab": {}
      },
      "source": [
        ""
      ],
      "execution_count": 0,
      "outputs": []
    }
  ]
}