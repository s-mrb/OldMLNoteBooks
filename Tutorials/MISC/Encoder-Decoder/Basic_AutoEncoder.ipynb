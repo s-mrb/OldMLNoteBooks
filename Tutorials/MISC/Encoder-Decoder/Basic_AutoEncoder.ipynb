{
  "nbformat": 4,
  "nbformat_minor": 0,
  "metadata": {
    "colab": {
      "name": "Basic_AutoEncoder.ipynb",
      "provenance": [],
      "collapsed_sections": []
    },
    "kernelspec": {
      "name": "python3",
      "display_name": "Python 3"
    },
    "accelerator": "GPU"
  },
  "cells": [
    {
      "cell_type": "markdown",
      "metadata": {
        "id": "xJFE4zpVTsb-",
        "colab_type": "text"
      },
      "source": [
        "The motivation behind this notebook comes from [Sebastian Rachka](https://sebastianraschka.com/) who constantly inspires me through his work in the field of deep learning. Quite a few days, he open-sourced his repo [deeplearning-models](https://github.com/rasbt/deeplearning-models) which contains implementations of a wide variety of deep learning models. I started with [this notebook](https://github.com/rasbt/deeplearning-models/blob/master/pytorch_ipynb/autoencoder/ae-basic.ipynb) which shows a very simplistic and minimal implementation of a fully-connected _autoencoder_."
      ]
    },
    {
      "cell_type": "code",
      "metadata": {
        "id": "GAVJ51jU-IDn",
        "colab_type": "code",
        "colab": {}
      },
      "source": [
        "!pip install tensorflow-gpu==2.0.0-beta0"
      ],
      "execution_count": null,
      "outputs": []
    },
    {
      "cell_type": "code",
      "metadata": {
        "id": "iVlye4JL-WF5",
        "colab_type": "code",
        "colab": {
          "base_uri": "https://localhost:8080/",
          "height": 36
        },
        "outputId": "3b50c843-1325-464e-bb92-d44a5ad4c841"
      },
      "source": [
        "# Imports\n",
        "import tensorflow as tf\n",
        "from tensorflow.keras.datasets import mnist\n",
        "import numpy as np\n",
        "np.random.seed(7)\n",
        "\n",
        "print(tf.__version__)"
      ],
      "execution_count": null,
      "outputs": [
        {
          "output_type": "stream",
          "text": [
            "2.0.0-beta0\n"
          ],
          "name": "stdout"
        }
      ]
    },
    {
      "cell_type": "code",
      "metadata": {
        "id": "pkA93pC6-knh",
        "colab_type": "code",
        "colab": {
          "base_uri": "https://localhost:8080/",
          "height": 74
        },
        "outputId": "05da897f-3658-4fb1-9702-4f9b8d9110cd"
      },
      "source": [
        "# Load the MNIST dataset\n",
        "(X_train, y_train), (X_test, y_test) = mnist.load_data()\n",
        "\n",
        "print(X_train.shape, X_test.shape)"
      ],
      "execution_count": null,
      "outputs": [
        {
          "output_type": "stream",
          "text": [
            "Downloading data from https://storage.googleapis.com/tensorflow/tf-keras-datasets/mnist.npz\n",
            "11493376/11490434 [==============================] - 0s 0us/step\n",
            "(60000, 28, 28) (10000, 28, 28)\n"
          ],
          "name": "stdout"
        }
      ]
    },
    {
      "cell_type": "code",
      "metadata": {
        "id": "W2rHWxLTEPig",
        "colab_type": "code",
        "colab": {}
      },
      "source": [
        "# Define the constants\n",
        "NUM_FEATURES = 784\n",
        "UNITS = 32"
      ],
      "execution_count": null,
      "outputs": []
    },
    {
      "cell_type": "code",
      "metadata": {
        "id": "zHbkofHY-3Bk",
        "colab_type": "code",
        "colab": {}
      },
      "source": [
        "# Custom class for a simple FC autoencoder\n",
        "class AutoEncoder(tf.keras.Model):\n",
        "  \n",
        "  def __init__(self, num_features, units):\n",
        "    super(AutoEncoder, self).__init__()\n",
        "    self.encoder = tf.keras.layers.Dense(units, activation='linear', \n",
        "                                         input_shape=(num_features,),\n",
        "                                         kernel_initializer='glorot_normal',\n",
        "                                         bias_initializer='zeros')\n",
        "    self.decoder = tf.keras.layers.Dense(num_features, activation='linear', input_shape=(units,))\n",
        "    self.leaky_relu = tf.keras.layers.LeakyReLU(0.5)\n",
        "  \n",
        "  def call(self, x):\n",
        "    encoded = self.encoder(x)\n",
        "    encoded = self.leaky_relu(encoded)\n",
        "    decoded = tf.sigmoid(self.decoder(encoded))\n",
        "    return decoded\n",
        "\n",
        "# Instantiate the autoencoder\n",
        "auto_encoder = AutoEncoder(NUM_FEATURES, UNITS)"
      ],
      "execution_count": null,
      "outputs": []
    },
    {
      "cell_type": "code",
      "metadata": {
        "id": "-6rsrMCcEsY8",
        "colab_type": "code",
        "colab": {}
      },
      "source": [
        "# Define loss function and optimizer\n",
        "loss_func = tf.keras.losses.BinaryCrossentropy()\n",
        "optimizer = tf.keras.optimizers.Adam(learning_rate=0.001)"
      ],
      "execution_count": null,
      "outputs": []
    },
    {
      "cell_type": "code",
      "metadata": {
        "id": "7Ajqnm69FR56",
        "colab_type": "code",
        "colab": {
          "base_uri": "https://localhost:8080/",
          "height": 36
        },
        "outputId": "0dedf00f-70ce-485f-c322-136da53d7197"
      },
      "source": [
        "# Flatten the training images\n",
        "X_train_copy = X_train.copy()\n",
        "\n",
        "X_train_copy = X_train_copy.reshape(60000, 28*28).astype(np.float32)\n",
        "\n",
        "print(X_train_copy.shape)"
      ],
      "execution_count": null,
      "outputs": [
        {
          "output_type": "stream",
          "text": [
            "(60000, 784)\n"
          ],
          "name": "stdout"
        }
      ]
    },
    {
      "cell_type": "code",
      "metadata": {
        "id": "fhXJ-_9aGUTx",
        "colab_type": "code",
        "colab": {}
      },
      "source": [
        "# Batches of 64\n",
        "train_ds = tf.data.Dataset.from_tensor_slices((X_train_copy, y_train)).batch(64)"
      ],
      "execution_count": null,
      "outputs": []
    },
    {
      "cell_type": "code",
      "metadata": {
        "id": "awOBPf9pHG8a",
        "colab_type": "code",
        "colab": {}
      },
      "source": [
        "# Average out the loss after each epoch\n",
        "train_loss = tf.keras.metrics.Mean(name='train_loss')"
      ],
      "execution_count": null,
      "outputs": []
    },
    {
      "cell_type": "code",
      "metadata": {
        "id": "Si85usXjG8Ve",
        "colab_type": "code",
        "colab": {}
      },
      "source": [
        "# Train the model\n",
        "@tf.function\n",
        "def model_train(features):\n",
        "    # Define the GradientTape context\n",
        "    with tf.GradientTape() as tape:\n",
        "        # Get the probabilities\n",
        "        decoded = auto_encoder(features)\n",
        "        # Calculate the loss\n",
        "        loss = loss_func(decoded, features)\n",
        "    # Get the gradients\n",
        "    gradients = tape.gradient(loss, auto_encoder.trainable_variables)\n",
        "    # Update the weights\n",
        "    optimizer.apply_gradients(zip(gradients, auto_encoder.trainable_variables))\n",
        "\n",
        "    train_loss(loss)\n",
        "    return decoded"
      ],
      "execution_count": null,
      "outputs": []
    },
    {
      "cell_type": "code",
      "metadata": {
        "id": "390JgOXiHe2h",
        "colab_type": "code",
        "colab": {
          "base_uri": "https://localhost:8080/",
          "height": 397
        },
        "outputId": "2ca000e9-ddb8-4e48-d0db-f16760fe1953"
      },
      "source": [
        "# Begin training\n",
        "decode_list = []\n",
        "for epoch in range(20):\n",
        "  for features, _ in train_ds:\n",
        "    features = features\n",
        "    decoded = model_train(features)\n",
        "  \n",
        "  template = 'Epoch {}, loss: {}'\n",
        "  print (template.format(epoch+1,\n",
        "                         train_loss.result()))"
      ],
      "execution_count": null,
      "outputs": [
        {
          "output_type": "stream",
          "text": [
            "Epoch 1, loss: 1.649407982826233\n",
            "Epoch 2, loss: 1.3055578470230103\n",
            "Epoch 3, loss: 1.1296701431274414\n",
            "Epoch 4, loss: 1.0245317220687866\n",
            "Epoch 5, loss: 0.9548731446266174\n",
            "Epoch 6, loss: 0.9051530957221985\n",
            "Epoch 7, loss: 0.866610586643219\n",
            "Epoch 8, loss: 0.8354974389076233\n",
            "Epoch 9, loss: 0.8103290796279907\n",
            "Epoch 10, loss: 0.7897171378135681\n",
            "Epoch 11, loss: 0.7726050019264221\n",
            "Epoch 12, loss: 0.7579894065856934\n",
            "Epoch 13, loss: 0.7453299760818481\n",
            "Epoch 14, loss: 0.7341734170913696\n",
            "Epoch 15, loss: 0.7243269085884094\n",
            "Epoch 16, loss: 0.715560793876648\n",
            "Epoch 17, loss: 0.7077820897102356\n",
            "Epoch 18, loss: 0.700776994228363\n",
            "Epoch 19, loss: 0.6943405866622925\n",
            "Epoch 20, loss: 0.6884656548500061\n"
          ],
          "name": "stdout"
        }
      ]
    },
    {
      "cell_type": "code",
      "metadata": {
        "id": "BYWy0mc7H29S",
        "colab_type": "code",
        "colab": {
          "base_uri": "https://localhost:8080/",
          "height": 187
        },
        "outputId": "771160e3-8769-4de5-9365-b7fd4abfe413"
      },
      "source": [
        "%matplotlib inline\n",
        "import matplotlib.pyplot as plt\n",
        "\n",
        "##########################\n",
        "### VISUALIZATION\n",
        "##########################\n",
        "\n",
        "n_images = 15\n",
        "image_width = 28\n",
        "\n",
        "fig, axes = plt.subplots(nrows=2, ncols=n_images, \n",
        "                         sharex=True, sharey=True, figsize=(20, 2.5))\n",
        "orig_images = features[:n_images].numpy()\n",
        "decoded_images = decoded[:n_images].numpy()\n",
        "\n",
        "for i in range(n_images):\n",
        "    for ax, img in zip(axes, [orig_images, decoded_images]):\n",
        "        curr_img = img[i]\n",
        "        ax[i].imshow(curr_img.reshape((image_width, image_width)), cmap='binary')"
      ],
      "execution_count": null,
      "outputs": [
        {
          "output_type": "display_data",
          "data": {
            "image/png": "[encoded data removed]",
            "text/plain": [
              "<Figure size 1440x180 with 30 Axes>"
            ]
          },
          "metadata": {
            "tags": []
          }
        }
      ]
    }
  ]
}