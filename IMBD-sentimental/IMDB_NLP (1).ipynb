{
  "nbformat": 4,
  "nbformat_minor": 0,
  "metadata": {
    "colab": {
      "name": "IMDB_NLP.ipynb",
      "provenance": [],
      "collapsed_sections": []
    },
    "kernelspec": {
      "name": "python3",
      "display_name": "Python 3"
    },
    "accelerator": "GPU"
  },
  "cells": [
    {
      "cell_type": "code",
      "metadata": {
        "id": "TbqQ1cFsv_Oa",
        "colab_type": "code",
        "colab": {}
      },
      "source": [
        "%reload_ext autoreload\n",
        "%autoreload 2\n",
        "%matplotlib inline"
      ],
      "execution_count": 0,
      "outputs": []
    },
    {
      "cell_type": "code",
      "metadata": {
        "id": "wcrXVot4wOjY",
        "colab_type": "code",
        "colab": {}
      },
      "source": [
        "from fastai.text import *"
      ],
      "execution_count": 0,
      "outputs": []
    },
    {
      "cell_type": "code",
      "metadata": {
        "id": "YkujwKovwQi2",
        "colab_type": "code",
        "colab": {}
      },
      "source": [
        ""
      ],
      "execution_count": 0,
      "outputs": []
    },
    {
      "cell_type": "markdown",
      "metadata": {
        "id": "JEkDaeRJwSCK",
        "colab_type": "text"
      },
      "source": [
        "**Preparing the data**"
      ]
    },
    {
      "cell_type": "markdown",
      "metadata": {
        "id": "cz1W-h_wxD0O",
        "colab_type": "text"
      },
      "source": [
        " begin with a sample we've prepared for you, so that things run quickly before going over the full dataset."
      ]
    },
    {
      "cell_type": "code",
      "metadata": {
        "id": "sVSjeqz7wUE5",
        "colab_type": "code",
        "outputId": "ebd4e3e7-ade0-4f1a-d239-6dee3ce5787f",
        "colab": {
          "base_uri": "https://localhost:8080/",
          "height": 50
        }
      },
      "source": [
        "path = untar_data(URLs.IMDB_SAMPLE)\n",
        "path.ls()"
      ],
      "execution_count": 3,
      "outputs": [
        {
          "output_type": "stream",
          "text": [
            "Downloading http://files.fast.ai/data/examples/imdb_sample\n"
          ],
          "name": "stdout"
        },
        {
          "output_type": "display_data",
          "data": {
            "text/html": [
              ""
            ],
            "text/plain": [
              "<IPython.core.display.HTML object>"
            ]
          },
          "metadata": {
            "tags": []
          }
        },
        {
          "output_type": "execute_result",
          "data": {
            "text/plain": [
              "[PosixPath('/root/.fastai/data/imdb_sample/texts.csv')]"
            ]
          },
          "metadata": {
            "tags": []
          },
          "execution_count": 3
        }
      ]
    },
    {
      "cell_type": "code",
      "metadata": {
        "id": "GD3ruXSGxGxY",
        "colab_type": "code",
        "outputId": "6795b76a-3e41-46ac-aa2b-6943151a1633",
        "colab": {
          "base_uri": "https://localhost:8080/",
          "height": 196
        }
      },
      "source": [
        "df = pd.read_csv(path/'texts.csv')\n",
        "df.head()"
      ],
      "execution_count": 4,
      "outputs": [
        {
          "output_type": "execute_result",
          "data": {
            "text/html": [
              "<div>\n",
              "<style scoped>\n",
              "    .dataframe tbody tr th:only-of-type {\n",
              "        vertical-align: middle;\n",
              "    }\n",
              "\n",
              "    .dataframe tbody tr th {\n",
              "        vertical-align: top;\n",
              "    }\n",
              "\n",
              "    .dataframe thead th {\n",
              "        text-align: right;\n",
              "    }\n",
              "</style>\n",
              "<table border=\"1\" class=\"dataframe\">\n",
              "  <thead>\n",
              "    <tr style=\"text-align: right;\">\n",
              "      <th></th>\n",
              "      <th>label</th>\n",
              "      <th>text</th>\n",
              "      <th>is_valid</th>\n",
              "    </tr>\n",
              "  </thead>\n",
              "  <tbody>\n",
              "    <tr>\n",
              "      <th>0</th>\n",
              "      <td>negative</td>\n",
              "      <td>Un-bleeping-believable! Meg Ryan doesn't even ...</td>\n",
              "      <td>False</td>\n",
              "    </tr>\n",
              "    <tr>\n",
              "      <th>1</th>\n",
              "      <td>positive</td>\n",
              "      <td>This is a extremely well-made film. The acting...</td>\n",
              "      <td>False</td>\n",
              "    </tr>\n",
              "    <tr>\n",
              "      <th>2</th>\n",
              "      <td>negative</td>\n",
              "      <td>Every once in a long while a movie will come a...</td>\n",
              "      <td>False</td>\n",
              "    </tr>\n",
              "    <tr>\n",
              "      <th>3</th>\n",
              "      <td>positive</td>\n",
              "      <td>Name just says it all. I watched this movie wi...</td>\n",
              "      <td>False</td>\n",
              "    </tr>\n",
              "    <tr>\n",
              "      <th>4</th>\n",
              "      <td>negative</td>\n",
              "      <td>This movie succeeds at being one of the most u...</td>\n",
              "      <td>False</td>\n",
              "    </tr>\n",
              "  </tbody>\n",
              "</table>\n",
              "</div>"
            ],
            "text/plain": [
              "      label                                               text  is_valid\n",
              "0  negative  Un-bleeping-believable! Meg Ryan doesn't even ...     False\n",
              "1  positive  This is a extremely well-made film. The acting...     False\n",
              "2  negative  Every once in a long while a movie will come a...     False\n",
              "3  positive  Name just says it all. I watched this movie wi...     False\n",
              "4  negative  This movie succeeds at being one of the most u...     False"
            ]
          },
          "metadata": {
            "tags": []
          },
          "execution_count": 4
        }
      ]
    },
    {
      "cell_type": "code",
      "metadata": {
        "id": "5Kjho03NxKxD",
        "colab_type": "code",
        "outputId": "6126d993-5438-4ee9-c7b5-5ea2a9e50f31",
        "colab": {
          "base_uri": "https://localhost:8080/",
          "height": 53
        }
      },
      "source": [
        "df['text'][1]"
      ],
      "execution_count": 0,
      "outputs": [
        {
          "output_type": "execute_result",
          "data": {
            "text/plain": [
              "'This is a extremely well-made film. The acting, script and camera-work are all first-rate. The music is good, too, though it is mostly early in the film, when things are still relatively cheery. There are no really superstars in the cast, though several faces will be familiar. The entire cast does an excellent job with the script.<br /><br />But it is hard to watch, because there is no good end to a situation like the one presented. It is now fashionable to blame the British for setting Hindus and Muslims against each other, and then cruelly separating them into two countries. There is some merit in this view, but it\\'s also true that no one forced Hindus and Muslims in the region to mistreat each other as they did around the time of partition. It seems more likely that the British simply saw the tensions between the religions and were clever enough to exploit them to their own ends.<br /><br />The result is that there is much cruelty and inhumanity in the situation and this is very unpleasant to remember and to see on the screen. But it is never painted as a black-and-white case. There is baseness and nobility on both sides, and also the hope for change in the younger generation.<br /><br />There is redemption of a sort, in the end, when Puro has to make a hard choice between a man who has ruined her life, but also truly loved her, and her family which has disowned her, then later come looking for her. But by that point, she has no option that is without great pain for her.<br /><br />This film carries the message that both Muslims and Hindus have their grave faults, and also that both can be dignified and caring people. The reality of partition makes that realisation all the more wrenching, since there can never be real reconciliation across the India/Pakistan border. In that sense, it is similar to \"Mr & Mrs Iyer\".<br /><br />In the end, we were glad to have seen the film, even though the resolution was heartbreaking. If the UK and US could deal with their own histories of racism with this kind of frankness, they would certainly be better off.'"
            ]
          },
          "metadata": {
            "tags": []
          },
          "execution_count": 5
        }
      ]
    },
    {
      "cell_type": "code",
      "metadata": {
        "id": "egg9KRAJxMf5",
        "colab_type": "code",
        "outputId": "cc5d33d1-a628-4cc4-dbd3-c8627b2a21a3",
        "colab": {
          "base_uri": "https://localhost:8080/",
          "height": 17
        }
      },
      "source": [
        "data_lm = TextDataBunch.from_csv(path, 'texts.csv')"
      ],
      "execution_count": 5,
      "outputs": [
        {
          "output_type": "display_data",
          "data": {
            "text/html": [
              ""
            ],
            "text/plain": [
              "<IPython.core.display.HTML object>"
            ]
          },
          "metadata": {
            "tags": []
          }
        },
        {
          "output_type": "display_data",
          "data": {
            "text/html": [
              ""
            ],
            "text/plain": [
              "<IPython.core.display.HTML object>"
            ]
          },
          "metadata": {
            "tags": []
          }
        }
      ]
    },
    {
      "cell_type": "code",
      "metadata": {
        "id": "iGm6e3m2j3Rd",
        "colab_type": "code",
        "outputId": "97da58a8-2612-4b15-b710-b679094f4ba0",
        "colab": {
          "base_uri": "https://localhost:8080/",
          "height": 789
        }
      },
      "source": [
        "data_lm"
      ],
      "execution_count": 0,
      "outputs": [
        {
          "output_type": "execute_result",
          "data": {
            "text/plain": [
              "TextClasDataBunch;\n",
              "\n",
              "Train: LabelList (799 items)\n",
              "x: TextList\n",
              "xxbos xxmaj the views of xxmaj earth that are claimed in this film to have been faked by xxup nasa have recently been compared with the historical weather data for the time of xxmaj xxunk 11 , and show a good match between the cloud patterns in the video sequence and the actual xxunk records on the day . \n",
              " \n",
              "  xxmaj this would seem to undermine the entire argument put forward in the film that the \" whole xxmaj earth \" picture is actually a small part of the planet xxunk by the xxunk window . \n",
              " \n",
              "  i am waiting for xxmaj bart xxmaj sibrel to now claim that the historical weather data has been faked by xxup nasa , though that would no doubt involve them in also replacing every xxunk newspaper copy with a weather map , and the ones in private hands would still be a problem . \n",
              " \n",
              "  xxmaj ah , a response : \" xxmaj trying to xxunk this movie by xxunk to xxup nasa weather data i 'd say is a charming , but weak and xxunk argument . xxmaj what about the rest of the footage and xxunk in the movie ? a certain wise man once said something about xxunk xxunk and xxunk xxunk . xxmaj do you in any way feel that maybe this could apply to what you are trying to do here ? :-) xxmaj this movie is just packed with irrefutable evidence against the claim once made by xxup u.s. government that the moon - missions were a success , and that man now are true masters of the universe . xxmaj things are nearly never quite what they seem .. xxmaj just watch the movie , and i dear say you 'll see things a bit different than before . \" \n",
              " \n",
              "  xxmaj first off , weather data does n't come from xxup nasa , it comes for met agencies around the world . xxmaj second , the weather data undermines a major claim in the film . xxmaj third , far from being \" packed with irrefutable evidence \" , the remaining claims in the film have been thoroughly xxunk . xxmaj sibrel thought he had a previously secret piece of film , so he edited it and added his own interpretation . xxmaj unfortunately for him , his source film is public xxunk , and the bits xxmaj sibrel edited out contradict his claims .,xxbos xxmaj here i thought \" xxmaj xxunk of the north \" was the last word in archaic semi - doc ' eskimo ' movies . xxmaj how wrong ! xxmaj as an avid sea - xxunk i stayed up till xxunk to watch this hoping to get a glimpse of some hand - made ' skin - xxunk ' . xxmaj the movie did not let me down . xxmaj any student of xxunk / xxunk construction should have a look - see here . ( xxmaj note to fellow xxunk : they appear to be using xxmaj xxunk xxmaj sound xxunk with single blade xxunk ) . \n",
              " \n",
              "  xxmaj but the film went way beyond this admittedly xxunk interest . xxmaj even though there were as others have noted some little back - shot - xxunk - bits the movie has so much heart they are just a minor xxunk . xxmaj it was ( from this very amateur anthropologist 's viewpoint ) probably the perfect time to make this movie . xxmaj early thirties : the ' xxunk ' are so new that they ( including xxmaj xxunk xxup b. xxmaj xxunk ! ) actually let the xxmaj xxunk speak in their own tongue . xxmaj and there is so much that was still , despite the xxunk melodrama , authentic . xxmaj they are really xxunk that polar bear , that xxunk and those xxunk . a xxunk version of this film would have been so cheesy with ' stars ' , xxmaj technicolor , etc . to xxunk it up . xxmaj the seventies version ? xxmaj do n't even . a very good companion piece to this excellent movie is \" xxmaj white shadows in the south xxunk \" ( xxunk ) xxmaj xxunk the mirror image to \" xxmaj eskimo \" it also deals with the relentless and profound xxunk of xxmaj western culture / technology on an xxunk people .,xxbos xxmaj this is by far the funniest short made by the two comic geniuses . xxmaj from the time they walk in , to the time xxmaj hardy just falls off the roof , this keeps me laughing xxunk . i highly suggest that every fan of xxmaj laurel and xxmaj hardy should see this short . i also recommend all of the xxmaj ghost xxmaj series . xxmaj if you are looking for laughs , see this movie and you will be happy .,xxbos this is not just a bad film , it 's one of the worst films ever . it 's so bad that i found it to be quite enjoyable . the acting , oh my god , the script , you got ta be xxunk ' . how can you imagine the writer coming up with things like : - a kid who makes fireworks in school , fireworks xxup so xxunk , that when someone gets hit by it , they fly a hundred xxunk backwards and explode . xxunk girl is trapped in the xxunk , the killer is trying to break open the door . she gets a xxunk , but the wire is n't long enough . she first makes an xxunk xxunk , oh the horror , and then , when she 's done , she drills through the door and drills through the head of the killer . xxup wow - and there are plenty more examples like that . oh yeah , and what happened to xxmaj george xxmaj kennedy , he used to be great ( xxmaj xxunk and xxmaj xxunk / xxmaj cool hand xxmaj luke ),xxbos i liked the film . xxmaj some of the action scenes were very interesting , tense and well done . i especially liked the opening scene which had a semi truck in it . a very tense action scene that seemed well done . \n",
              " \n",
              "  xxmaj some of the xxunk scenes were filmed in interesting ways such as time xxunk photography , unusual colors , or interesting angles . xxmaj also the film is funny is several parts . i also liked how the evil guy was portrayed too . i 'd give the film an 8 out of 10 .\n",
              "y: CategoryList\n",
              "negative,positive,positive,negative,positive\n",
              "Path: /root/.fastai/data/imdb_sample;\n",
              "\n",
              "Valid: LabelList (201 items)\n",
              "x: TextList\n",
              "xxbos i picked this xxup dvd up at the xxmaj dollar xxmaj store . xxmaj the xxup dvd was on the 2 for $ 1 rack , but since it had xxmaj michael xxmaj xxunk in it , i thought that since i had never seen the movie , i bought it anyway . \n",
              " \n",
              "  i must say that i did n't like the movie . xxmaj the movie played more like a documentary or an xxunk for religion than anything else . i found that the director 's use of flashbacks did not add to the story line for me . i would have preferred to view the story line in xxunk order . \n",
              " \n",
              "  i wo n't throw it away like one of the other xxunk , but xxmaj it may be quite awhile before i would consider watching this movie again . \n",
              " \n",
              "  xxmaj who knows , since it was xxmaj michael xxmaj xxunk 's film debut , maybe it might have some xxunk value at some future date .,xxbos xxmaj xxunk xxmaj xxunk xxmaj police is without a shell of a doubt , one of the most amazing shows ever produced , but not just in the field of animation . xxmaj while the first part ( xxmaj acts 1 and 2 ) mostly consists of action and fun , the second part is more serious and one should not treat the second part in the exact same way as first part . xxmaj the xxunk are truly out of this world and the characterization is beyond brilliant . xxmaj you must have an extra degree of intelligence to appreciate the xxunk of the second xxmaj part ( xxmaj xxunk and 4 ) . i do have some complaints though . xxmaj in the first part , the xxmaj xxunk xxmaj xxunk quite literally jumps over a xxunk shell and it did not make any sense at all . xxmaj one might also question the xxunk of xxmaj xxunk jumping on the wing of xxmaj helicopter xxmaj xxunk even though it was cool . xxmaj xxunk rules .,xxbos xxmaj rosie wasted a lot of xxup tv time talking about the xxmaj xxunk as if they were super xxunk in the xxunk of the modern day xxmaj xxunk xxmaj xxunk . xxmaj they were not . xxmaj the truth is that the xxmaj africans and the xxmaj spanish were and she knows it . xxmaj what kills me is that she is standing on the screen looking like some average light skin black chick ( with an obvious black daddy , xxunk and xxunk to truly xxunk the real essence of what makes them the modern day xxmaj xxunk xxmaj xxunk , but barely mentioned how xxmaj africans xxunk the way their xxmaj spanish is spoken , the food and music . xxmaj she is so typical and i lost a lot of respect for her and will not support anything else she does . xxmaj also , since she wants to dance around her xxmaj african - ness then she need not take more roles associated with xxunk ( i.e. xxmaj xxunk xxmaj blues ) . xxmaj we can find a xxunk xxmaj black xxmaj xxunk next time ( thank you xxmaj zoe xxmaj xxunk , xxmaj gina xxmaj xxunk , xxmaj gina xxmaj xxunk and xxmaj melissa xxunk ) . \n",
              " \n",
              "  xxmaj to the xxmaj xxunk xxmaj xxunk on here that said they are xxmaj african and not \" black \" xxrep 4 . thank you . xxmaj we \" blacks \" certainly do not have anything in common with \" you \" so there is no love lost . xxmaj but , since you are probably in the xxmaj states and have benefited from the xxmaj civil xxmaj rights movement we would like for you refuse any decent human treatment you received xxunk of the blood , sweat and tears from the backs of the \" blacks \" you share nothing with . \n",
              " \n",
              "  xxmaj if i am correct xxmaj xxunk xxmaj xxunk have a terrible image in the media , but we blacks do not spend our time trying to xxunk you because we know that the media loves to exploits the low points and xxunk of all xxunk to maintain mindless xxunk . xxmaj however , you evidently have fed into the hype that one you are somehow white or superior ... you are not . xxmaj also , you somehow feel compelled to believe that black culture is xxup bet ... again you are incorrect and need to take a vacation out of the hood . xxmaj try visiting xxmaj xxunk , xxmaj xxunk , xxmaj xxunk , xxmaj texas , xxmaj charlotte , xxup xxunk xxmaj trust me none of those blacks want to claim your \" culture \" either .,xxbos xxmaj another made for xxup tv piece of junk ! xxmaj this is an insult of a war movie ( i use the word movie in it 's xxunk possible form ! ) i thought xxmaj telly xxmaj xxunk 's career had hit rock bottom when he did the voice over on that visit xxmaj xxunk video that 's shown on xxmaj xxunk on xxup tv on a semi regular basis , but then i 'd forgot he was involved in this ! i 'd tried to push it into my subconscious memory , but cable xxup tv brought the memory kicking and screaming out of me ! ! \n",
              " \n",
              "  i like the bit ( laughs xxunk ! ) in the film which claims to be a scene from xxmaj xxunk in the forties , but it 's blatantly a shot of xxmaj xxunk xxmaj xxunk in the late xxunk . xxmaj also the steam train the xxmaj commando 's are training on shows the xxup xxunk ( xxmaj xxunk xxmaj xxunk , or xxmaj xxunk state xxunk ) logo 's on the side of the xxunk quite clearly , even though the makers have tried to black them out . xxmaj why not just film in the xxup uk , if that 's where most of the film is set ? \n",
              " \n",
              "  xxmaj cheap rubbish , and a waste of celluloid !,xxbos xxmaj in a movie that follows a struggling actor , played , evidently , by a struggling actor , this does no xxunk for xxmaj chris xxmaj xxunk . xxmaj he struggles to bring anything memorable to the role and xxunk on through the shallow script xxunk to display , what could only be described as , a bland leading man . xxmaj the story exists , but that is all , and fails to show any basic start , middle and end and the viewer is left xxunk his shoulders feeling as though nothing in the past hour and three quarters has really happened . \n",
              " \n",
              "  xxmaj one bright light in the xxunk of this is xxmaj fred xxmaj xxunk , who manages to stand out above his seemingly xxunk talented co - stars and does a semi - decent job of bringing the backward character of xxmaj xxunk to life . xxmaj whether xxmaj fred can re - create this when working with a higher xxunk of cast remains to be seen but xxmaj xxunk be watching out for him in future .\n",
              "y: CategoryList\n",
              "negative,positive,negative,negative,negative\n",
              "Path: /root/.fastai/data/imdb_sample;\n",
              "\n",
              "Test: None"
            ]
          },
          "metadata": {
            "tags": []
          },
          "execution_count": 12
        }
      ]
    },
    {
      "cell_type": "markdown",
      "metadata": {
        "id": "CUA3bpv4xYdN",
        "colab_type": "text"
      },
      "source": [
        "**NOTE**"
      ]
    },
    {
      "cell_type": "markdown",
      "metadata": {
        "id": "YX0cFPEZlqoC",
        "colab_type": "text"
      },
      "source": [
        "By executing this line a process was launched that took a bit of time. \n",
        "Lets dig a bit into it. Images could be fed (almost) directly into a model\n",
        " because they are just a big array of pixel values that are floats between 0 and 1.\n",
        "  A text is composed of words, and we can not apply mathematical functions to them directly.\n",
        "   We first have to convert them to numbers.\n",
        " This is done in two differents steps: tokenization and numericalization.\n",
        "  A TextDataBunch does all of that behind the scenes for you."
      ]
    },
    {
      "cell_type": "markdown",
      "metadata": {
        "id": "JGKiXj1dxxub",
        "colab_type": "text"
      },
      "source": [
        "Before we delve into the explanations, let's take the time to save the things that were calculated."
      ]
    },
    {
      "cell_type": "code",
      "metadata": {
        "id": "0Muse1xAxyv_",
        "colab_type": "code",
        "colab": {}
      },
      "source": [
        "data_lm.save()"
      ],
      "execution_count": 0,
      "outputs": []
    },
    {
      "cell_type": "markdown",
      "metadata": {
        "id": "MI09iYhlx4cE",
        "colab_type": "text"
      },
      "source": [
        "**NOTE**\n",
        "Next time we launch this notebook, we can skip the cell above that took a bit of time (and that will take a lot more when you get to the full dataset) and load those results like this:"
      ]
    },
    {
      "cell_type": "code",
      "metadata": {
        "id": "YBLJpAg5x7Tw",
        "colab_type": "code",
        "colab": {}
      },
      "source": [
        "data = load_data(path)"
      ],
      "execution_count": 0,
      "outputs": []
    },
    {
      "cell_type": "code",
      "metadata": {
        "id": "nPezIWo4lxea",
        "colab_type": "code",
        "outputId": "46251349-647d-4b39-ee5f-b6c003c23e65",
        "colab": {
          "base_uri": "https://localhost:8080/",
          "height": 33
        }
      },
      "source": [
        "path"
      ],
      "execution_count": 0,
      "outputs": [
        {
          "output_type": "execute_result",
          "data": {
            "text/plain": [
              "PosixPath('/root/.fastai/data/imdb_sample')"
            ]
          },
          "metadata": {
            "tags": []
          },
          "execution_count": 10
        }
      ]
    },
    {
      "cell_type": "markdown",
      "metadata": {
        "id": "ZaTjMTgOmD5u",
        "colab_type": "text"
      },
      "source": [
        "**Tokenization**"
      ]
    },
    {
      "cell_type": "code",
      "metadata": {
        "id": "9CPav51Vxkq0",
        "colab_type": "code",
        "outputId": "9ceb5c95-ab46-4628-f92d-f180ad653114",
        "colab": {
          "base_uri": "https://localhost:8080/",
          "height": 17
        }
      },
      "source": [
        "data = TextClasDataBunch.from_csv(path, 'texts.csv')\n"
      ],
      "execution_count": 6,
      "outputs": [
        {
          "output_type": "display_data",
          "data": {
            "text/html": [
              ""
            ],
            "text/plain": [
              "<IPython.core.display.HTML object>"
            ]
          },
          "metadata": {
            "tags": []
          }
        },
        {
          "output_type": "display_data",
          "data": {
            "text/html": [
              ""
            ],
            "text/plain": [
              "<IPython.core.display.HTML object>"
            ]
          },
          "metadata": {
            "tags": []
          }
        }
      ]
    },
    {
      "cell_type": "code",
      "metadata": {
        "id": "BBSZx_35mrQN",
        "colab_type": "code",
        "outputId": "e8e9713e-70bc-42c8-d022-da0145afe785",
        "colab": {
          "base_uri": "https://localhost:8080/",
          "height": 364
        }
      },
      "source": [
        "data.show_batch()"
      ],
      "execution_count": 0,
      "outputs": [
        {
          "output_type": "display_data",
          "data": {
            "text/html": [
              "<table border=\"1\" class=\"dataframe\">\n",
              "  <thead>\n",
              "    <tr style=\"text-align: right;\">\n",
              "      <th>text</th>\n",
              "      <th>target</th>\n",
              "    </tr>\n",
              "  </thead>\n",
              "  <tbody>\n",
              "    <tr>\n",
              "      <td>xxbos xxmaj raising xxmaj victor xxmaj vargas : a xxmaj review \\n \\n  xxmaj you know , xxmaj raising xxmaj victor xxmaj vargas is like sticking your hands into a big , steaming bowl of xxunk . xxmaj it 's warm and gooey , but you 're not sure if it feels right . xxmaj try as i might , no matter how warm and gooey xxmaj raising xxmaj</td>\n",
              "      <td>negative</td>\n",
              "    </tr>\n",
              "    <tr>\n",
              "      <td>xxbos xxup the xxup shop xxup around xxup the xxup corner is one of the xxunk and most feel - good romantic comedies ever made . xxmaj there 's just no getting around that , and it 's hard to actually put one 's feeling for this film into words . xxmaj it 's not one of those films that tries too hard , nor does it come up with</td>\n",
              "      <td>positive</td>\n",
              "    </tr>\n",
              "    <tr>\n",
              "      <td>xxbos xxmaj this film sat on my xxmaj xxunk for weeks before i watched it . i dreaded a self - indulgent xxunk flick about relationships gone bad . i was wrong ; this was an xxunk xxunk into the screwed - up xxunk of xxmaj new xxmaj yorkers . \\n \\n  xxmaj the format is the same as xxmaj max xxmaj xxunk ' \" xxmaj la xxmaj ronde</td>\n",
              "      <td>positive</td>\n",
              "    </tr>\n",
              "    <tr>\n",
              "      <td>xxbos xxmaj many neglect that this is n't just a classic due to the fact that it 's the first xxup 3d game , or even the first xxunk - up . xxmaj it 's also one of the first stealth games , one of the xxunk definitely the first ) truly claustrophobic games , and just a pretty well - rounded gaming experience in general . xxmaj with graphics</td>\n",
              "      <td>positive</td>\n",
              "    </tr>\n",
              "    <tr>\n",
              "      <td>xxbos i really wanted to love this show . i truly , honestly did . \\n \\n  xxmaj for the first time , gay viewers get their own version of the \" xxmaj the xxmaj bachelor \" . xxmaj with the help of his obligatory \" hag \" xxmaj xxunk , xxmaj james , a good looking , well - to - do thirty - something has the chance</td>\n",
              "      <td>negative</td>\n",
              "    </tr>\n",
              "  </tbody>\n",
              "</table>"
            ],
            "text/plain": [
              "<IPython.core.display.HTML object>"
            ]
          },
          "metadata": {
            "tags": []
          }
        }
      ]
    },
    {
      "cell_type": "markdown",
      "metadata": {
        "id": "jwjibczjm981",
        "colab_type": "text"
      },
      "source": [
        "**NOTE** \n",
        "    Compare above TextClassDataBunch with TextDataBunch"
      ]
    },
    {
      "cell_type": "markdown",
      "metadata": {
        "id": "6GSck3_tnLTk",
        "colab_type": "text"
      },
      "source": [
        "**Numericalization**"
      ]
    },
    {
      "cell_type": "markdown",
      "metadata": {
        "id": "wY7UGgShnuTj",
        "colab_type": "text"
      },
      "source": [
        "Once we have extracted tokens from our texts, we convert to integers by creating a list of all the words used. We only keep the ones that appear at least twice with a maximum vocabulary size of 60,000 (by default) and replace the ones that don't make the cut by the unknown token UNK.\n",
        "\n",
        "The correspondance from ids to tokens is stored in the vocab attribute of our datasets, in a dictionary called itos (for int to string)."
      ]
    },
    {
      "cell_type": "code",
      "metadata": {
        "id": "TRdDM02NnF8b",
        "colab_type": "code",
        "outputId": "4ce5e949-2b03-4d26-e916-cec28f803002",
        "colab": {
          "base_uri": "https://localhost:8080/",
          "height": 184
        }
      },
      "source": [
        "data.vocab.itos[:10]"
      ],
      "execution_count": 0,
      "outputs": [
        {
          "output_type": "execute_result",
          "data": {
            "text/plain": [
              "['xxunk',\n",
              " 'xxpad',\n",
              " 'xxbos',\n",
              " 'xxeos',\n",
              " 'xxfld',\n",
              " 'xxmaj',\n",
              " 'xxup',\n",
              " 'xxrep',\n",
              " 'xxwrep',\n",
              " 'the']"
            ]
          },
          "metadata": {
            "tags": []
          },
          "execution_count": 15
        }
      ]
    },
    {
      "cell_type": "code",
      "metadata": {
        "id": "1D1yQdbknx8H",
        "colab_type": "code",
        "outputId": "e420a50d-800d-45dc-944c-a16b354c3ffd",
        "colab": {
          "base_uri": "https://localhost:8080/",
          "height": 154
        }
      },
      "source": [
        "data.train_ds[0][0]"
      ],
      "execution_count": 0,
      "outputs": [
        {
          "output_type": "execute_result",
          "data": {
            "text/plain": [
              "Text xxbos xxmaj one does n't get to enjoy this gem , the 1936 xxmaj invisible xxmaj ray , often . xxmaj but no can forget it . xxmaj the story is elegant . xxmaj karloff , xxunk and xxunk in his xxmaj xxunk mountain retreat , is xxmaj janos xxmaj rukh , genius science who reads ancient beams of light to xxunk events in the great geological past \n",
              " particularly the crash of a xxunk xxunk meteor in xxmaj africa . xxmaj xxunk him is the ever - elegant xxmaj lugosi ( as a rare hero ) , who studies \" astro - chemistry . \" xxmaj frances xxmaj drake is the lovely , xxunk young wife ; xxmaj frank xxmaj lawton the romantic temptation ; and the xxunk xxmaj violet xxmaj xxunk xxmaj cooper is xxmaj mother xxmaj rukh , in a performance worthy of xxmaj maria xxmaj xxunk . \n",
              " \n",
              "  xxmaj the story moves swiftly in bold episodes , with special effects that are still handsome . xxmaj it also contains some wonderful lines . xxmaj one xxmaj rukh restores his mother 's sight , he asks , \" xxmaj mother , can you see , can you see ? \" \" xxmaj yes , i can see \n",
              " more clearly than ever . xxmaj and what i see xxunk me . \" xxmaj even better when mother xxmaj rukh says , \" xxmaj he broke the first law of science . \" i am not alone among my xxunk in having xxunk for many many years exactly what this first law of science is . \n",
              " \n",
              "  xxmaj this movie is definitely desert island material ."
            ]
          },
          "metadata": {
            "tags": []
          },
          "execution_count": 18
        }
      ]
    },
    {
      "cell_type": "code",
      "metadata": {
        "id": "ZWjmLOwWoC_i",
        "colab_type": "code",
        "outputId": "ef0ea9b8-eb94-46fb-aacb-0ecddc5d2940",
        "colab": {
          "base_uri": "https://localhost:8080/",
          "height": 33
        }
      },
      "source": [
        "data.train_ds[0][1]"
      ],
      "execution_count": 0,
      "outputs": [
        {
          "output_type": "execute_result",
          "data": {
            "text/plain": [
              "Category positive"
            ]
          },
          "metadata": {
            "tags": []
          },
          "execution_count": 19
        }
      ]
    },
    {
      "cell_type": "code",
      "metadata": {
        "id": "iym_uXOKoL_x",
        "colab_type": "code",
        "outputId": "ef839994-232a-48b8-9b4c-8538148a5432",
        "colab": {
          "base_uri": "https://localhost:8080/",
          "height": 33
        }
      },
      "source": [
        "data.train_ds[0][0].data[:10]"
      ],
      "execution_count": 0,
      "outputs": [
        {
          "output_type": "execute_result",
          "data": {
            "text/plain": [
              "array([   2,    5,   44,   96,   37,  104,   15,  418,   21, 2475])"
            ]
          },
          "metadata": {
            "tags": []
          },
          "execution_count": 21
        }
      ]
    },
    {
      "cell_type": "markdown",
      "metadata": {
        "id": "_SWKbjJupIs4",
        "colab_type": "text"
      },
      "source": [
        "**With DataBlock API**"
      ]
    },
    {
      "cell_type": "markdown",
      "metadata": {
        "id": "cmnPA_Y_pM0K",
        "colab_type": "text"
      },
      "source": [
        "We can use the data block API with NLP and have a lot more flexibility than what the default factory methods offer. In the previous example for instance, the data was randomly split between train and validation instead of reading the third column of the csv."
      ]
    },
    {
      "cell_type": "code",
      "metadata": {
        "id": "rbDVKFt1pLVY",
        "colab_type": "code",
        "outputId": "85deba40-ffef-4845-872c-7acd6d256ac4",
        "colab": {
          "base_uri": "https://localhost:8080/",
          "height": 212
        }
      },
      "source": [
        "data2 = (TextList.from_csv(path, 'texts.csv', cols='text')\n",
        "                .split_from_df(col=2)\n",
        "                .label_from_df(cols=0)\n",
        "                .databunch())"
      ],
      "execution_count": 4,
      "outputs": [
        {
          "output_type": "error",
          "ename": "NameError",
          "evalue": "ignored",
          "traceback": [
            "\u001b[0;31m---------------------------------------------------------------------------\u001b[0m",
            "\u001b[0;31mNameError\u001b[0m                                 Traceback (most recent call last)",
            "\u001b[0;32m<ipython-input-4-603eebe90d58>\u001b[0m in \u001b[0;36m<module>\u001b[0;34m()\u001b[0m\n\u001b[0;32m----> 1\u001b[0;31m data2 = (TextList.from_csv(path, 'texts.csv', cols='text')\n\u001b[0m\u001b[1;32m      2\u001b[0m                 \u001b[0;34m.\u001b[0m\u001b[0msplit_from_df\u001b[0m\u001b[0;34m(\u001b[0m\u001b[0mcol\u001b[0m\u001b[0;34m=\u001b[0m\u001b[0;36m2\u001b[0m\u001b[0;34m)\u001b[0m\u001b[0;34m\u001b[0m\u001b[0;34m\u001b[0m\u001b[0m\n\u001b[1;32m      3\u001b[0m                 \u001b[0;34m.\u001b[0m\u001b[0mlabel_from_df\u001b[0m\u001b[0;34m(\u001b[0m\u001b[0mcols\u001b[0m\u001b[0;34m=\u001b[0m\u001b[0;36m0\u001b[0m\u001b[0;34m)\u001b[0m\u001b[0;34m\u001b[0m\u001b[0;34m\u001b[0m\u001b[0m\n\u001b[1;32m      4\u001b[0m                 .databunch())\n",
            "\u001b[0;31mNameError\u001b[0m: name 'path' is not defined"
          ]
        }
      ]
    },
    {
      "cell_type": "code",
      "metadata": {
        "id": "mAjqUkHtpTpS",
        "colab_type": "code",
        "outputId": "82dfa242-feaa-4fa4-e55a-c481839bdacb",
        "colab": {
          "base_uri": "https://localhost:8080/",
          "height": 1000
        }
      },
      "source": [
        "data2.show_batch"
      ],
      "execution_count": 0,
      "outputs": [
        {
          "output_type": "execute_result",
          "data": {
            "text/plain": [
              "<bound method DataBunch.show_batch of TextClasDataBunch;\n",
              "\n",
              "Train: LabelList (800 items)\n",
              "x: TextList\n",
              "xxbos xxmaj un - xxunk - believable ! xxmaj meg xxmaj ryan does n't even look her usual xxunk lovable self in this , which normally makes me forgive her shallow xxunk acting xxunk . xxmaj hard to believe she was the producer on this dog . xxmaj plus xxmaj kevin xxmaj kline : what kind of suicide trip has his career been on ? xxmaj xxunk ... xxmaj xxunk ! ! ! xxmaj finally this was directed by the guy who did xxmaj big xxmaj xxunk ? xxmaj must be a replay of xxmaj jonestown - hollywood style . xxmaj xxunk !,xxbos xxmaj this is a extremely well - made film . xxmaj the acting , script and camera - work are all first - rate . xxmaj the music is good , too , though it is mostly early in the film , when things are still relatively xxunk . xxmaj there are no really xxunk in the cast , though several faces will be familiar . xxmaj the entire cast does an excellent job with the script . \n",
              " \n",
              "  xxmaj but it is hard to watch , because there is no good end to a situation like the one presented . xxmaj it is now xxunk to blame the xxmaj british for setting xxmaj hindus and xxmaj muslims against each other , and then xxunk xxunk them into two countries . xxmaj there is some merit in this view , but it 's also true that no one forced xxmaj hindus and xxmaj muslims in the region to xxunk each other as they did around the time of partition . xxmaj it seems more likely that the xxmaj british simply saw the xxunk between the xxunk and were clever enough to exploit them to their own ends . \n",
              " \n",
              "  xxmaj the result is that there is much cruelty and inhumanity in the situation and this is very unpleasant to remember and to see on the screen . xxmaj but it is never painted as a black - and - white case . xxmaj there is xxunk and xxunk on both sides , and also the hope for change in the younger generation . \n",
              " \n",
              "  xxmaj there is redemption of a sort , in the end , when xxmaj xxunk has to make a hard choice between a man who has ruined her life , but also truly loved her , and her family which has xxunk her , then later come looking for her . xxmaj but by that point , she has no xxunk that is without great pain for her . \n",
              " \n",
              "  xxmaj this film carries the message that both xxmaj muslims and xxmaj hindus have their grave xxunk , and also that both can be xxunk and caring people . xxmaj the reality of partition makes that xxunk all the more wrenching , since there can never be real xxunk across the xxmaj india / xxmaj pakistan border . xxmaj in that sense , it is similar to \" xxmaj mr & xxmaj xxunk xxmaj xxunk \" . \n",
              " \n",
              "  xxmaj in the end , we were glad to have seen the film , even though the resolution was xxunk . xxmaj if the xxup uk and xxup us could deal with their own xxunk of racism with this kind of xxunk , they would certainly be better off .,xxbos xxmaj every once in a long while a movie will come along that will be so awful that i feel compelled to warn people . xxmaj if i labor all my days and i can save but one soul from watching this movie , how great will be my joy . \n",
              " \n",
              "  xxmaj where to begin my discussion of pain . xxmaj for xxunk , there was a musical xxunk every five minutes . xxmaj there was no character development . xxmaj every character was a stereotype . xxmaj we had xxunk guy , fat guy who eats donuts , goofy foreign guy , etc . xxmaj the script felt as if it were being written as the movie was being shot . xxmaj the production value was so incredibly low that it felt like i was watching a junior high video presentation . xxmaj have the directors , producers , etc . ever even seen a movie before ? xxmaj xxunk is getting worse and worse with every new entry . xxmaj the concept for this movie sounded so funny . xxmaj how could you go wrong with xxmaj gary xxmaj coleman and a handful of somewhat legitimate actors . xxmaj but trust me when i say this , things went wrong , xxup very xxup wrong .,xxbos xxmaj name just says it all . i watched this movie with my dad when it came out and having served in xxmaj xxunk he had great admiration for the man . xxmaj the disappointing thing about this film is that it only xxunk on a short period of the man 's life - interestingly enough the man 's entire life would have made such an epic bio - xxunk that it is staggering to imagine the cost for production . \n",
              " \n",
              "  xxmaj some posters xxunk to the flawed xxunk about the man , which are cheap shots . xxmaj the theme of the movie \" xxmaj duty , xxmaj honor , xxmaj country \" are not just mere words xxunk from the lips of a high - xxunk officer - it is the deep xxunk of one man 's total devotion to his country . \n",
              " \n",
              "  xxmaj ironically xxmaj xxunk being the liberal that he was xxunk a better understanding of the man . xxmaj he does a great job showing the xxunk general xxunk with the xxunk side of the man .,xxbos xxmaj this movie succeeds at being one of the most unique movies you 've seen . xxmaj however this comes from the fact that you ca n't make heads or xxunk of this mess . xxmaj it almost seems as a series of challenges set up to determine whether or not you are willing to walk out of the movie and give up the money you just paid . xxmaj if you do n't want to feel xxunk you 'll sit through this horrible film and develop a real sense of pity for the actors involved , they 've all seen better days , but then you realize they actually got paid quite a bit of money to do this and you 'll lose pity for them just like you 've already done for the film . i ca n't go on enough about this horrible movie , its almost something that xxmaj ed xxmaj wood would have made and in that case it surely would have been his masterpiece . \n",
              " \n",
              "  xxmaj to start you are forced to sit through an opening dialogue the likes of which you 've never seen / heard , this thing has got to be five minutes long . xxmaj on top of that it is narrated , as to suggest that you the viewer can not read . xxmaj then we meet xxmaj mr. xxmaj xxunk and the xxunk of terrible lines gets xxunk , it is as if he is xxunk solely to get lines on to the movie poster xxunk line . xxmaj soon we meet xxmaj stephen xxmaj xxunk , who i typically enjoy ) and he does his best not to drown in this but ultimately he does . xxmaj then comes the ultimate insult , xxmaj tara xxmaj xxunk playing an intelligent role , oh help us ! xxmaj tara xxmaj xxunk is not a very talented actress and somehow she xxunk gets roles in movies , in my opinion though she should stick to movies of the xxmaj american pie type . \n",
              " \n",
              "  xxmaj all in all you just may want to see this for yourself when it comes out on video , i know that i got a kick out of it , i mean lets all be honest here , sometimes its comforting to xxunk in the shortcomings of others .\n",
              "y: CategoryList\n",
              "negative,positive,negative,positive,negative\n",
              "Path: /root/.fastai/data/imdb_sample;\n",
              "\n",
              "Valid: LabelList (200 items)\n",
              "x: TextList\n",
              "xxbos xxmaj this very funny xxmaj british comedy shows what might happen if a section of xxmaj london , in this case xxmaj xxunk , were to xxunk itself independent from the rest of the xxup uk and its laws , xxunk & post - war xxunk . xxmaj merry xxunk is what would happen . \n",
              " \n",
              "  xxmaj the explosion of a wartime bomb leads to the xxunk of ancient xxunk which show that xxmaj xxunk was xxunk to the xxmaj xxunk of xxmaj xxunk xxunk ago , a small historical xxunk long since forgotten . xxmaj to the new xxmaj xxunk , however , this is an unexpected opportunity to live as they please , free from any xxunk from xxmaj xxunk . \n",
              " \n",
              "  xxmaj stanley xxmaj xxunk is excellent as the minor city xxunk who suddenly finds himself leading one of the world 's xxunk xxunk . xxmaj xxunk xxmaj margaret xxmaj xxunk is a delight as the history professor who sides with xxmaj xxunk . xxmaj others in the stand - out cast include xxmaj xxunk xxmaj xxunk , xxmaj paul xxmaj xxunk , xxmaj xxunk xxmaj xxunk , xxmaj xxunk xxmaj xxunk & xxmaj sir xxmaj michael xxmaj xxunk . \n",
              " \n",
              "  xxmaj welcome to xxmaj xxunk !,xxbos i saw this movie once as a kid on the late - late show and fell in love with it . \n",
              " \n",
              "  xxmaj it took 30 + years , but i recently did find it on xxup dvd - it was n't cheap , either - in a xxunk that xxunk in war movies . xxmaj we watched it last night for the first time . xxmaj the audio was good , however it was grainy and had the trailers between xxunk . xxmaj even so , it was better than i remembered it . i was also impressed at how true it was to the play . \n",
              " \n",
              "  xxmaj the xxunk is around here xxunk . xxmaj if you 're xxunk in finding it , fire me a xxunk and i 'll see if i can get you the xxunk . xxunk,xxbos xxmaj this is , in my opinion , a very good film , especially for xxmaj michael xxmaj jackson lovers . xxmaj it contains a message on drugs , stunning special effects , and an awesome music video . \n",
              " \n",
              "  xxmaj the main film is xxunk around the song and music video ' xxmaj smooth xxmaj criminal . ' xxmaj unlike the four - minute music video , it is normal speed and , in my opinion , much xxunk to watch . \n",
              " \n",
              "  xxmaj the plot is rather weird , however . xxmaj michael xxmaj jackson plays a xxunk ' gangster ' that , when he sees a shooting star , he xxunk into a piece of xxunk . xxmaj throughout the film , he xxunk into a race car , a giant robot , and a space ship . \n",
              " \n",
              "  xxmaj the robot scene in particular is a bit drawn out and strange . i found it a little out - of - whack compared to the rest of the film . \n",
              " \n",
              "  a child is kidnapped , xxmaj michael tries to save her , is tortured and beaten , and suddenly turns into a giant robot that blows up all the bad guys . a little weird ? xxmaj yeah . \n",
              " \n",
              "  xxmaj but besides the bizarre robot scene , it 's a very good movie , and any xxmaj michael xxmaj jackson fan will enjoy both the xxmaj smooth xxmaj criminal music video and the movie .,xxbos xxmaj in xxmaj iran , women are not xxunk to attend men 's sporting events , apparently to \" xxunk \" them from all the xxunk and foul language they might hear xxunk from the male fans ( so since men ca n't xxunk or xxunk themselves , women are forced to suffer . xxmaj go figure . ) . \" xxmaj xxunk \" tells the tale of a half dozen or so young women who , dressed like men , attempt to xxunk into the high - xxunk match between xxmaj iran and xxmaj xxunk that , in xxunk , qualified xxmaj iran to go to the xxmaj world xxmaj cup ( the movie was actually filmed in large part during that game ) . \n",
              " \n",
              "  \" xxmaj xxunk \" is a xxunk - of - life comedy that will remind you of all those great xxunk films ( \" xxmaj the xxmaj shop on xxmaj main xxmaj street , \" \" xxmaj loves of a xxmaj blonde , \" \" xxmaj closely xxmaj watched xxmaj trains \" etc . ) that xxunk out of xxmaj communist xxmaj xxunk as part of the \" xxmaj xxunk xxmaj xxunk \" in the mid xxunk 's . xxmaj as with many of those works , \" xxmaj xxunk \" is more concerned with xxunk life than with xxunk any kind of xxunk contrived fictional narrative . xxmaj indeed , it is the simplicity of the xxunk and the xxunk of the style that make the movie so effective . \n",
              " \n",
              "  xxmaj once their xxunk is discovered , the girls are xxunk into a small xxunk right outside the xxunk where they can hear the xxunk xxunk xxunk from the game inside . xxmaj stuck where they are , all they can do is xxunk with the security guards to let them go in , guards who are basically xxunk , good - xxunk xxunk who are compelled to do their duty as a part of their xxunk military service . xxmaj even most of the men going into the xxunk do n't seem particularly xxunk at the thought of these women being allowed in . xxmaj still the prohibition xxunk . xxmaj yet , how can one not be impressed by the very real courage and xxunk displayed by these women as they go up against a system that continues to xxunk such a xxunk xxunk and xxunk xxunk ? xxmaj and , yet , the purpose of these women is not to xxunk behind a cause or to make a \" point . \" xxmaj they are simply obsessed fans with a burning desire to watch a soccer game and , like all the men in the country , xxunk on their team . \n",
              " \n",
              "  xxmaj it 's hard to tell just how much of the dialogue is scripted and how much of it is xxunk , but , in either case , the actors , with their xxunk xxunk faces , do a magnificent job making each moment seem utterly real and convincing . xxmaj xxunk xxmaj xxunk - xxunk and xxmaj xxunk xxmaj xxunk are notable xxunk in a xxunk excellent cast . xxmaj the structure of the film is also very loose and xxunk , as writer / director xxmaj xxunk xxmaj xxunk and co - writer xxmaj xxunk xxmaj xxunk focus for a few brief moments on one or two of the characters , then move xxunk and xxunk onto others . xxmaj with this documentary - type approach , we come to feel as if we are xxunk an actual event xxunk in \" real time . \" xxmaj very often , it 's quite easy for us to forget we 're actually watching a movie . \n",
              " \n",
              "  xxmaj it was a very smart move on the part of the filmmakers to include so much good - xxunk humor in the film ( it 's what the xxmaj xxunk filmmakers did as well ) , the better to point up the utter absurdity of the situation and xxunk the appeal of the film for audiences both domestic and foreign . \" xxmaj xxunk \" is obviously a cry for justice , but it is one that is made all the more effective by its xxunk to make of its story a heavy - breathing tragedy . xxmaj instead , it realizes that nothing breaks down social xxunk quite as xxunk as humor and an appeal to the audience 's common humanity . xxmaj and is n't that what true art is supposed to be all about ? xxmaj in its own quiet , xxunk way , \" xxmaj xxunk \" is one of the great , under - appreciated xxunk of xxunk .,xxbos \" xxmaj in xxmaj xxunk xxunk , the xxmaj university of xxmaj xxunk xxunk to xxunk xxmaj xxunk xxmaj national xxmaj xxunk , with an xxunk of xxmaj xxunk xxunk offering to xxunk the research . xxmaj xxunk xxunk became the first \" national \" xxunk . xxmaj it did not , however , remain at its original location in the xxmaj xxunk forest . xxmaj in xxunk , it moved xxunk west from the \" xxmaj xxunk xxmaj city \" to a new site on xxmaj xxunk xxunk . xxmaj when xxmaj xxunk xxmaj xxunk visited xxmaj xxunk 's director , xxmaj walter xxmaj xxunk , in xxunk , he asked him what kind of xxunk was to be built at the new site . xxmaj when xxmaj xxunk described a heavy - water xxunk xxunk at one - xxunk the power of the xxmaj xxunk xxmaj xxunk xxmaj xxunk under design at xxmaj xxunk xxmaj xxunk , xxmaj xxunk xxunk it would be xxunk if xxmaj xxunk took the xxmaj xxunk xxmaj xxunk design and xxunk the xxmaj xxunk xxmaj xxunk xxmaj xxunk at one - xxunk capacity . xxmaj the joke proved unintentionally xxunk . \" \n",
              " \n",
              "  xxmaj the xxup xxunk plant used xxunk to separate the xxunk in thousands of tall xxunk . xxmaj it was built next to the xxup xxunk power plant , which provided the necessary steam . xxmaj much less xxunk than xxup xxunk , the xxup xxunk plant was torn down after the war . \n",
              " \n",
              "  xxmaj concerned that the xxmaj xxunk xxmaj energy xxmaj xxunk research program might become too xxunk , xxmaj xxunk xxunk a xxunk of industrial xxunk , and during a xxmaj xxunk visit to xxmaj xxunk xxmaj xxunk , he xxunk with xxmaj clark xxmaj center , manager of xxmaj xxunk & xxmaj xxunk , a xxunk of xxmaj union xxmaj xxunk xxmaj corporation at xxmaj xxunk xxmaj xxunk , the possibility of the company xxunk xxunk of the xxmaj xxunk . \n",
              " \n",
              "  xxmaj prince xxmaj henry ( of xxmaj xxunk ) xxmaj xxunk in xxmaj washington and xxmaj visiting the xxmaj german xxmaj xxunk ( xxunk ) . xxmaj xxunk , with xxmaj prince xxmaj henry of xxmaj xxunk according to the xxunk of science and its xxunk their were already concerns with the xxunk of new science with military xxunk . xxmaj the xxmaj xxunk ( xxunk / xxup ii ) , \" xxmaj xxunk xxmaj xxunk 's splendid xxunk at the xxunk xxmaj st. xxmaj xxunk , xxmaj new xxmaj york . xxmaj taken at the exact moment of xxmaj prince xxmaj henry 's xxunk , and the raising of the xxunk standard . \" xxmaj if xxmaj xxunk knew of these necessary xxunk to xxunk xxunk then what was the xxunk of the xxunk xxup xxunk and xxup wwii . xxmaj the quality of xxunk control i xxunk ? \n",
              " \n",
              "  xxmaj thus , did the xxunk of xxmaj xxunk xxmaj xxunk xxunk for a military mission , or a business plan , based on the security xxunk of xxmaj xxunk xxunk ? xxmaj because supposedly their were no survivors , and the ones who were caught in xxmaj europe ordered to be executed . xxmaj of the xxunk man commando team the survivors who were captured were executed under orders of the xxmaj german xxmaj army against xxunk , and xxunk acts of the xxmaj state of xxmaj germany . \n",
              " \n",
              "  xxmaj the xxmaj xxunk xxmaj no . xxunk / xxunk xxunk xxmaj xxunk . xxup xxunk / xxunk , xxmaj xxunk xxup xxunk , 18 xxmaj xxunk xxunk , ( xxunk ) xxmaj xxunk xxmaj hitler ; xxmaj translation of xxmaj document no . xxup xxunk , xxmaj office of xxup u.s. xxmaj chief of xxmaj xxunk , xxunk true copy xxmaj xxunk xxmaj major , xxunk xxup xxunk xxunk xxmaj march xxunk , xxunk , xxunk at the xxup u.s. xxmaj national xxmaj xxunk . \n",
              " \n",
              "  xxmaj the xxup xxunk xxmaj society xxunk xxunk xxmaj xxunk xxmaj xxunk . , xxunk xxunk , xxup xxunk xxunk\n",
              "y: CategoryList\n",
              "positive,positive,positive,positive,positive\n",
              "Path: /root/.fastai/data/imdb_sample;\n",
              "\n",
              "Test: None>"
            ]
          },
          "metadata": {
            "tags": []
          },
          "execution_count": 26
        }
      ]
    },
    {
      "cell_type": "markdown",
      "metadata": {
        "id": "mZN8MH3NpvLa",
        "colab_type": "text"
      },
      "source": [
        "**Language Model**"
      ]
    },
    {
      "cell_type": "markdown",
      "metadata": {
        "id": "9copclYRp5ff",
        "colab_type": "text"
      },
      "source": [
        "Note that language models can use a lot of GPU, so you may need to decrease batchsize here."
      ]
    },
    {
      "cell_type": "code",
      "metadata": {
        "id": "U-NsDhDPpyPi",
        "colab_type": "code",
        "colab": {}
      },
      "source": [
        "bs=48"
      ],
      "execution_count": 0,
      "outputs": []
    },
    {
      "cell_type": "markdown",
      "metadata": {
        "id": "gfmZn4Zip_nT",
        "colab_type": "text"
      },
      "source": [
        "Now let's grab the full dataset for what follows."
      ]
    },
    {
      "cell_type": "code",
      "metadata": {
        "id": "8cmMH7oBp-4v",
        "colab_type": "code",
        "outputId": "29fd4d65-e247-4ce4-9372-a9d8d1d4652c",
        "colab": {
          "base_uri": "https://localhost:8080/",
          "height": 150
        }
      },
      "source": [
        "path = untar_data(URLs.IMDB)\n",
        "path.ls()"
      ],
      "execution_count": 6,
      "outputs": [
        {
          "output_type": "stream",
          "text": [
            "Downloading https://s3.amazonaws.com/fast-ai-nlp/imdb\n"
          ],
          "name": "stdout"
        },
        {
          "output_type": "display_data",
          "data": {
            "text/html": [
              ""
            ],
            "text/plain": [
              "<IPython.core.display.HTML object>"
            ]
          },
          "metadata": {
            "tags": []
          }
        },
        {
          "output_type": "execute_result",
          "data": {
            "text/plain": [
              "[PosixPath('/root/.fastai/data/imdb/unsup'),\n",
              " PosixPath('/root/.fastai/data/imdb/imdb.vocab'),\n",
              " PosixPath('/root/.fastai/data/imdb/tmp_lm'),\n",
              " PosixPath('/root/.fastai/data/imdb/test'),\n",
              " PosixPath('/root/.fastai/data/imdb/README'),\n",
              " PosixPath('/root/.fastai/data/imdb/tmp_clas'),\n",
              " PosixPath('/root/.fastai/data/imdb/train')]"
            ]
          },
          "metadata": {
            "tags": []
          },
          "execution_count": 6
        }
      ]
    },
    {
      "cell_type": "code",
      "metadata": {
        "id": "0DGptRIjqCCR",
        "colab_type": "code",
        "outputId": "70243129-3c22-4d27-9d32-8d2423fb875c",
        "colab": {
          "base_uri": "https://localhost:8080/",
          "height": 84
        }
      },
      "source": [
        "(path/'train').ls()"
      ],
      "execution_count": 0,
      "outputs": [
        {
          "output_type": "execute_result",
          "data": {
            "text/plain": [
              "[PosixPath('/root/.fastai/data/imdb/train/unsupBow.feat'),\n",
              " PosixPath('/root/.fastai/data/imdb/train/labeledBow.feat'),\n",
              " PosixPath('/root/.fastai/data/imdb/train/neg'),\n",
              " PosixPath('/root/.fastai/data/imdb/train/pos')]"
            ]
          },
          "metadata": {
            "tags": []
          },
          "execution_count": 29
        }
      ]
    },
    {
      "cell_type": "markdown",
      "metadata": {
        "id": "Y264sMErs98S",
        "colab_type": "text"
      },
      "source": [
        "**NOTE**\n",
        " The reviews are in a training and test set following an imagenet structure. USED TO MAKE TEXT LIST FROM FOLDERS BELOW"
      ]
    },
    {
      "cell_type": "markdown",
      "metadata": {
        "id": "QvZnV46psRJQ",
        "colab_type": "text"
      },
      "source": [
        "**WikiText 103 Transfer Learning**"
      ]
    },
    {
      "cell_type": "markdown",
      "metadata": {
        "id": "FJrmkULUsaFr",
        "colab_type": "text"
      },
      "source": [
        "We're not going to train a model that classifies the reviews from scratch. Like in computer vision, we'll use a model pretrained on a bigger dataset (a cleaned subset of wikipedia called wikitext-103). That model has been trained to guess what the next word is, its input being all the previous words. It has a recurrent structure and a hidden state that is updated each time it sees a new word. This hidden state thus contains information about the sentence up to that point."
      ]
    },
    {
      "cell_type": "markdown",
      "metadata": {
        "id": "a-iQBdC_sqGJ",
        "colab_type": "text"
      },
      "source": [
        "**NOTE**"
      ]
    },
    {
      "cell_type": "markdown",
      "metadata": {
        "id": "1NE6yIiistsZ",
        "colab_type": "text"
      },
      "source": [
        "We are going to use that 'knowledge' of the English language to build our classifier, but first, like for computer vision, we need to fine-tune the pretrained model to our particular dataset. Because the English of the reviews left by people on IMDB isn't the same as the English of wikipedia, we'll need to adjust the parameters of our model by a little bit. Plus there might be some words that would be extremely common in the reviews dataset but would be barely present in wikipedia, and therefore might not be part of the vocabulary the model was trained on.\n",
        "\n",
        "This is where the unlabelled data is going to be useful to us, as we can use it to fine-tune our model. Let's create our data object with the data block API (next line takes a few minutes)."
      ]
    },
    {
      "cell_type": "code",
      "metadata": {
        "id": "74fEsARmVPXZ",
        "colab_type": "code",
        "colab": {
          "base_uri": "https://localhost:8080/",
          "height": 120
        },
        "outputId": "6ee8efa9-2d88-4b32-e7e7-6cada9a0a1cc"
      },
      "source": [
        "# Mount the drive\n",
        "from google.colab import drive\n",
        "drive.mount('/content/gdrive')"
      ],
      "execution_count": 7,
      "outputs": [
        {
          "output_type": "stream",
          "text": [
            "Go to this URL in a browser: https://accounts.google.com/o/oauth2/auth?client_id=947318989803-6bn6qk8qdgf4n4g3pfee6491hc0brc4i.apps.googleusercontent.com&redirect_uri=urn%3aietf%3awg%3aoauth%3a2.0%3aoob&response_type=code&scope=email%20https%3a%2f%2fwww.googleapis.com%2fauth%2fdocs.test%20https%3a%2f%2fwww.googleapis.com%2fauth%2fdrive%20https%3a%2f%2fwww.googleapis.com%2fauth%2fdrive.photos.readonly%20https%3a%2f%2fwww.googleapis.com%2fauth%2fpeopleapi.readonly\n",
            "\n",
            "Enter your authorization code:\n",
            "··········\n",
            "Mounted at /content/gdrive\n"
          ],
          "name": "stdout"
        }
      ]
    },
    {
      "cell_type": "code",
      "metadata": {
        "id": "cGgbE-hSVTPB",
        "colab_type": "code",
        "colab": {}
      },
      "source": [
        "data_model_store_path = Path ( '/content/gdrive/My Drive/saved_models/NLP/IMDB_sentiment/data_models' )"
      ],
      "execution_count": 0,
      "outputs": []
    },
    {
      "cell_type": "code",
      "metadata": {
        "id": "Bi8arfHgsVPY",
        "colab_type": "code",
        "outputId": "2a00555b-eea2-440c-9e76-98ec43fb4f93",
        "colab": {
          "base_uri": "https://localhost:8080/",
          "height": 17
        }
      },
      "source": [
        "data_lm = (TextList.from_folder(path)\n",
        "           #Inputs: all the text files in path\n",
        "            .filter_by_folder(include=['train', 'test', 'unsup']) \n",
        "           #We may have other temp folders that contain text files so we only keep what's in train and test\n",
        "            .split_by_rand_pct(0.1)\n",
        "           #We randomly split and keep 10% (10,000 reviews) for validation\n",
        "            .label_for_lm()           \n",
        "           #We want to do a language model so we label accordingly\n",
        "            .databunch(bs=bs))\n",
        "\n",
        "data_lm.path = data_model_store_path\n",
        "data_lm.save('data_lm.pkl')"
      ],
      "execution_count": 9,
      "outputs": [
        {
          "output_type": "display_data",
          "data": {
            "text/html": [
              ""
            ],
            "text/plain": [
              "<IPython.core.display.HTML object>"
            ]
          },
          "metadata": {
            "tags": []
          }
        },
        {
          "output_type": "display_data",
          "data": {
            "text/html": [
              ""
            ],
            "text/plain": [
              "<IPython.core.display.HTML object>"
            ]
          },
          "metadata": {
            "tags": []
          }
        }
      ]
    },
    {
      "cell_type": "markdown",
      "metadata": {
        "id": "bSNaLCkCuClD",
        "colab_type": "text"
      },
      "source": [
        "We have to use a special kind of TextDataBunch for the language model, that ignores the labels (that's why we put 0 everywhere), will shuffle the texts at each epoch before concatenating them all together (only for training, we don't shuffle for the validation set) and will send batches that read that text in order with targets that are the next word in the sentence."
      ]
    },
    {
      "cell_type": "code",
      "metadata": {
        "id": "i-jN9p_duYS3",
        "colab_type": "code",
        "colab": {}
      },
      "source": [
        "data_lm = load_data(data_model_store_path, 'data_lm.pkl', bs=bs)"
      ],
      "execution_count": 0,
      "outputs": []
    },
    {
      "cell_type": "code",
      "metadata": {
        "id": "hLFgbbgtuZDL",
        "colab_type": "code",
        "outputId": "46349b4e-5ace-49ac-c58c-18d2cb56283b",
        "colab": {
          "base_uri": "https://localhost:8080/",
          "height": 364
        }
      },
      "source": [
        "data_lm.show_batch()"
      ],
      "execution_count": 11,
      "outputs": [
        {
          "output_type": "display_data",
          "data": {
            "text/html": [
              "<table border=\"1\" class=\"dataframe\">\n",
              "  <thead>\n",
              "    <tr style=\"text-align: right;\">\n",
              "      <th>idx</th>\n",
              "      <th>text</th>\n",
              "    </tr>\n",
              "  </thead>\n",
              "  <tbody>\n",
              "    <tr>\n",
              "      <td>0</td>\n",
              "      <td>life outside of the job that you can believe . xxmaj the dialog is better than good ... it 's great ! xxmaj the fashion is good and i really like all the characters . xxmaj the story line is better than xxmaj sex in the xxmaj city because the character are much more realistic . xxmaj there must be a season 3 in production . i hope the network</td>\n",
              "    </tr>\n",
              "    <tr>\n",
              "      <td>1</td>\n",
              "      <td>name on a small ( figuratively speaking ) movie in efforts to grab some cash and did so without any regard for how it would effect the finished product . \\n \\n  xxmaj this film is awful , make no mistake - but had it not set people up to see a remake of a classic it may have passed at least as a mildly entertaining failure as opposed</td>\n",
              "    </tr>\n",
              "    <tr>\n",
              "      <td>2</td>\n",
              "      <td>has nothing to do with the movie , i think overall it 's a better title than xxup haunts . because haunts promises ghosts or demons or something . xxmaj veil promises ... well , a veil . and if there 's no veil , i 'm not nearly as disappointed . \\n \\n  xxmaj so yeah , another boring 70 's movie . xxmaj not nearly as painful</td>\n",
              "    </tr>\n",
              "    <tr>\n",
              "      <td>3</td>\n",
              "      <td>you 'll be thinking \" xxmaj okay , someone either needs to get shot or this movie needs to end . \" xxbos xxmaj judy xxmaj berlin is a blah story about blah people living their ever so blah lives . xxmaj blah , blah , blah . xxmaj eric xxmaj mendelsohn , a former assistant to xxmaj woody xxmaj allen and an obvious xxmaj woody wannabe , wrote and</td>\n",
              "    </tr>\n",
              "    <tr>\n",
              "      <td>4</td>\n",
              "      <td>to remake people 's innermost selves . xxup but xxrep 7 . as a viewer you should remain aware that , in the end , such a goal is not going to be successful . xxmaj still , there will be cases / instances of supposedly successful personality change presented in order to convince us otherwise ( just know that if personality alterations are brought about , they will be</td>\n",
              "    </tr>\n",
              "  </tbody>\n",
              "</table>"
            ],
            "text/plain": [
              "<IPython.core.display.HTML object>"
            ]
          },
          "metadata": {
            "tags": []
          }
        }
      ]
    },
    {
      "cell_type": "markdown",
      "metadata": {
        "id": "cYxZBX6YuuLm",
        "colab_type": "text"
      },
      "source": [
        "We can then put this in a learner object very easily with a model loaded with the pretrained weights. They'll be downloaded the first time you'll execute the following line and stored in ~/.fastai/models/ (or elsewhere if you specified different paths in your config file)."
      ]
    },
    {
      "cell_type": "code",
      "metadata": {
        "id": "Xu4iTmVFuxMq",
        "colab_type": "code",
        "outputId": "a316c8d6-f4b2-4b9e-f2b3-6f4c274731c6",
        "colab": {
          "base_uri": "https://localhost:8080/",
          "height": 33
        }
      },
      "source": [
        "learn = language_model_learner(data_lm, AWD_LSTM, drop_mult=0.3)"
      ],
      "execution_count": 12,
      "outputs": [
        {
          "output_type": "stream",
          "text": [
            "Downloading https://s3.amazonaws.com/fast-ai-modelzoo/wt103-fwd\n"
          ],
          "name": "stdout"
        },
        {
          "output_type": "display_data",
          "data": {
            "text/html": [
              ""
            ],
            "text/plain": [
              "<IPython.core.display.HTML object>"
            ]
          },
          "metadata": {
            "tags": []
          }
        }
      ]
    },
    {
      "cell_type": "code",
      "metadata": {
        "id": "UhgNCxPnuzaY",
        "colab_type": "code",
        "outputId": "d022d390-aa0c-498c-b95b-ba6275bdd519",
        "colab": {
          "base_uri": "https://localhost:8080/",
          "height": 110
        }
      },
      "source": [
        "learn.lr_find()"
      ],
      "execution_count": 13,
      "outputs": [
        {
          "output_type": "display_data",
          "data": {
            "text/html": [
              "\n",
              "    <div>\n",
              "        <style>\n",
              "            /* Turns off some styling */\n",
              "            progress {\n",
              "                /* gets rid of default border in Firefox and Opera. */\n",
              "                border: none;\n",
              "                /* Needs to be in here for Safari polyfill so background images work as expected. */\n",
              "                background-size: auto;\n",
              "            }\n",
              "            .progress-bar-interrupted, .progress-bar-interrupted::-webkit-progress-bar {\n",
              "                background: #F44336;\n",
              "            }\n",
              "        </style>\n",
              "      <progress value='0' class='' max='1', style='width:300px; height:20px; vertical-align: middle;'></progress>\n",
              "      0.00% [0/1 00:00<00:00]\n",
              "    </div>\n",
              "    \n",
              "<table border=\"1\" class=\"dataframe\">\n",
              "  <thead>\n",
              "    <tr style=\"text-align: left;\">\n",
              "      <th>epoch</th>\n",
              "      <th>train_loss</th>\n",
              "      <th>valid_loss</th>\n",
              "      <th>accuracy</th>\n",
              "      <th>time</th>\n",
              "    </tr>\n",
              "  </thead>\n",
              "  <tbody>\n",
              "  </tbody>\n",
              "</table><p>\n",
              "\n",
              "    <div>\n",
              "        <style>\n",
              "            /* Turns off some styling */\n",
              "            progress {\n",
              "                /* gets rid of default border in Firefox and Opera. */\n",
              "                border: none;\n",
              "                /* Needs to be in here for Safari polyfill so background images work as expected. */\n",
              "                background-size: auto;\n",
              "            }\n",
              "            .progress-bar-interrupted, .progress-bar-interrupted::-webkit-progress-bar {\n",
              "                background: #F44336;\n",
              "            }\n",
              "        </style>\n",
              "      <progress value='99' class='' max='8056', style='width:300px; height:20px; vertical-align: middle;'></progress>\n",
              "      1.23% [99/8056 00:17<22:53 12.2827]\n",
              "    </div>\n",
              "    "
            ],
            "text/plain": [
              "<IPython.core.display.HTML object>"
            ]
          },
          "metadata": {
            "tags": []
          }
        },
        {
          "output_type": "stream",
          "text": [
            "LR Finder is complete, type {learner_name}.recorder.plot() to see the graph.\n"
          ],
          "name": "stdout"
        }
      ]
    },
    {
      "cell_type": "code",
      "metadata": {
        "id": "v6IzLSZJu4rj",
        "colab_type": "code",
        "outputId": "47ed6588-30a1-454b-e541-42548ead2f64",
        "colab": {
          "base_uri": "https://localhost:8080/",
          "height": 279
        }
      },
      "source": [
        "learn.recorder.plot(skip_end=15)"
      ],
      "execution_count": 0,
      "outputs": [
        {
          "output_type": "display_data",
          "data": {
            "image/png": "[encoded data removed]",
            "text/plain": [
              "<Figure size 432x288 with 1 Axes>"
            ]
          },
          "metadata": {
            "tags": []
          }
        }
      ]
    },
    {
      "cell_type": "code",
      "metadata": {
        "id": "bP85wCeJxpTW",
        "colab_type": "code",
        "colab": {}
      },
      "source": [
        "learner_model_store_path = Path ( '/content/gdrive/My Drive/saved_models/NLP/IMDB_sentiment/learner_models/' )"
      ],
      "execution_count": 0,
      "outputs": []
    },
    {
      "cell_type": "code",
      "metadata": {
        "id": "4WIfy1SmdCTv",
        "colab_type": "code",
        "colab": {}
      },
      "source": [
        "learner_model_name = 'fit_head'"
      ],
      "execution_count": 0,
      "outputs": []
    },
    {
      "cell_type": "code",
      "metadata": {
        "id": "sVd_fiCwvw_j",
        "colab_type": "code",
        "outputId": "eaaf9bd7-ce57-4a2b-97d9-ce77e4cf49e0",
        "colab": {
          "base_uri": "https://localhost:8080/",
          "height": 77
        }
      },
      "source": [
        "learn.fit_one_cycle(1, 1e-2, moms=(0.8,0.7))\n",
        "\n",
        "# You should save each model in a separate folder if you are not having unique name for each of ur saved model\n",
        "# You should not save your model with simple learn.save('xx') without first deciding the directory \n",
        "# i.e path where model is to be saved\n",
        "learn.path = learner_model_store_path\n",
        "\n",
        "learn.save(learn_model_name)"
      ],
      "execution_count": 0,
      "outputs": [
        {
          "output_type": "display_data",
          "data": {
            "text/html": [
              "<table border=\"1\" class=\"dataframe\">\n",
              "  <thead>\n",
              "    <tr style=\"text-align: left;\">\n",
              "      <th>epoch</th>\n",
              "      <th>train_loss</th>\n",
              "      <th>valid_loss</th>\n",
              "      <th>accuracy</th>\n",
              "      <th>time</th>\n",
              "    </tr>\n",
              "  </thead>\n",
              "  <tbody>\n",
              "    <tr>\n",
              "      <td>0</td>\n",
              "      <td>4.154210</td>\n",
              "      <td>4.021998</td>\n",
              "      <td>0.295782</td>\n",
              "      <td>1:35:09</td>\n",
              "    </tr>\n",
              "  </tbody>\n",
              "</table>"
            ],
            "text/plain": [
              "<IPython.core.display.HTML object>"
            ]
          },
          "metadata": {
            "tags": []
          }
        }
      ]
    },
    {
      "cell_type": "markdown",
      "metadata": {
        "id": "qzUsuM6gKcRP",
        "colab_type": "text"
      },
      "source": [
        ""
      ]
    },
    {
      "cell_type": "code",
      "metadata": {
        "id": "T5dSvTRCcDIm",
        "colab_type": "code",
        "colab": {}
      },
      "source": [
        "learner_model_load_path = Path ( '/content/gdrive/My Drive/saved_models/NLP/IMDB_sentiment/learner_models/'+learn_model_name )"
      ],
      "execution_count": 0,
      "outputs": []
    },
    {
      "cell_type": "code",
      "metadata": {
        "id": "y6u6gS8xfmec",
        "colab_type": "code",
        "colab": {}
      },
      "source": [
        "learn.load( learner_model_load_path);"
      ],
      "execution_count": 0,
      "outputs": []
    },
    {
      "cell_type": "markdown",
      "metadata": {
        "id": "Idd0fW2Kfsrs",
        "colab_type": "text"
      },
      "source": [
        "To complete the fine-tuning, we can then unfeeze and launch a new training."
      ]
    },
    {
      "cell_type": "code",
      "metadata": {
        "id": "yurukHeUftYf",
        "colab_type": "code",
        "colab": {}
      },
      "source": [
        "learn.unfreeze()"
      ],
      "execution_count": 0,
      "outputs": []
    },
    {
      "cell_type": "code",
      "metadata": {
        "id": "cbsxOH-teonZ",
        "colab_type": "code",
        "colab": {}
      },
      "source": [
        "def fit_and_save_p_ncycle(name, n,lr,momsl, momsh):\n",
        "  count = 0\n",
        "  while count<n:\n",
        "    learn.fit_one_cycle(1, lr, moms=(momsl,momsh))\n",
        "    learn.save(learn_model_name)\n",
        "    count= count+1\n",
        "    \n",
        "  "
      ],
      "execution_count": 0,
      "outputs": []
    },
    {
      "cell_type": "code",
      "metadata": {
        "id": "3i64A-1GfvQ1",
        "colab_type": "code",
        "outputId": "acb2145b-21fd-47a6-9331-b12fcea0a64e",
        "colab": {
          "base_uri": "https://localhost:8080/",
          "height": 620
        }
      },
      "source": [
        "fit_and_save_p_ncycle(name=learner_model_name, n=10, lr=1e-3, momsl=0.8,momsh=0.7)\n",
        "# learn.fit_one_cycle(10, 1e-3, moms=(0.8,0.7))"
      ],
      "execution_count": 35,
      "outputs": [
        {
          "output_type": "display_data",
          "data": {
            "text/html": [
              "<table border=\"1\" class=\"dataframe\">\n",
              "  <thead>\n",
              "    <tr style=\"text-align: left;\">\n",
              "      <th>epoch</th>\n",
              "      <th>train_loss</th>\n",
              "      <th>valid_loss</th>\n",
              "      <th>accuracy</th>\n",
              "      <th>time</th>\n",
              "    </tr>\n",
              "  </thead>\n",
              "  <tbody>\n",
              "    <tr>\n",
              "      <td>0</td>\n",
              "      <td>4.108833</td>\n",
              "      <td>4.029796</td>\n",
              "      <td>0.311242</td>\n",
              "      <td>27:08</td>\n",
              "    </tr>\n",
              "  </tbody>\n",
              "</table>"
            ],
            "text/plain": [
              "<IPython.core.display.HTML object>"
            ]
          },
          "metadata": {
            "tags": []
          }
        },
        {
          "output_type": "display_data",
          "data": {
            "text/html": [
              "<table border=\"1\" class=\"dataframe\">\n",
              "  <thead>\n",
              "    <tr style=\"text-align: left;\">\n",
              "      <th>epoch</th>\n",
              "      <th>train_loss</th>\n",
              "      <th>valid_loss</th>\n",
              "      <th>accuracy</th>\n",
              "      <th>time</th>\n",
              "    </tr>\n",
              "  </thead>\n",
              "  <tbody>\n",
              "    <tr>\n",
              "      <td>0</td>\n",
              "      <td>3.947149</td>\n",
              "      <td>3.882180</td>\n",
              "      <td>0.323439</td>\n",
              "      <td>27:04</td>\n",
              "    </tr>\n",
              "  </tbody>\n",
              "</table>"
            ],
            "text/plain": [
              "<IPython.core.display.HTML object>"
            ]
          },
          "metadata": {
            "tags": []
          }
        },
        {
          "output_type": "display_data",
          "data": {
            "text/html": [
              "<table border=\"1\" class=\"dataframe\">\n",
              "  <thead>\n",
              "    <tr style=\"text-align: left;\">\n",
              "      <th>epoch</th>\n",
              "      <th>train_loss</th>\n",
              "      <th>valid_loss</th>\n",
              "      <th>accuracy</th>\n",
              "      <th>time</th>\n",
              "    </tr>\n",
              "  </thead>\n",
              "  <tbody>\n",
              "    <tr>\n",
              "      <td>0</td>\n",
              "      <td>3.829929</td>\n",
              "      <td>3.812563</td>\n",
              "      <td>0.329429</td>\n",
              "      <td>26:47</td>\n",
              "    </tr>\n",
              "  </tbody>\n",
              "</table>"
            ],
            "text/plain": [
              "<IPython.core.display.HTML object>"
            ]
          },
          "metadata": {
            "tags": []
          }
        },
        {
          "output_type": "display_data",
          "data": {
            "text/html": [
              "<table border=\"1\" class=\"dataframe\">\n",
              "  <thead>\n",
              "    <tr style=\"text-align: left;\">\n",
              "      <th>epoch</th>\n",
              "      <th>train_loss</th>\n",
              "      <th>valid_loss</th>\n",
              "      <th>accuracy</th>\n",
              "      <th>time</th>\n",
              "    </tr>\n",
              "  </thead>\n",
              "  <tbody>\n",
              "    <tr>\n",
              "      <td>0</td>\n",
              "      <td>3.754639</td>\n",
              "      <td>3.770607</td>\n",
              "      <td>0.333116</td>\n",
              "      <td>26:46</td>\n",
              "    </tr>\n",
              "  </tbody>\n",
              "</table>"
            ],
            "text/plain": [
              "<IPython.core.display.HTML object>"
            ]
          },
          "metadata": {
            "tags": []
          }
        },
        {
          "output_type": "display_data",
          "data": {
            "text/html": [
              "<table border=\"1\" class=\"dataframe\">\n",
              "  <thead>\n",
              "    <tr style=\"text-align: left;\">\n",
              "      <th>epoch</th>\n",
              "      <th>train_loss</th>\n",
              "      <th>valid_loss</th>\n",
              "      <th>accuracy</th>\n",
              "      <th>time</th>\n",
              "    </tr>\n",
              "  </thead>\n",
              "  <tbody>\n",
              "    <tr>\n",
              "      <td>0</td>\n",
              "      <td>3.727006</td>\n",
              "      <td>3.743328</td>\n",
              "      <td>0.335404</td>\n",
              "      <td>26:59</td>\n",
              "    </tr>\n",
              "  </tbody>\n",
              "</table>"
            ],
            "text/plain": [
              "<IPython.core.display.HTML object>"
            ]
          },
          "metadata": {
            "tags": []
          }
        },
        {
          "output_type": "display_data",
          "data": {
            "text/html": [
              "<table border=\"1\" class=\"dataframe\">\n",
              "  <thead>\n",
              "    <tr style=\"text-align: left;\">\n",
              "      <th>epoch</th>\n",
              "      <th>train_loss</th>\n",
              "      <th>valid_loss</th>\n",
              "      <th>accuracy</th>\n",
              "      <th>time</th>\n",
              "    </tr>\n",
              "  </thead>\n",
              "  <tbody>\n",
              "    <tr>\n",
              "      <td>0</td>\n",
              "      <td>3.703452</td>\n",
              "      <td>3.723338</td>\n",
              "      <td>0.336981</td>\n",
              "      <td>26:52</td>\n",
              "    </tr>\n",
              "  </tbody>\n",
              "</table>"
            ],
            "text/plain": [
              "<IPython.core.display.HTML object>"
            ]
          },
          "metadata": {
            "tags": []
          }
        },
        {
          "output_type": "display_data",
          "data": {
            "text/html": [
              "<table border=\"1\" class=\"dataframe\">\n",
              "  <thead>\n",
              "    <tr style=\"text-align: left;\">\n",
              "      <th>epoch</th>\n",
              "      <th>train_loss</th>\n",
              "      <th>valid_loss</th>\n",
              "      <th>accuracy</th>\n",
              "      <th>time</th>\n",
              "    </tr>\n",
              "  </thead>\n",
              "  <tbody>\n",
              "    <tr>\n",
              "      <td>0</td>\n",
              "      <td>3.689594</td>\n",
              "      <td>3.708471</td>\n",
              "      <td>0.338270</td>\n",
              "      <td>26:49</td>\n",
              "    </tr>\n",
              "  </tbody>\n",
              "</table>"
            ],
            "text/plain": [
              "<IPython.core.display.HTML object>"
            ]
          },
          "metadata": {
            "tags": []
          }
        },
        {
          "output_type": "display_data",
          "data": {
            "text/html": [
              "<table border=\"1\" class=\"dataframe\">\n",
              "  <thead>\n",
              "    <tr style=\"text-align: left;\">\n",
              "      <th>epoch</th>\n",
              "      <th>train_loss</th>\n",
              "      <th>valid_loss</th>\n",
              "      <th>accuracy</th>\n",
              "      <th>time</th>\n",
              "    </tr>\n",
              "  </thead>\n",
              "  <tbody>\n",
              "    <tr>\n",
              "      <td>0</td>\n",
              "      <td>3.630115</td>\n",
              "      <td>3.696152</td>\n",
              "      <td>0.339162</td>\n",
              "      <td>26:47</td>\n",
              "    </tr>\n",
              "  </tbody>\n",
              "</table>"
            ],
            "text/plain": [
              "<IPython.core.display.HTML object>"
            ]
          },
          "metadata": {
            "tags": []
          }
        },
        {
          "output_type": "display_data",
          "data": {
            "text/html": [
              "<table border=\"1\" class=\"dataframe\">\n",
              "  <thead>\n",
              "    <tr style=\"text-align: left;\">\n",
              "      <th>epoch</th>\n",
              "      <th>train_loss</th>\n",
              "      <th>valid_loss</th>\n",
              "      <th>accuracy</th>\n",
              "      <th>time</th>\n",
              "    </tr>\n",
              "  </thead>\n",
              "  <tbody>\n",
              "    <tr>\n",
              "      <td>0</td>\n",
              "      <td>3.635322</td>\n",
              "      <td>3.686332</td>\n",
              "      <td>0.339912</td>\n",
              "      <td>26:48</td>\n",
              "    </tr>\n",
              "  </tbody>\n",
              "</table>"
            ],
            "text/plain": [
              "<IPython.core.display.HTML object>"
            ]
          },
          "metadata": {
            "tags": []
          }
        },
        {
          "output_type": "display_data",
          "data": {
            "text/html": [
              "<table border=\"1\" class=\"dataframe\">\n",
              "  <thead>\n",
              "    <tr style=\"text-align: left;\">\n",
              "      <th>epoch</th>\n",
              "      <th>train_loss</th>\n",
              "      <th>valid_loss</th>\n",
              "      <th>accuracy</th>\n",
              "      <th>time</th>\n",
              "    </tr>\n",
              "  </thead>\n",
              "  <tbody>\n",
              "    <tr>\n",
              "      <td>0</td>\n",
              "      <td>3.621766</td>\n",
              "      <td>3.678190</td>\n",
              "      <td>0.340389</td>\n",
              "      <td>26:47</td>\n",
              "    </tr>\n",
              "  </tbody>\n",
              "</table>"
            ],
            "text/plain": [
              "<IPython.core.display.HTML object>"
            ]
          },
          "metadata": {
            "tags": []
          }
        }
      ]
    },
    {
      "cell_type": "code",
      "metadata": {
        "id": "wp6Tz86GfmMM",
        "colab_type": "code",
        "colab": {}
      },
      "source": [
        "learn.load(learner_model_load_path);"
      ],
      "execution_count": 0,
      "outputs": []
    },
    {
      "cell_type": "markdown",
      "metadata": {
        "id": "vo3xwcDsgiMU",
        "colab_type": "text"
      },
      "source": [
        "Predictions"
      ]
    },
    {
      "cell_type": "code",
      "metadata": {
        "id": "fFh99nvnf-h2",
        "colab_type": "code",
        "colab": {}
      },
      "source": [
        "TEXT = \"I liked this movie because\"\n",
        "N_WORDS = 40\n",
        "N_SENTENCES = 2"
      ],
      "execution_count": 0,
      "outputs": []
    },
    {
      "cell_type": "code",
      "metadata": {
        "id": "xu_6lErqgl85",
        "colab_type": "code",
        "colab": {
          "base_uri": "https://localhost:8080/",
          "height": 70
        },
        "outputId": "71b25df6-9ebf-47a1-bca2-7e2c337e1e12"
      },
      "source": [
        "print(\"\\n\".join(learn.predict(TEXT, N_WORDS, temperature=0.75) for _ in range(N_SENTENCES)))"
      ],
      "execution_count": 41,
      "outputs": [
        {
          "output_type": "stream",
          "text": [
            "I liked this movie because as a movie about their shown , and then it kelly to the until ending as a word black / Wanted Man Imamura . It 's a down movie that hearing some of the most reporter\n",
            "I liked this movie because in citizens . i had happens this actually . It 's an beautiful movie . The Nice movies are just state leading , and the poorly is door . i 'm not day what 's going on\n"
          ],
          "name": "stdout"
        }
      ]
    },
    {
      "cell_type": "markdown",
      "metadata": {
        "id": "Nc5o6s4dgwQD",
        "colab_type": "text"
      },
      "source": [
        "**NOTE**\n",
        "We have to save not only the model, but also its encoder, the part that's responsible for creating and updating the hidden state. For the next part, we don't care about the part that tries to guess the next word."
      ]
    },
    {
      "cell_type": "code",
      "metadata": {
        "id": "KsV3ZJIrgr-S",
        "colab_type": "code",
        "colab": {}
      },
      "source": [
        "learn.save_encoder('fine_tuned_enc')"
      ],
      "execution_count": 0,
      "outputs": []
    },
    {
      "cell_type": "markdown",
      "metadata": {
        "id": "dMRGzbzbXEJ0",
        "colab_type": "text"
      },
      "source": [
        "**CLASSIFIER**"
      ]
    },
    {
      "cell_type": "markdown",
      "metadata": {
        "id": "6BafwEt2hXi1",
        "colab_type": "text"
      },
      "source": [
        "Now, we'll create a new data object that only grabs the labelled data and keeps those labels. Again, this line takes a bit of time."
      ]
    },
    {
      "cell_type": "code",
      "metadata": {
        "id": "GcqTbfBThSDF",
        "colab_type": "code",
        "colab": {}
      },
      "source": [
        "path = untar_data(URLs.IMDB)"
      ],
      "execution_count": 0,
      "outputs": []
    },
    {
      "cell_type": "code",
      "metadata": {
        "id": "v8nQZhgghaCv",
        "colab_type": "code",
        "colab": {
          "base_uri": "https://localhost:8080/",
          "height": 17
        },
        "outputId": "22ab999f-b650-40e5-fdde-c845da6094d8"
      },
      "source": [
        "data_clas = (TextList.from_folder(path, vocab=data_lm.vocab)\n",
        "             #grab all the text files in path\n",
        "             .split_by_folder(valid='test')\n",
        "             #split by train and valid folder (that only keeps 'train' and 'test' so no need to filter)\n",
        "             .label_from_folder(classes=['neg', 'pos'])\n",
        "             #label them all with their folders\n",
        "             .databunch(bs=bs))\n",
        "\n",
        "data_clas.path = Path ( '/content/gdrive/My Drive/saved_models/NLP/IMDB_sentiment/data_models' )\n",
        "data_clas.save('data_clas.pkl')"
      ],
      "execution_count": 44,
      "outputs": [
        {
          "output_type": "display_data",
          "data": {
            "text/html": [
              ""
            ],
            "text/plain": [
              "<IPython.core.display.HTML object>"
            ]
          },
          "metadata": {
            "tags": []
          }
        },
        {
          "output_type": "display_data",
          "data": {
            "text/html": [
              ""
            ],
            "text/plain": [
              "<IPython.core.display.HTML object>"
            ]
          },
          "metadata": {
            "tags": []
          }
        }
      ]
    },
    {
      "cell_type": "code",
      "metadata": {
        "id": "QjMIKlbajksu",
        "colab_type": "code",
        "colab": {}
      },
      "source": [
        "data_clas = load_data(data_model_store_path , 'data_clas.pkl', bs=bs)"
      ],
      "execution_count": 0,
      "outputs": []
    },
    {
      "cell_type": "code",
      "metadata": {
        "id": "An4Lmy-9j0Uy",
        "colab_type": "code",
        "colab": {
          "base_uri": "https://localhost:8080/",
          "height": 364
        },
        "outputId": "91402809-c749-4ef0-dd0d-c2dca5288802"
      },
      "source": [
        "data_clas.show_batch()"
      ],
      "execution_count": 47,
      "outputs": [
        {
          "output_type": "display_data",
          "data": {
            "text/html": [
              "<table border=\"1\" class=\"dataframe\">\n",
              "  <thead>\n",
              "    <tr style=\"text-align: right;\">\n",
              "      <th>text</th>\n",
              "      <th>target</th>\n",
              "    </tr>\n",
              "  </thead>\n",
              "  <tbody>\n",
              "    <tr>\n",
              "      <td>xxbos xxmaj match 1 : xxmaj tag xxmaj team xxmaj table xxmaj match xxmaj bubba xxmaj ray and xxmaj spike xxmaj dudley vs xxmaj eddie xxmaj guerrero and xxmaj chris xxmaj benoit xxmaj bubba xxmaj ray and xxmaj spike xxmaj dudley started things off with a xxmaj tag xxmaj team xxmaj table xxmaj match against xxmaj eddie xxmaj guerrero and xxmaj chris xxmaj benoit . xxmaj according to the rules</td>\n",
              "      <td>pos</td>\n",
              "    </tr>\n",
              "    <tr>\n",
              "      <td>xxbos xxmaj this movie was recently released on xxup dvd in the xxup us and i finally got the chance to see this hard - to - find gem . xxmaj it even came with original theatrical previews of other xxmaj italian horror classics like \" xxup xxunk \" and \" xxup beyond xxup the xxup darkness \" . xxmaj unfortunately , the previews were the best thing about this</td>\n",
              "      <td>neg</td>\n",
              "    </tr>\n",
              "    <tr>\n",
              "      <td>xxbos xxmaj jim xxmaj carrey is back to much the same role that he played in xxmaj the xxmaj mask , a timid guy who is trying to get ahead in the world but who seems to be plagued with bad luck . xxmaj even when he tries to help a homeless guy from being harassed by a bunch of hoodlums ( and of course they have to be xxmaj</td>\n",
              "      <td>pos</td>\n",
              "    </tr>\n",
              "    <tr>\n",
              "      <td>xxbos xxmaj chris xxmaj rock deserves better than he gives himself in \" xxmaj down xxmaj to xxmaj earth . \" xxmaj as directed by brothers xxmaj chris &amp; xxmaj paul xxmaj weitz of \" xxmaj american xxmaj pie \" fame , this uninspired remake of xxmaj warren xxmaj beatty 's 1978 fantasy \" xxmaj heaven xxmaj can xxmaj wait , \" itself a rehash of 1941 's \" xxmaj</td>\n",
              "      <td>neg</td>\n",
              "    </tr>\n",
              "    <tr>\n",
              "      <td>xxbos xxmaj that word ' xxmaj true ' in this film 's title got my alarm bells ringing . xxmaj they rang louder when a title card referred to xxmaj america 's xxmaj civil xxmaj war as the ' xxmaj war xxmaj between the xxmaj states ' ( the xxunk preferred by die - hard southerners ) . xxmaj jesse xxmaj james -- thief , slave - holder and murderer</td>\n",
              "      <td>neg</td>\n",
              "    </tr>\n",
              "  </tbody>\n",
              "</table>"
            ],
            "text/plain": [
              "<IPython.core.display.HTML object>"
            ]
          },
          "metadata": {
            "tags": []
          }
        }
      ]
    },
    {
      "cell_type": "markdown",
      "metadata": {
        "id": "Raq5UqvOj39y",
        "colab_type": "text"
      },
      "source": [
        ""
      ]
    },
    {
      "cell_type": "markdown",
      "metadata": {
        "id": "r-Y8myqpj3gT",
        "colab_type": "text"
      },
      "source": [
        "**We can then create a model to classify those reviews and load the encoder we saved before.**"
      ]
    },
    {
      "cell_type": "code",
      "metadata": {
        "id": "hsW0pe__j6JZ",
        "colab_type": "code",
        "colab": {
          "base_uri": "https://localhost:8080/",
          "height": 1000
        },
        "outputId": "bb0aa45c-6c61-47de-e22c-2fa63f4ecc9d"
      },
      "source": [
        "learn = text_classifier_learner(data_clas, AWD_LSTM, drop_mult=0.5)\n",
        "learn.load_encoder('fine_tuned_enc')"
      ],
      "execution_count": 48,
      "outputs": [
        {
          "output_type": "execute_result",
          "data": {
            "text/plain": [
              "RNNLearner(data=TextClasDataBunch;\n",
              "\n",
              "Train: LabelList (25000 items)\n",
              "x: TextList\n",
              "xxbos xxmaj this is the worst adaption of a classic story i have ever seen . xxmaj they needlessly modernize it and some points are actually just sick . \n",
              " \n",
              "  xxmaj the songs rarely move along the story . xxmaj they seem to be thrown in at random . xxmaj the flying scene with xxmaj marley is pointless and ludicrous . \n",
              " \n",
              "  xxmaj it 's not only one of the worst movies i 've seen , but it is definitely the worst musical i 've ever seen . \n",
              " \n",
              "  xxmaj it 's probably only considered a classic because \" a xxmaj christmas xxmaj carol \" is such a classic story . xxmaj just because the original story was a classic does n't mean that some cheap adaption is .,xxbos xxmaj wow and i thought that any xxmaj steven xxmaj segal movie was bad . xxmaj every time i thought that the movie could n't get worse it proved me wrong . xxmaj the story was good but the actors could n't carry it off . xxmaj also , they made a lot of mistakes on how proper xxunk digs are done . xxmaj for instance you do n't handle artifacts untill they are xxunk and accounted for . xxmaj the biggest crime in casting was the xxunk girl . xxmaj she is a weak actress and i felt that her acting really made the movie less realistic then it already was . xxmaj the whole concept of the knights templar being underground all these years seemed pretty stupid to me . i like the idea of how they disappeared and stuff , so that almost seemed depressing . i thought that the characters wern't explained well enough . xxmaj you did n't find out much background and that made it harder to relate to them .,xxbos xxmaj when i saw the preview , i thought : this is going to be a great movie . xxmaj and indeed it could have been . xxmaj the actress playing the main character was very credible , and the beauty of the filming is undeniable . xxmaj however the dialogues cast a dark shadow on the whole picture . xxmaj the level of language was too familiar and too contemporary for an action taking place in xxunk , and it took away most of the magic of the film . xxmaj however , i must congratulate the translator , because the xxmaj english sub - titles were more refined and appropriate that the original xxmaj french cues , and it probably explains the good rating the movie received on the imbd !,xxbos i saw the movie late one night on cable and could not believe how bad it was . i usually enjoy bad movies , but this one was so revolting that it was n't even entertaining . xxmaj some of the highlights of this film include the absurd music which is constantly playing throughout the movie , the hideous special effects ( when someone is shot with a laser gun they turn neon green and promptly disintegrate ) , and the disgusting acting . xxmaj the acting , in fact , is what i feel steals the show . i did n't recognize any of the actors in the movie , and i hope that i never have to see any of them again . xxmaj overall , i recommend renting this movie ( if you can find it ; i ca n't imagine a video store carrying this garbage ) just so that you can learn to appreciate quality films after seeing this trash .,xxbos xxmaj this could have been a good episode but i simply had to turn it off . xxmaj the xxmaj british representation was horrible to watch . xxmaj have the makers ever set foot in xxmaj britain prior to filming ? xxmaj at least set foot in xxmaj england ? ? i do n't think any xxmaj british person have had such an accent apart from a comedy skit of xxmaj the xxmaj royal xxmaj family ! xxmaj also with the 2 xxmaj english boys ... well i do n't think any xxmaj english boy has acted , spoke or dressed like any xxmaj english kid in the history of the xxmaj british nation since xxmaj prince xxmaj william and xxmaj harry 's preteen public appearances . xxmaj to xxmaj american film makers .. xxmaj there is more than 1 country in the xxup uk . xxmaj england , xxmaj wales , xxmaj scotland and xxmaj northern xxmaj ireland .. meaning more than 1 culture ! i can handle some stereotyping but this was so bad i could not watch it . xxmaj fire looked cool though !\n",
              "y: CategoryList\n",
              "neg,neg,neg,neg,neg\n",
              "Path: /root/.fastai/data/imdb;\n",
              "\n",
              "Valid: LabelList (25000 items)\n",
              "x: TextList\n",
              "xxbos xxmaj this movie changes its way a third of the way xxunk totally pointless boring and xxunk hated this movie so much that i will never watch it xxunk bad films can be really funny . this is just a xxmaj british art house picture that should never of been xxunk out of 10,xxbos xxmaj so tell me - what serious boozer drinks xxmaj budweiser ? xxmaj how many suicidally - obsessed drinkers house a fully stocked and barely touched range of drinks in their lonely motel room that a millionaire playboy 's bachelor - pad bar would be proud to boast ? xxmaj and what kind of an alcoholic tends to drink with the bottle held about 8 inches from his hungry mouth so that the contents generally spill all over his face ? xxmaj not to mention wasting good whisky by dousing your girlfriend 's tits with it , just so the cinema audience can get a good eyeful of xxmaj elisabeth xxmaj shue 's assets . \n",
              " \n",
              "  xxmaj cage seems to be portraying the most attention - seeking look - at - me alcoholic ever to have graced the screen while xxmaj shue looks more like a xxmaj berkely preppy slumming it for a summer than some seasoned street - walker . xxmaj she is humiliated and subjugated as often as possible in this revolting movie with beatings , skin lacerations , anal rape and graphic verbal abuse - all of it completely implausible and included apparently only to convey a sense of her horribly demeaned state and offer the male viewers an astonishingly clichéd sentimental sexual fantasy of the ' tart - with - a - heart ' . \n",
              " \n",
              "  xxmaj still - i did watch it to the end , by which time i was actually laughing out loud as xxmaj shue 's tough street hooker chopped carrots in the kitchen xxunk , pathetically smiling while xxmaj cage - all eyes popping and shaking like like a man operating a road drill in an earthquake - grimaced and mugged his way through the final half - hour ...,xxbos xxmaj after watching xxmaj avalon ( which was decent only because of the very nice digital fx ) , and several anime films written by xxmaj oshii , including xxmaj jin - xxmaj xxunk ( which is fantastic ) i decided i should check out the xxmaj oshii cinema trilogy box set . xxmaj being that the xxmaj red xxmaj spectacles and xxmaj stray xxmaj dog are related , i will comment here on both . xxmaj and let me tell you , it was one of the biggest wastes of money i have spent in a while . i first watched xxmaj stray xxmaj dogs and then xxmaj the xxmaj red xxmaj spectacles . i am sad to say that these films are quite possibly the most boring two movies i have ever seen . xxmaj for only about 10 minutes in each film do you get to see some action between the the characters , who are only dressed in the \" xxmaj panzer xxmaj cop \" outfits for a few fleeting scenes . xxmaj the rest of the time you will see some very drawn out scenes filled with boring dialogue in some less than impressive locations . i really do n't understand the motivation behind these two films at all . i love the xxmaj wolf xxmaj brigade outfits and the idea behind the plot , but the films themselves leave much to be desired . i would suggest xxup not watching these films , and certainly do not buy the box set like i did , unless you enjoy wasting money . xxmaj oh , and if you are wondering what i think about the 3rd movie in the set , xxmaj talking xxmaj head , i could n't even bring myself to watch it before i purged the box set from my xxup dvd collection via ebay at a $ 20 loss . xxmaj if you want cool xxmaj japanese live action , check out xxmaj xxunk , or xxmaj xxunk the xxmaj killer or the xxmaj zeiram series .,xxbos xxmaj if you take the films , xxmaj mad xxmaj max , xxmaj beyond xxmaj thunderdome , and the movie xxmaj steel xxmaj dawn with xxmaj patrick xxmaj swayze , you will have a pretty good idea what the film is about . xxmaj the only problems is , that the film lacks the production values of either , and represent mainly cheap copy of the former two . xxmaj true , the film has plenty of action , but asks the viewer to suspend belief . xxmaj no one can shoot a 50 xxmaj caliber xxmaj machine gun by holding it in his hand - and miss everything to boot , nor can you shoot at a group of people with an automatic weapon and miss the whole bunch . xxmaj there is also a problem with poor editing , when the school bus flips over , it is easy enough to see the cannon used to do the job . xxmaj and the lady driving the truck through it is superfluous , since she had more than enough time to stop the truck . xxmaj if you are interested only in mindless action and violence then the movie is easy enough to watch . xxmaj but do n't expect anything on xxunk with xxmaj thunderdome , or even the somewhat cheap and tacky xxmaj steel xxmaj dawn .,xxbos xxmaj the only thing in \" xxmaj sudden xxmaj death \" that outdoes the amount of non - stop action is the incredible number of plot holes . xxmaj what with that , and the sheer amount of contrivances , one could hardly call what 's left a storyline . xxmaj to say the screenplay has borrowed from the \" xxmaj die xxmaj hard \" premise would be to make the world 's most blatant understatement ! \n",
              " \n",
              "  xxmaj here we have a troubled hero working in the huge xxmaj pittsburgh xxmaj indoor xxmaj ice xxmaj rink as a fire xxmaj marshall . xxmaj on the night of the seventh game of the finals series he gets tickets so he can treat his estranged children to the deciding game , and of course spend a little time with them . xxmaj also catching the match , but for political reasons , is the xxmaj vice xxmaj president of the xxmaj united xxmaj states ( xxmaj raymond xxup j. xxmaj barry ) . xxmaj when a bunch of incredibly well organised mercenaries capture the xxup xxunk 's box and demand hundreds of millions in government money , our hero xxmaj darren mccord has his plans more than slightly put out . \n",
              " \n",
              "  xxmaj each time a new one of these formula flicks is made it seems that all we get in the way of innovation is nastier bad guys , and more and more spectacular and gruesome ways in which the good guys dispose of them . xxmaj director xxmaj hyams and his screenwriter have gone over the top ( not that this is an original sin ) in trying to make us loathe the wicked terrorists . xxmaj the horrible baddies go about shooting the secret service , the security and the civilians ( both old and young ) with gay abandon , and with scant regard for the relative threat of each victim . \n",
              " \n",
              "  xxmaj van xxmaj damme engages in plenty of xxunk - cuffs and gunplay , heroics and death defying stunts . xxmaj the script asks little of the musclebound xxmaj european . xxmaj almost everyone else has walk - ons apart from xxmaj powers xxmaj boothe , who seriously overdoes his under written , shallow role as the cruelest , meanest old ring leader there ever was . \n",
              " \n",
              "  xxmaj there 's a lot of clever cinematography , and enough explosive special f / x to keep anyone awake . xxmaj but really , that 's all this action flick has , action . xxmaj though there are some nifty sequences , nothing could be called outrageously brilliant . \n",
              " \n",
              "  xxmaj saturday , xxmaj february 10 , 1996 - xxmaj greater xxmaj union xxmaj melbourne\n",
              "y: CategoryList\n",
              "neg,neg,neg,neg,neg\n",
              "Path: /root/.fastai/data/imdb;\n",
              "\n",
              "Test: None, model=SequentialRNN(\n",
              "  (0): MultiBatchEncoder(\n",
              "    (module): AWD_LSTM(\n",
              "      (encoder): Embedding(60000, 400, padding_idx=1)\n",
              "      (encoder_dp): EmbeddingDropout(\n",
              "        (emb): Embedding(60000, 400, padding_idx=1)\n",
              "      )\n",
              "      (rnns): ModuleList(\n",
              "        (0): WeightDropout(\n",
              "          (module): LSTM(400, 1152, batch_first=True)\n",
              "        )\n",
              "        (1): WeightDropout(\n",
              "          (module): LSTM(1152, 1152, batch_first=True)\n",
              "        )\n",
              "        (2): WeightDropout(\n",
              "          (module): LSTM(1152, 400, batch_first=True)\n",
              "        )\n",
              "      )\n",
              "      (input_dp): RNNDropout()\n",
              "      (hidden_dps): ModuleList(\n",
              "        (0): RNNDropout()\n",
              "        (1): RNNDropout()\n",
              "        (2): RNNDropout()\n",
              "      )\n",
              "    )\n",
              "  )\n",
              "  (1): PoolingLinearClassifier(\n",
              "    (layers): Sequential(\n",
              "      (0): BatchNorm1d(1200, eps=1e-05, momentum=0.1, affine=True, track_running_stats=True)\n",
              "      (1): Dropout(p=0.2, inplace=False)\n",
              "      (2): Linear(in_features=1200, out_features=50, bias=True)\n",
              "      (3): ReLU(inplace=True)\n",
              "      (4): BatchNorm1d(50, eps=1e-05, momentum=0.1, affine=True, track_running_stats=True)\n",
              "      (5): Dropout(p=0.1, inplace=False)\n",
              "      (6): Linear(in_features=50, out_features=2, bias=True)\n",
              "    )\n",
              "  )\n",
              "), opt_func=functools.partial(<class 'torch.optim.adam.Adam'>, betas=(0.9, 0.99)), loss_func=FlattenedLoss of CrossEntropyLoss(), metrics=[<function accuracy at 0x7f9dd2222950>], true_wd=True, bn_wd=True, wd=0.01, train_bn=True, path=PosixPath('/content/gdrive/My Drive/saved_models/NLP/IMDB_sentiment/data_models'), model_dir='models', callback_fns=[functools.partial(<class 'fastai.basic_train.Recorder'>, add_time=True, silent=False)], callbacks=[RNNTrainer\n",
              "learn: RNNLearner(data=TextClasDataBunch;\n",
              "\n",
              "Train: LabelList (25000 items)\n",
              "x: TextList\n",
              "xxbos xxmaj this is the worst adaption of a classic story i have ever seen . xxmaj they needlessly modernize it and some points are actually just sick . \n",
              " \n",
              "  xxmaj the songs rarely move along the story . xxmaj they seem to be thrown in at random . xxmaj the flying scene with xxmaj marley is pointless and ludicrous . \n",
              " \n",
              "  xxmaj it 's not only one of the worst movies i 've seen , but it is definitely the worst musical i 've ever seen . \n",
              " \n",
              "  xxmaj it 's probably only considered a classic because \" a xxmaj christmas xxmaj carol \" is such a classic story . xxmaj just because the original story was a classic does n't mean that some cheap adaption is .,xxbos xxmaj wow and i thought that any xxmaj steven xxmaj segal movie was bad . xxmaj every time i thought that the movie could n't get worse it proved me wrong . xxmaj the story was good but the actors could n't carry it off . xxmaj also , they made a lot of mistakes on how proper xxunk digs are done . xxmaj for instance you do n't handle artifacts untill they are xxunk and accounted for . xxmaj the biggest crime in casting was the xxunk girl . xxmaj she is a weak actress and i felt that her acting really made the movie less realistic then it already was . xxmaj the whole concept of the knights templar being underground all these years seemed pretty stupid to me . i like the idea of how they disappeared and stuff , so that almost seemed depressing . i thought that the characters wern't explained well enough . xxmaj you did n't find out much background and that made it harder to relate to them .,xxbos xxmaj when i saw the preview , i thought : this is going to be a great movie . xxmaj and indeed it could have been . xxmaj the actress playing the main character was very credible , and the beauty of the filming is undeniable . xxmaj however the dialogues cast a dark shadow on the whole picture . xxmaj the level of language was too familiar and too contemporary for an action taking place in xxunk , and it took away most of the magic of the film . xxmaj however , i must congratulate the translator , because the xxmaj english sub - titles were more refined and appropriate that the original xxmaj french cues , and it probably explains the good rating the movie received on the imbd !,xxbos i saw the movie late one night on cable and could not believe how bad it was . i usually enjoy bad movies , but this one was so revolting that it was n't even entertaining . xxmaj some of the highlights of this film include the absurd music which is constantly playing throughout the movie , the hideous special effects ( when someone is shot with a laser gun they turn neon green and promptly disintegrate ) , and the disgusting acting . xxmaj the acting , in fact , is what i feel steals the show . i did n't recognize any of the actors in the movie , and i hope that i never have to see any of them again . xxmaj overall , i recommend renting this movie ( if you can find it ; i ca n't imagine a video store carrying this garbage ) just so that you can learn to appreciate quality films after seeing this trash .,xxbos xxmaj this could have been a good episode but i simply had to turn it off . xxmaj the xxmaj british representation was horrible to watch . xxmaj have the makers ever set foot in xxmaj britain prior to filming ? xxmaj at least set foot in xxmaj england ? ? i do n't think any xxmaj british person have had such an accent apart from a comedy skit of xxmaj the xxmaj royal xxmaj family ! xxmaj also with the 2 xxmaj english boys ... well i do n't think any xxmaj english boy has acted , spoke or dressed like any xxmaj english kid in the history of the xxmaj british nation since xxmaj prince xxmaj william and xxmaj harry 's preteen public appearances . xxmaj to xxmaj american film makers .. xxmaj there is more than 1 country in the xxup uk . xxmaj england , xxmaj wales , xxmaj scotland and xxmaj northern xxmaj ireland .. meaning more than 1 culture ! i can handle some stereotyping but this was so bad i could not watch it . xxmaj fire looked cool though !\n",
              "y: CategoryList\n",
              "neg,neg,neg,neg,neg\n",
              "Path: /root/.fastai/data/imdb;\n",
              "\n",
              "Valid: LabelList (25000 items)\n",
              "x: TextList\n",
              "xxbos xxmaj this movie changes its way a third of the way xxunk totally pointless boring and xxunk hated this movie so much that i will never watch it xxunk bad films can be really funny . this is just a xxmaj british art house picture that should never of been xxunk out of 10,xxbos xxmaj so tell me - what serious boozer drinks xxmaj budweiser ? xxmaj how many suicidally - obsessed drinkers house a fully stocked and barely touched range of drinks in their lonely motel room that a millionaire playboy 's bachelor - pad bar would be proud to boast ? xxmaj and what kind of an alcoholic tends to drink with the bottle held about 8 inches from his hungry mouth so that the contents generally spill all over his face ? xxmaj not to mention wasting good whisky by dousing your girlfriend 's tits with it , just so the cinema audience can get a good eyeful of xxmaj elisabeth xxmaj shue 's assets . \n",
              " \n",
              "  xxmaj cage seems to be portraying the most attention - seeking look - at - me alcoholic ever to have graced the screen while xxmaj shue looks more like a xxmaj berkely preppy slumming it for a summer than some seasoned street - walker . xxmaj she is humiliated and subjugated as often as possible in this revolting movie with beatings , skin lacerations , anal rape and graphic verbal abuse - all of it completely implausible and included apparently only to convey a sense of her horribly demeaned state and offer the male viewers an astonishingly clichéd sentimental sexual fantasy of the ' tart - with - a - heart ' . \n",
              " \n",
              "  xxmaj still - i did watch it to the end , by which time i was actually laughing out loud as xxmaj shue 's tough street hooker chopped carrots in the kitchen xxunk , pathetically smiling while xxmaj cage - all eyes popping and shaking like like a man operating a road drill in an earthquake - grimaced and mugged his way through the final half - hour ...,xxbos xxmaj after watching xxmaj avalon ( which was decent only because of the very nice digital fx ) , and several anime films written by xxmaj oshii , including xxmaj jin - xxmaj xxunk ( which is fantastic ) i decided i should check out the xxmaj oshii cinema trilogy box set . xxmaj being that the xxmaj red xxmaj spectacles and xxmaj stray xxmaj dog are related , i will comment here on both . xxmaj and let me tell you , it was one of the biggest wastes of money i have spent in a while . i first watched xxmaj stray xxmaj dogs and then xxmaj the xxmaj red xxmaj spectacles . i am sad to say that these films are quite possibly the most boring two movies i have ever seen . xxmaj for only about 10 minutes in each film do you get to see some action between the the characters , who are only dressed in the \" xxmaj panzer xxmaj cop \" outfits for a few fleeting scenes . xxmaj the rest of the time you will see some very drawn out scenes filled with boring dialogue in some less than impressive locations . i really do n't understand the motivation behind these two films at all . i love the xxmaj wolf xxmaj brigade outfits and the idea behind the plot , but the films themselves leave much to be desired . i would suggest xxup not watching these films , and certainly do not buy the box set like i did , unless you enjoy wasting money . xxmaj oh , and if you are wondering what i think about the 3rd movie in the set , xxmaj talking xxmaj head , i could n't even bring myself to watch it before i purged the box set from my xxup dvd collection via ebay at a $ 20 loss . xxmaj if you want cool xxmaj japanese live action , check out xxmaj xxunk , or xxmaj xxunk the xxmaj killer or the xxmaj zeiram series .,xxbos xxmaj if you take the films , xxmaj mad xxmaj max , xxmaj beyond xxmaj thunderdome , and the movie xxmaj steel xxmaj dawn with xxmaj patrick xxmaj swayze , you will have a pretty good idea what the film is about . xxmaj the only problems is , that the film lacks the production values of either , and represent mainly cheap copy of the former two . xxmaj true , the film has plenty of action , but asks the viewer to suspend belief . xxmaj no one can shoot a 50 xxmaj caliber xxmaj machine gun by holding it in his hand - and miss everything to boot , nor can you shoot at a group of people with an automatic weapon and miss the whole bunch . xxmaj there is also a problem with poor editing , when the school bus flips over , it is easy enough to see the cannon used to do the job . xxmaj and the lady driving the truck through it is superfluous , since she had more than enough time to stop the truck . xxmaj if you are interested only in mindless action and violence then the movie is easy enough to watch . xxmaj but do n't expect anything on xxunk with xxmaj thunderdome , or even the somewhat cheap and tacky xxmaj steel xxmaj dawn .,xxbos xxmaj the only thing in \" xxmaj sudden xxmaj death \" that outdoes the amount of non - stop action is the incredible number of plot holes . xxmaj what with that , and the sheer amount of contrivances , one could hardly call what 's left a storyline . xxmaj to say the screenplay has borrowed from the \" xxmaj die xxmaj hard \" premise would be to make the world 's most blatant understatement ! \n",
              " \n",
              "  xxmaj here we have a troubled hero working in the huge xxmaj pittsburgh xxmaj indoor xxmaj ice xxmaj rink as a fire xxmaj marshall . xxmaj on the night of the seventh game of the finals series he gets tickets so he can treat his estranged children to the deciding game , and of course spend a little time with them . xxmaj also catching the match , but for political reasons , is the xxmaj vice xxmaj president of the xxmaj united xxmaj states ( xxmaj raymond xxup j. xxmaj barry ) . xxmaj when a bunch of incredibly well organised mercenaries capture the xxup xxunk 's box and demand hundreds of millions in government money , our hero xxmaj darren mccord has his plans more than slightly put out . \n",
              " \n",
              "  xxmaj each time a new one of these formula flicks is made it seems that all we get in the way of innovation is nastier bad guys , and more and more spectacular and gruesome ways in which the good guys dispose of them . xxmaj director xxmaj hyams and his screenwriter have gone over the top ( not that this is an original sin ) in trying to make us loathe the wicked terrorists . xxmaj the horrible baddies go about shooting the secret service , the security and the civilians ( both old and young ) with gay abandon , and with scant regard for the relative threat of each victim . \n",
              " \n",
              "  xxmaj van xxmaj damme engages in plenty of xxunk - cuffs and gunplay , heroics and death defying stunts . xxmaj the script asks little of the musclebound xxmaj european . xxmaj almost everyone else has walk - ons apart from xxmaj powers xxmaj boothe , who seriously overdoes his under written , shallow role as the cruelest , meanest old ring leader there ever was . \n",
              " \n",
              "  xxmaj there 's a lot of clever cinematography , and enough explosive special f / x to keep anyone awake . xxmaj but really , that 's all this action flick has , action . xxmaj though there are some nifty sequences , nothing could be called outrageously brilliant . \n",
              " \n",
              "  xxmaj saturday , xxmaj february 10 , 1996 - xxmaj greater xxmaj union xxmaj melbourne\n",
              "y: CategoryList\n",
              "neg,neg,neg,neg,neg\n",
              "Path: /root/.fastai/data/imdb;\n",
              "\n",
              "Test: None, model=SequentialRNN(\n",
              "  (0): MultiBatchEncoder(\n",
              "    (module): AWD_LSTM(\n",
              "      (encoder): Embedding(60000, 400, padding_idx=1)\n",
              "      (encoder_dp): EmbeddingDropout(\n",
              "        (emb): Embedding(60000, 400, padding_idx=1)\n",
              "      )\n",
              "      (rnns): ModuleList(\n",
              "        (0): WeightDropout(\n",
              "          (module): LSTM(400, 1152, batch_first=True)\n",
              "        )\n",
              "        (1): WeightDropout(\n",
              "          (module): LSTM(1152, 1152, batch_first=True)\n",
              "        )\n",
              "        (2): WeightDropout(\n",
              "          (module): LSTM(1152, 400, batch_first=True)\n",
              "        )\n",
              "      )\n",
              "      (input_dp): RNNDropout()\n",
              "      (hidden_dps): ModuleList(\n",
              "        (0): RNNDropout()\n",
              "        (1): RNNDropout()\n",
              "        (2): RNNDropout()\n",
              "      )\n",
              "    )\n",
              "  )\n",
              "  (1): PoolingLinearClassifier(\n",
              "    (layers): Sequential(\n",
              "      (0): BatchNorm1d(1200, eps=1e-05, momentum=0.1, affine=True, track_running_stats=True)\n",
              "      (1): Dropout(p=0.2, inplace=False)\n",
              "      (2): Linear(in_features=1200, out_features=50, bias=True)\n",
              "      (3): ReLU(inplace=True)\n",
              "      (4): BatchNorm1d(50, eps=1e-05, momentum=0.1, affine=True, track_running_stats=True)\n",
              "      (5): Dropout(p=0.1, inplace=False)\n",
              "      (6): Linear(in_features=50, out_features=2, bias=True)\n",
              "    )\n",
              "  )\n",
              "), opt_func=functools.partial(<class 'torch.optim.adam.Adam'>, betas=(0.9, 0.99)), loss_func=FlattenedLoss of CrossEntropyLoss(), metrics=[<function accuracy at 0x7f9dd2222950>], true_wd=True, bn_wd=True, wd=0.01, train_bn=True, path=PosixPath('/content/gdrive/My Drive/saved_models/NLP/IMDB_sentiment/data_models'), model_dir='models', callback_fns=[functools.partial(<class 'fastai.basic_train.Recorder'>, add_time=True, silent=False)], callbacks=[...], layer_groups=[Sequential(\n",
              "  (0): Embedding(60000, 400, padding_idx=1)\n",
              "  (1): EmbeddingDropout(\n",
              "    (emb): Embedding(60000, 400, padding_idx=1)\n",
              "  )\n",
              "), Sequential(\n",
              "  (0): WeightDropout(\n",
              "    (module): LSTM(400, 1152, batch_first=True)\n",
              "  )\n",
              "  (1): RNNDropout()\n",
              "), Sequential(\n",
              "  (0): WeightDropout(\n",
              "    (module): LSTM(1152, 1152, batch_first=True)\n",
              "  )\n",
              "  (1): RNNDropout()\n",
              "), Sequential(\n",
              "  (0): WeightDropout(\n",
              "    (module): LSTM(1152, 400, batch_first=True)\n",
              "  )\n",
              "  (1): RNNDropout()\n",
              "), Sequential(\n",
              "  (0): PoolingLinearClassifier(\n",
              "    (layers): Sequential(\n",
              "      (0): BatchNorm1d(1200, eps=1e-05, momentum=0.1, affine=True, track_running_stats=True)\n",
              "      (1): Dropout(p=0.2, inplace=False)\n",
              "      (2): Linear(in_features=1200, out_features=50, bias=True)\n",
              "      (3): ReLU(inplace=True)\n",
              "      (4): BatchNorm1d(50, eps=1e-05, momentum=0.1, affine=True, track_running_stats=True)\n",
              "      (5): Dropout(p=0.1, inplace=False)\n",
              "      (6): Linear(in_features=50, out_features=2, bias=True)\n",
              "    )\n",
              "  )\n",
              ")], add_time=True, silent=False)\n",
              "alpha: 2.0\n",
              "beta: 1.0], layer_groups=[Sequential(\n",
              "  (0): Embedding(60000, 400, padding_idx=1)\n",
              "  (1): EmbeddingDropout(\n",
              "    (emb): Embedding(60000, 400, padding_idx=1)\n",
              "  )\n",
              "), Sequential(\n",
              "  (0): WeightDropout(\n",
              "    (module): LSTM(400, 1152, batch_first=True)\n",
              "  )\n",
              "  (1): RNNDropout()\n",
              "), Sequential(\n",
              "  (0): WeightDropout(\n",
              "    (module): LSTM(1152, 1152, batch_first=True)\n",
              "  )\n",
              "  (1): RNNDropout()\n",
              "), Sequential(\n",
              "  (0): WeightDropout(\n",
              "    (module): LSTM(1152, 400, batch_first=True)\n",
              "  )\n",
              "  (1): RNNDropout()\n",
              "), Sequential(\n",
              "  (0): PoolingLinearClassifier(\n",
              "    (layers): Sequential(\n",
              "      (0): BatchNorm1d(1200, eps=1e-05, momentum=0.1, affine=True, track_running_stats=True)\n",
              "      (1): Dropout(p=0.2, inplace=False)\n",
              "      (2): Linear(in_features=1200, out_features=50, bias=True)\n",
              "      (3): ReLU(inplace=True)\n",
              "      (4): BatchNorm1d(50, eps=1e-05, momentum=0.1, affine=True, track_running_stats=True)\n",
              "      (5): Dropout(p=0.1, inplace=False)\n",
              "      (6): Linear(in_features=50, out_features=2, bias=True)\n",
              "    )\n",
              "  )\n",
              ")], add_time=True, silent=False)"
            ]
          },
          "metadata": {
            "tags": []
          },
          "execution_count": 48
        }
      ]
    },
    {
      "cell_type": "code",
      "metadata": {
        "id": "tZhQR53Kj-S3",
        "colab_type": "code",
        "colab": {
          "base_uri": "https://localhost:8080/",
          "height": 110
        },
        "outputId": "2503a9df-a96d-476d-8142-9d144f07ca6f"
      },
      "source": [
        "learn.lr_find()"
      ],
      "execution_count": 49,
      "outputs": [
        {
          "output_type": "display_data",
          "data": {
            "text/html": [
              "\n",
              "    <div>\n",
              "        <style>\n",
              "            /* Turns off some styling */\n",
              "            progress {\n",
              "                /* gets rid of default border in Firefox and Opera. */\n",
              "                border: none;\n",
              "                /* Needs to be in here for Safari polyfill so background images work as expected. */\n",
              "                background-size: auto;\n",
              "            }\n",
              "            .progress-bar-interrupted, .progress-bar-interrupted::-webkit-progress-bar {\n",
              "                background: #F44336;\n",
              "            }\n",
              "        </style>\n",
              "      <progress value='0' class='' max='1', style='width:300px; height:20px; vertical-align: middle;'></progress>\n",
              "      0.00% [0/1 00:00<00:00]\n",
              "    </div>\n",
              "    \n",
              "<table border=\"1\" class=\"dataframe\">\n",
              "  <thead>\n",
              "    <tr style=\"text-align: left;\">\n",
              "      <th>epoch</th>\n",
              "      <th>train_loss</th>\n",
              "      <th>valid_loss</th>\n",
              "      <th>accuracy</th>\n",
              "      <th>time</th>\n",
              "    </tr>\n",
              "  </thead>\n",
              "  <tbody>\n",
              "  </tbody>\n",
              "</table><p>\n",
              "\n",
              "    <div>\n",
              "        <style>\n",
              "            /* Turns off some styling */\n",
              "            progress {\n",
              "                /* gets rid of default border in Firefox and Opera. */\n",
              "                border: none;\n",
              "                /* Needs to be in here for Safari polyfill so background images work as expected. */\n",
              "                background-size: auto;\n",
              "            }\n",
              "            .progress-bar-interrupted, .progress-bar-interrupted::-webkit-progress-bar {\n",
              "                background: #F44336;\n",
              "            }\n",
              "        </style>\n",
              "      <progress value='95' class='' max='520', style='width:300px; height:20px; vertical-align: middle;'></progress>\n",
              "      18.27% [95/520 00:20<01:33 2.9335]\n",
              "    </div>\n",
              "    "
            ],
            "text/plain": [
              "<IPython.core.display.HTML object>"
            ]
          },
          "metadata": {
            "tags": []
          }
        },
        {
          "output_type": "stream",
          "text": [
            "LR Finder is complete, type {learner_name}.recorder.plot() to see the graph.\n"
          ],
          "name": "stdout"
        }
      ]
    },
    {
      "cell_type": "code",
      "metadata": {
        "id": "eV2cvKwWj_eJ",
        "colab_type": "code",
        "colab": {
          "base_uri": "https://localhost:8080/",
          "height": 279
        },
        "outputId": "723c8707-afbf-44e3-e595-4ab6f520d3cb"
      },
      "source": [
        "learn.recorder.plot()"
      ],
      "execution_count": 50,
      "outputs": [
        {
          "output_type": "display_data",
          "data": {
            "image/png": "[encoded data removed]",
            "text/plain": [
              "<Figure size 432x288 with 1 Axes>"
            ]
          },
          "metadata": {
            "tags": []
          }
        }
      ]
    },
    {
      "cell_type": "code",
      "metadata": {
        "id": "QgTTuxeAkA6A",
        "colab_type": "code",
        "colab": {
          "base_uri": "https://localhost:8080/",
          "height": 77
        },
        "outputId": "cc4101e8-5b82-4f66-9fe8-5be07bee1ec8"
      },
      "source": [
        "learn.fit_one_cycle(1, 2e-2, moms=(0.8,0.7))"
      ],
      "execution_count": 51,
      "outputs": [
        {
          "output_type": "display_data",
          "data": {
            "text/html": [
              "<table border=\"1\" class=\"dataframe\">\n",
              "  <thead>\n",
              "    <tr style=\"text-align: left;\">\n",
              "      <th>epoch</th>\n",
              "      <th>train_loss</th>\n",
              "      <th>valid_loss</th>\n",
              "      <th>accuracy</th>\n",
              "      <th>time</th>\n",
              "    </tr>\n",
              "  </thead>\n",
              "  <tbody>\n",
              "    <tr>\n",
              "      <td>0</td>\n",
              "      <td>0.609524</td>\n",
              "      <td>0.553286</td>\n",
              "      <td>0.722840</td>\n",
              "      <td>02:54</td>\n",
              "    </tr>\n",
              "  </tbody>\n",
              "</table>"
            ],
            "text/plain": [
              "<IPython.core.display.HTML object>"
            ]
          },
          "metadata": {
            "tags": []
          }
        }
      ]
    },
    {
      "cell_type": "code",
      "metadata": {
        "id": "rF6sBr5WkCmG",
        "colab_type": "code",
        "colab": {}
      },
      "source": [
        "learn.save('first')"
      ],
      "execution_count": 0,
      "outputs": []
    },
    {
      "cell_type": "code",
      "metadata": {
        "id": "9u5fKHdgkD4m",
        "colab_type": "code",
        "colab": {}
      },
      "source": [
        "learn.load('first');"
      ],
      "execution_count": 0,
      "outputs": []
    },
    {
      "cell_type": "code",
      "metadata": {
        "id": "uB-uWnbrkFXJ",
        "colab_type": "code",
        "colab": {
          "base_uri": "https://localhost:8080/",
          "height": 77
        },
        "outputId": "4f58113a-5bae-4f12-b0a0-42595b88b7a4"
      },
      "source": [
        "learn.freeze_to(-2)\n",
        "learn.fit_one_cycle(1, slice(1e-2/(2.6**4),1e-2), moms=(0.8,0.7))"
      ],
      "execution_count": 54,
      "outputs": [
        {
          "output_type": "display_data",
          "data": {
            "text/html": [
              "<table border=\"1\" class=\"dataframe\">\n",
              "  <thead>\n",
              "    <tr style=\"text-align: left;\">\n",
              "      <th>epoch</th>\n",
              "      <th>train_loss</th>\n",
              "      <th>valid_loss</th>\n",
              "      <th>accuracy</th>\n",
              "      <th>time</th>\n",
              "    </tr>\n",
              "  </thead>\n",
              "  <tbody>\n",
              "    <tr>\n",
              "      <td>0</td>\n",
              "      <td>0.496839</td>\n",
              "      <td>0.430830</td>\n",
              "      <td>0.799560</td>\n",
              "      <td>03:41</td>\n",
              "    </tr>\n",
              "  </tbody>\n",
              "</table>"
            ],
            "text/plain": [
              "<IPython.core.display.HTML object>"
            ]
          },
          "metadata": {
            "tags": []
          }
        }
      ]
    },
    {
      "cell_type": "code",
      "metadata": {
        "id": "n3-JVNDOkG2Q",
        "colab_type": "code",
        "colab": {}
      },
      "source": [
        "learn.save('second')"
      ],
      "execution_count": 0,
      "outputs": []
    },
    {
      "cell_type": "code",
      "metadata": {
        "id": "zrpdaCS1kH6i",
        "colab_type": "code",
        "colab": {}
      },
      "source": [
        "learn.load('second');"
      ],
      "execution_count": 0,
      "outputs": []
    },
    {
      "cell_type": "code",
      "metadata": {
        "id": "VGkcGK3ekJZ6",
        "colab_type": "code",
        "colab": {
          "base_uri": "https://localhost:8080/",
          "height": 77
        },
        "outputId": "50d01844-6bc3-4436-9d19-3d6fc064d804"
      },
      "source": [
        "learn.freeze_to(-3)\n",
        "learn.fit_one_cycle(1, slice(5e-3/(2.6**4),5e-3), moms=(0.8,0.7))"
      ],
      "execution_count": 57,
      "outputs": [
        {
          "output_type": "display_data",
          "data": {
            "text/html": [
              "<table border=\"1\" class=\"dataframe\">\n",
              "  <thead>\n",
              "    <tr style=\"text-align: left;\">\n",
              "      <th>epoch</th>\n",
              "      <th>train_loss</th>\n",
              "      <th>valid_loss</th>\n",
              "      <th>accuracy</th>\n",
              "      <th>time</th>\n",
              "    </tr>\n",
              "  </thead>\n",
              "  <tbody>\n",
              "    <tr>\n",
              "      <td>0</td>\n",
              "      <td>0.377908</td>\n",
              "      <td>0.331525</td>\n",
              "      <td>0.853720</td>\n",
              "      <td>04:45</td>\n",
              "    </tr>\n",
              "  </tbody>\n",
              "</table>"
            ],
            "text/plain": [
              "<IPython.core.display.HTML object>"
            ]
          },
          "metadata": {
            "tags": []
          }
        }
      ]
    },
    {
      "cell_type": "code",
      "metadata": {
        "id": "NXKnBceZkLJo",
        "colab_type": "code",
        "colab": {}
      },
      "source": [
        "learn.save('third')"
      ],
      "execution_count": 0,
      "outputs": []
    },
    {
      "cell_type": "code",
      "metadata": {
        "id": "wTorXEmYkMNX",
        "colab_type": "code",
        "colab": {}
      },
      "source": [
        "learn.load('third');"
      ],
      "execution_count": 0,
      "outputs": []
    },
    {
      "cell_type": "code",
      "metadata": {
        "id": "vo7-JUKJkOIO",
        "colab_type": "code",
        "colab": {
          "base_uri": "https://localhost:8080/",
          "height": 107
        },
        "outputId": "aa5f4fc2-4fab-4ab6-f204-dfb0faeb023f"
      },
      "source": [
        "learn.unfreeze()\n",
        "learn.fit_one_cycle(2, slice(1e-3/(2.6**4),1e-3), moms=(0.8,0.7))"
      ],
      "execution_count": 60,
      "outputs": [
        {
          "output_type": "display_data",
          "data": {
            "text/html": [
              "<table border=\"1\" class=\"dataframe\">\n",
              "  <thead>\n",
              "    <tr style=\"text-align: left;\">\n",
              "      <th>epoch</th>\n",
              "      <th>train_loss</th>\n",
              "      <th>valid_loss</th>\n",
              "      <th>accuracy</th>\n",
              "      <th>time</th>\n",
              "    </tr>\n",
              "  </thead>\n",
              "  <tbody>\n",
              "    <tr>\n",
              "      <td>0</td>\n",
              "      <td>0.332683</td>\n",
              "      <td>0.299521</td>\n",
              "      <td>0.871320</td>\n",
              "      <td>06:32</td>\n",
              "    </tr>\n",
              "    <tr>\n",
              "      <td>1</td>\n",
              "      <td>0.293280</td>\n",
              "      <td>0.287520</td>\n",
              "      <td>0.879440</td>\n",
              "      <td>05:19</td>\n",
              "    </tr>\n",
              "  </tbody>\n",
              "</table>"
            ],
            "text/plain": [
              "<IPython.core.display.HTML object>"
            ]
          },
          "metadata": {
            "tags": []
          }
        }
      ]
    },
    {
      "cell_type": "code",
      "metadata": {
        "id": "VP8ghEf8qmOW",
        "colab_type": "code",
        "colab": {}
      },
      "source": [
        "learn.save('fourth')"
      ],
      "execution_count": 0,
      "outputs": []
    },
    {
      "cell_type": "code",
      "metadata": {
        "id": "bvW9nGAdkPkl",
        "colab_type": "code",
        "colab": {
          "base_uri": "https://localhost:8080/",
          "height": 33
        },
        "outputId": "cbdd67f4-1a1d-48af-bd9b-04ce370adf53"
      },
      "source": [
        "learn.predict(\"I really loved that movie, it was awesome!\")"
      ],
      "execution_count": 61,
      "outputs": [
        {
          "output_type": "execute_result",
          "data": {
            "text/plain": [
              "(Category pos, tensor(1), tensor([0.0014, 0.9986]))"
            ]
          },
          "metadata": {
            "tags": []
          },
          "execution_count": 61
        }
      ]
    }
  ]
}