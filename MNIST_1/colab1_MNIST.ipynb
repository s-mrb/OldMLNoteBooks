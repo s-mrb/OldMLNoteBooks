{
  "nbformat": 4,
  "nbformat_minor": 0,
  "metadata": {
    "colab": {
      "name": "colab1_MNIST.ipynb",
      "provenance": [],
      "collapsed_sections": []
    },
    "kernelspec": {
      "name": "python3",
      "display_name": "Python 3"
    },
    "accelerator": "GPU"
  },
  "cells": [
    {
      "cell_type": "markdown",
      "metadata": {
        "id": "Di7WDFcEXzUO",
        "colab_type": "text"
      },
      "source": [
        "# Hello MNIST!\n",
        "\n",
        "In this notebook, you'll learn how to train an image classifier train on the MNIST dataset - the \"hello world\" of computer vision. You'll go through all the steps, including loading the data, building and training a model.\n",
        "\n",
        "\n"
      ]
    },
    {
      "cell_type": "markdown",
      "metadata": {
        "id": "AgZbDzO2Lu_S",
        "colab_type": "text"
      },
      "source": [
        "When working in Google Colabobotatory (colab for short), you need first to set up your runtime (from menu select Runtime/Change runtime type) to use GPU as follows:\n",
        "\n",
        "![alt text](https://camo.githubusercontent.com/35dd980cc32baea8bf2a369a31ad540cadc64d0b/68747470733a2f2f636f757273652e666173742e61692f696d616765732f636f6c61622f30342e706e67)\n"
      ]
    },
    {
      "cell_type": "markdown",
      "metadata": {
        "id": "FkInZP-pHvZp",
        "colab_type": "text"
      },
      "source": [
        "Next configure your notebook instance and download the MNIST dataset."
      ]
    },
    {
      "cell_type": "code",
      "metadata": {
        "id": "OKz-Xrfq-FsZ",
        "colab_type": "code",
        "outputId": "44dea4cf-376a-48b3-e73b-7584cef8d128",
        "colab": {
          "base_uri": "https://localhost:8080/",
          "height": 234
        }
      },
      "source": [
        "  !curl -s https://course.fast.ai/setup/colab | bash\n",
        "  !wget http://deeplearning.net/data/mnist/mnist.pkl.gz"
      ],
      "execution_count": 1,
      "outputs": [
        {
          "output_type": "stream",
          "text": [
            "Updating fastai...\n",
            "Done.\n",
            "--2020-01-16 05:33:25--  http://deeplearning.net/data/mnist/mnist.pkl.gz\n",
            "Resolving deeplearning.net (deeplearning.net)... 132.204.26.28\n",
            "Connecting to deeplearning.net (deeplearning.net)|132.204.26.28|:80... connected.\n",
            "HTTP request sent, awaiting response... 200 OK\n",
            "Length: 16168813 (15M) [application/x-gzip]\n",
            "Saving to: ‘mnist.pkl.gz’\n",
            "\n",
            "mnist.pkl.gz        100%[===================>]  15.42M  6.66MB/s    in 2.3s    \n",
            "\n",
            "2020-01-16 05:33:28 (6.66 MB/s) - ‘mnist.pkl.gz’ saved [16168813/16168813]\n",
            "\n"
          ],
          "name": "stdout"
        }
      ]
    },
    {
      "cell_type": "markdown",
      "metadata": {
        "id": "eqINBXaHIGMc",
        "colab_type": "text"
      },
      "source": [
        "Load necessary packages:\n",
        "\n",
        "We are going to work with the [fastai V1 library](http://www.fast.ai/2018/10/02/fastai-ai/) which sits on top of [Pytorch 1.0](https://hackernoon.com/pytorch-1-0-468332ba5163). The fastai library provides many useful functions that enable us to quickly and easily build neural networks and train our models."
      ]
    },
    {
      "cell_type": "code",
      "metadata": {
        "id": "YN-Y3AlP-ZDY",
        "colab_type": "code",
        "colab": {}
      },
      "source": [
        "%matplotlib inline\n",
        "from fastai.basics import *\n",
        "import random"
      ],
      "execution_count": 0,
      "outputs": []
    },
    {
      "cell_type": "markdown",
      "metadata": {
        "id": "LJg-clT5ZC81",
        "colab_type": "text"
      },
      "source": [
        "## Step 1) Load the dataset\n",
        "\n",
        "The MNIST dataset contains thousands of grayscale images of handwritten digits. There are ten distinct categories, coresponding to numbers 0 - 9."
      ]
    },
    {
      "cell_type": "code",
      "metadata": {
        "id": "HUfg6y5u-0nM",
        "colab_type": "code",
        "colab": {}
      },
      "source": [
        "with gzip.open('mnist.pkl.gz', 'rb') as f:\n",
        "    ((x_train, y_train), (x_valid, y_valid), _) = pickle.load(f, encoding='latin-1')"
      ],
      "execution_count": 0,
      "outputs": []
    },
    {
      "cell_type": "code",
      "metadata": {
        "id": "OiKB1PrHyPWh",
        "colab_type": "code",
        "outputId": "6728f33c-6602-4ba3-d8f8-7ffd59f22c7c",
        "colab": {
          "base_uri": "https://localhost:8080/",
          "height": 33
        }
      },
      "source": [
        "# change arrays into tensors:\n",
        "x_train, y_train, x_valid, y_valid = map(torch.tensor, (x_train, y_train, x_valid, y_valid))\n",
        "x_train.shape, y_train.min(), y_train.max()"
      ],
      "execution_count": 4,
      "outputs": [
        {
          "output_type": "execute_result",
          "data": {
            "text/plain": [
              "(torch.Size([50000, 784]), tensor(0), tensor(9))"
            ]
          },
          "metadata": {
            "tags": []
          },
          "execution_count": 4
        }
      ]
    },
    {
      "cell_type": "markdown",
      "metadata": {
        "id": "VMfMkmsWKIWV",
        "colab_type": "text"
      },
      "source": [
        "The input data are flattened to fit into the first layer of our neural network.\n",
        "Instead of several 28x28 images, we  have several vectors that are all length 784 (28*28=784).  \n",
        "\n",
        "We are going to feed the dataset into our network in mini batches of size 64 as the dataset is too big to be used all at once. By calling DataBunch.create  we are going to create data loaders which will give us a mini batch of data.  The training set gets randomly shuffled and the data is put on the GPU.\n"
      ]
    },
    {
      "cell_type": "code",
      "metadata": {
        "id": "4txXFoqS00g5",
        "colab_type": "code",
        "colab": {}
      },
      "source": [
        "bs=64\n",
        "train_ds = TensorDataset(x_train, y_train) # grab two tensors and create a dataset\n",
        "valid_ds = TensorDataset(x_valid, y_valid)\n",
        "data = DataBunch.create(train_ds, valid_ds, bs=bs) # data object to feed into NN"
      ],
      "execution_count": 0,
      "outputs": []
    },
    {
      "cell_type": "markdown",
      "metadata": {
        "id": "1Xh43ZrkaRR3",
        "colab_type": "text"
      },
      "source": [
        "Let's check a mini batch you'll get from the train data loader:"
      ]
    },
    {
      "cell_type": "code",
      "metadata": {
        "id": "FkTdVbjL025g",
        "colab_type": "code",
        "outputId": "90388dad-f51a-4777-c806-c2c0d05c421e",
        "colab": {
          "base_uri": "https://localhost:8080/",
          "height": 201
        }
      },
      "source": [
        "# What\n",
        "\n",
        "# viewing the train dataset\n",
        "\n",
        "x,y = next(iter(data.train_dl))\n",
        "x.shape,y.shape"
      ],
      "execution_count": 6,
      "outputs": [
        {
          "output_type": "stream",
          "text": [
            "Traceback (most recent call last):\n",
            "  File \"/usr/lib/python3.6/multiprocessing/queues.py\", line 240, in _feed\n",
            "    send_bytes(obj)\n",
            "  File \"/usr/lib/python3.6/multiprocessing/connection.py\", line 200, in send_bytes\n",
            "    self._send_bytes(m[offset:offset + size])\n",
            "  File \"/usr/lib/python3.6/multiprocessing/connection.py\", line 404, in _send_bytes\n",
            "    self._send(header + buf)\n",
            "  File \"/usr/lib/python3.6/multiprocessing/connection.py\", line 368, in _send\n",
            "    n = write(self._handle, buf)\n",
            "BrokenPipeError: [Errno 32] Broken pipe\n"
          ],
          "name": "stderr"
        },
        {
          "output_type": "execute_result",
          "data": {
            "text/plain": [
              "(torch.Size([64, 784]), torch.Size([64]))"
            ]
          },
          "metadata": {
            "tags": []
          },
          "execution_count": 6
        }
      ]
    },
    {
      "cell_type": "markdown",
      "metadata": {
        "id": "cBPjRbgHbUYE",
        "colab_type": "text"
      },
      "source": [
        "## Step 2) Visualize the data\n",
        "\n",
        "Show a random sample of the dataset along with it's corresponding labels:\n"
      ]
    },
    {
      "cell_type": "code",
      "metadata": {
        "id": "iYO_SSjpCMyN",
        "colab_type": "code",
        "colab": {}
      },
      "source": [
        "indices = random.sample(range(50000),9)"
      ],
      "execution_count": 0,
      "outputs": []
    },
    {
      "cell_type": "code",
      "metadata": {
        "id": "618ZVdEZCOMu",
        "colab_type": "code",
        "outputId": "08b58466-0838-4dfe-cf87-04359aee0aee",
        "colab": {
          "base_uri": "https://localhost:8080/",
          "height": 284
        }
      },
      "source": [
        "fig = plt.figure()\n",
        "for i, ind in enumerate(indices):\n",
        "  plt.subplot(3,3,i+1)\n",
        "  plt.tight_layout()\n",
        "  plt.imshow(x_train[ind].reshape((28,28)), cmap='gray', interpolation='none')\n",
        "  plt.title(\"Label: {}\".format(y_train[ind]))\n",
        "  plt.xticks([])\n",
        "  plt.yticks([])"
      ],
      "execution_count": 8,
      "outputs": [
        {
          "output_type": "display_data",
          "data": {
            "image/png": "[encoded data removed]",
            "text/plain": [
              "<Figure size 432x288 with 9 Axes>"
            ]
          },
          "metadata": {
            "tags": []
          }
        }
      ]
    },
    {
      "cell_type": "markdown",
      "metadata": {
        "id": "8CBR8fR2cIf6",
        "colab_type": "text"
      },
      "source": [
        "## Step 3) Build the model\n",
        "\n",
        "Architecture wise, we'll use a single layer network. All layers are Linear - the classic fully-connected neural network layers.\n",
        "* The hidden layer will have 512 units using the ReLU activation function.\n",
        "* The output layer will have 10 units, corresponding to the 10 digits, and use softmax function.\n",
        "\n",
        "The general convention for Pytorch network classes is that you create all your layers in the constructor, and then lay out their relationship in the forward() method.  \n"
      ]
    },
    {
      "cell_type": "code",
      "metadata": {
        "id": "BOEbfyVo_AdO",
        "colab_type": "code",
        "colab": {}
      },
      "source": [
        "class Net(nn.Module):\n",
        "    def __init__(self, image_size):\n",
        "        super(Net, self).__init__()\n",
        "        self.image_size = image_size\n",
        "        self.fc1 = nn.Linear(image_size, 512)\n",
        "        self.fc2 = nn.Linear(512, 10)\n",
        "\n",
        "    def forward(self, x):\n",
        "        x = F.relu(self.fc1(x))\n",
        "        x = F.log_softmax(self.fc2(x), dim =1)\n",
        "        return x\n"
      ],
      "execution_count": 0,
      "outputs": []
    },
    {
      "cell_type": "markdown",
      "metadata": {
        "id": "npPWPT-Hdpru",
        "colab_type": "text"
      },
      "source": [
        "Here you can check what's inside a created model:"
      ]
    },
    {
      "cell_type": "code",
      "metadata": {
        "id": "h1IC5mRwdGE9",
        "colab_type": "code",
        "outputId": "03c4d517-714f-490f-edd3-32080dd35d10",
        "colab": {
          "base_uri": "https://localhost:8080/",
          "height": 84
        }
      },
      "source": [
        "model = Net(image_size=28*28)\n",
        "model"
      ],
      "execution_count": 10,
      "outputs": [
        {
          "output_type": "execute_result",
          "data": {
            "text/plain": [
              "Net(\n",
              "  (fc1): Linear(in_features=784, out_features=512, bias=True)\n",
              "  (fc2): Linear(in_features=512, out_features=10, bias=True)\n",
              ")"
            ]
          },
          "metadata": {
            "tags": []
          },
          "execution_count": 10
        }
      ]
    },
    {
      "cell_type": "markdown",
      "metadata": {
        "id": "GPURsBLwfC-H",
        "colab_type": "text"
      },
      "source": [
        "The model.parameters() contains our weight and bias matrices:"
      ]
    },
    {
      "cell_type": "code",
      "metadata": {
        "id": "NQ9PRs_WeBcv",
        "colab_type": "code",
        "outputId": "8a07e087-4138-487e-9a44-3fed588dc7b4",
        "colab": {
          "base_uri": "https://localhost:8080/",
          "height": 84
        }
      },
      "source": [
        "[p.shape for p in model.parameters()]"
      ],
      "execution_count": 11,
      "outputs": [
        {
          "output_type": "execute_result",
          "data": {
            "text/plain": [
              "[torch.Size([512, 784]),\n",
              " torch.Size([512]),\n",
              " torch.Size([10, 512]),\n",
              " torch.Size([10])]"
            ]
          },
          "metadata": {
            "tags": []
          },
          "execution_count": 11
        }
      ]
    },
    {
      "cell_type": "markdown",
      "metadata": {
        "id": "d5yXTbCrgzH2",
        "colab_type": "text"
      },
      "source": [
        "## Step 4) Training\n"
      ]
    },
    {
      "cell_type": "code",
      "metadata": {
        "id": "Ts9pWEq81AXY",
        "colab_type": "code",
        "colab": {}
      },
      "source": [
        "lr=2e-2"
      ],
      "execution_count": 0,
      "outputs": []
    },
    {
      "cell_type": "code",
      "metadata": {
        "id": "XDvNwElV1B4H",
        "colab_type": "code",
        "colab": {}
      },
      "source": [
        "loss_func = nn.CrossEntropyLoss()"
      ],
      "execution_count": 0,
      "outputs": []
    },
    {
      "cell_type": "markdown",
      "metadata": {
        "id": "PH3CS9QNgg-O",
        "colab_type": "text"
      },
      "source": [
        "Rather then setting up the model optimization in Pytorch, we are going to use fastai's Learner object. (By default, it uses the Adam optimizer.)"
      ]
    },
    {
      "cell_type": "code",
      "metadata": {
        "id": "8BHcfUh7t-Hj",
        "colab_type": "code",
        "colab": {}
      },
      "source": [
        "learn = Learner(data, Net(image_size=28*28), loss_func=loss_func, metrics=accuracy)\n"
      ],
      "execution_count": 0,
      "outputs": []
    },
    {
      "cell_type": "markdown",
      "metadata": {
        "id": "tDgYL0LxiEl2",
        "colab_type": "text"
      },
      "source": [
        "We are going to use learn.fit_one_cycle() because it let us train our network faster."
      ]
    },
    {
      "cell_type": "code",
      "metadata": {
        "id": "zIisfXh71SYb",
        "colab_type": "code",
        "outputId": "06e6e263-5e75-4af7-a854-33a7cec03c96",
        "colab": {
          "base_uri": "https://localhost:8080/",
          "height": 137
        }
      },
      "source": [
        "learn.fit_one_cycle(3, 1e-2)"
      ],
      "execution_count": 15,
      "outputs": [
        {
          "output_type": "display_data",
          "data": {
            "text/html": [
              "<table border=\"1\" class=\"dataframe\">\n",
              "  <thead>\n",
              "    <tr style=\"text-align: left;\">\n",
              "      <th>epoch</th>\n",
              "      <th>train_loss</th>\n",
              "      <th>valid_loss</th>\n",
              "      <th>accuracy</th>\n",
              "      <th>time</th>\n",
              "    </tr>\n",
              "  </thead>\n",
              "  <tbody>\n",
              "    <tr>\n",
              "      <td>0</td>\n",
              "      <td>0.179665</td>\n",
              "      <td>0.228010</td>\n",
              "      <td>0.936300</td>\n",
              "      <td>00:03</td>\n",
              "    </tr>\n",
              "    <tr>\n",
              "      <td>1</td>\n",
              "      <td>0.112431</td>\n",
              "      <td>0.102457</td>\n",
              "      <td>0.969900</td>\n",
              "      <td>00:03</td>\n",
              "    </tr>\n",
              "    <tr>\n",
              "      <td>2</td>\n",
              "      <td>0.037186</td>\n",
              "      <td>0.075437</td>\n",
              "      <td>0.979100</td>\n",
              "      <td>00:03</td>\n",
              "    </tr>\n",
              "  </tbody>\n",
              "</table>"
            ],
            "text/plain": [
              "<IPython.core.display.HTML object>"
            ]
          },
          "metadata": {
            "tags": []
          }
        }
      ]
    },
    {
      "cell_type": "code",
      "metadata": {
        "id": "8SCyALuz6GlP",
        "colab_type": "code",
        "outputId": "4aa0808b-1e11-4b5f-9839-19bd0adc6d8e",
        "colab": {
          "base_uri": "https://localhost:8080/",
          "height": 279
        }
      },
      "source": [
        "learn.recorder.plot_losses()"
      ],
      "execution_count": 16,
      "outputs": [
        {
          "output_type": "display_data",
          "data": {
            "image/png": "[encoded data removed]",
            "text/plain": [
              "<Figure size 432x288 with 1 Axes>"
            ]
          },
          "metadata": {
            "tags": []
          }
        }
      ]
    },
    {
      "cell_type": "markdown",
      "metadata": {
        "id": "qN2ukam5hajR",
        "colab_type": "text"
      },
      "source": [
        "If you are interested what [learn.fit_one_cycle() ](https://docs.fast.ai/callbacks.one_cycle.html#What-is-1cycle?)  does, check the original [Leslie Smith's paper.](https://arxiv.org/abs/1803.09820)\n",
        "\n"
      ]
    },
    {
      "cell_type": "code",
      "metadata": {
        "id": "akw2pBsihXEl",
        "colab_type": "code",
        "outputId": "fb532463-2838-461f-b844-81bc687c965b",
        "colab": {
          "base_uri": "https://localhost:8080/",
          "height": 279
        }
      },
      "source": [
        "learn.recorder.plot_lr(show_moms=True)"
      ],
      "execution_count": 17,
      "outputs": [
        {
          "output_type": "display_data",
          "data": {
            "image/png": "[encoded data removed]",
            "text/plain": [
              "<Figure size 864x288 with 2 Axes>"
            ]
          },
          "metadata": {
            "tags": []
          }
        }
      ]
    }
  ]
}