{
  "nbformat": 4,
  "nbformat_minor": 0,
  "metadata": {
    "colab": {
      "name": "MNIST_SGD.ipynb",
      "provenance": [],
      "collapsed_sections": []
    },
    "kernelspec": {
      "name": "python3",
      "display_name": "Python 3"
    },
    "accelerator": "GPU"
  },
  "cells": [
    {
      "cell_type": "code",
      "metadata": {
        "id": "1vgkGNdNxM8S",
        "colab_type": "code",
        "colab": {}
      },
      "source": [
        "# Why Inline\n",
        "# With this backend, the output of plotting commands is displayed inline\n",
        "#  within frontends like the Jupyter notebook, directly below the code cell\n",
        "#  that produced it. The resulting plots will then also be stored in the notebook document.\n",
        "\n",
        "%matplotlib inline\n",
        "from fastai.basics import *"
      ],
      "execution_count": 0,
      "outputs": []
    },
    {
      "cell_type": "code",
      "metadata": {
        "id": "mE8VKPC6yKaA",
        "colab_type": "code",
        "outputId": "96b5a2e1-5ce3-4df2-dcb7-a8e5cf8a8201",
        "colab": {
          "base_uri": "https://localhost:8080/",
          "height": 120
        }
      },
      "source": [
        "# Mount the drive\n",
        "from google.colab import drive\n",
        "drive.mount('/content/gdrive')"
      ],
      "execution_count": 2,
      "outputs": [
        {
          "output_type": "stream",
          "text": [
            "Go to this URL in a browser: https://accounts.google.com/o/oauth2/auth?client_id=947318989803-6bn6qk8qdgf4n4g3pfee6491hc0brc4i.apps.googleusercontent.com&redirect_uri=urn%3aietf%3awg%3aoauth%3a2.0%3aoob&response_type=code&scope=email%20https%3a%2f%2fwww.googleapis.com%2fauth%2fdocs.test%20https%3a%2f%2fwww.googleapis.com%2fauth%2fdrive%20https%3a%2f%2fwww.googleapis.com%2fauth%2fdrive.photos.readonly%20https%3a%2f%2fwww.googleapis.com%2fauth%2fpeopleapi.readonly\n",
            "\n",
            "Enter your authorization code:\n",
            "··········\n",
            "Mounted at /content/gdrive\n"
          ],
          "name": "stdout"
        }
      ]
    },
    {
      "cell_type": "code",
      "metadata": {
        "id": "PczM9US8yyKh",
        "colab_type": "code",
        "colab": {}
      },
      "source": [
        "dataset_path  = Path('/content/gdrive/My Drive/DataSets/mnist.pkl/')"
      ],
      "execution_count": 0,
      "outputs": []
    },
    {
      "cell_type": "code",
      "metadata": {
        "id": "wq8d-VaezBSq",
        "colab_type": "code",
        "outputId": "9f7a460f-6ce3-41c8-c2c3-82955e64b1d0",
        "colab": {
          "base_uri": "https://localhost:8080/",
          "height": 33
        }
      },
      "source": [
        "dataset_path.ls()"
      ],
      "execution_count": 4,
      "outputs": [
        {
          "output_type": "execute_result",
          "data": {
            "text/plain": [
              "[PosixPath('/content/gdrive/My Drive/DataSets/mnist.pkl/mnist.pkl')]"
            ]
          },
          "metadata": {
            "tags": []
          },
          "execution_count": 4
        }
      ]
    },
    {
      "cell_type": "code",
      "metadata": {
        "id": "wc8gbVWv0bbK",
        "colab_type": "code",
        "colab": {}
      },
      "source": [
        "with open(dataset_path/'mnist.pkl', 'rb') as f:\n",
        "    ((x_train, y_train), (x_valid, y_valid), _) = pickle.load(f, encoding='latin-1')"
      ],
      "execution_count": 0,
      "outputs": []
    },
    {
      "cell_type": "code",
      "metadata": {
        "id": "6hFfgrib0qCc",
        "colab_type": "code",
        "outputId": "91fa8cd8-751d-4798-baa4-a882fe60ea6d",
        "colab": {
          "base_uri": "https://localhost:8080/",
          "height": 281
        }
      },
      "source": [
        "# What cmap\n",
        "\n",
        "plt.imshow(x_train[0].reshape((28,28)), cmap=\"gray\")\n"
      ],
      "execution_count": 6,
      "outputs": [
        {
          "output_type": "execute_result",
          "data": {
            "text/plain": [
              "<matplotlib.image.AxesImage at 0x7ff4cb2037b8>"
            ]
          },
          "metadata": {
            "tags": []
          },
          "execution_count": 6
        },
        {
          "output_type": "display_data",
          "data": {
            "image/png": "[encoded data removed]",
            "text/plain": [
              "<Figure size 432x288 with 1 Axes>"
            ]
          },
          "metadata": {
            "tags": []
          }
        }
      ]
    },
    {
      "cell_type": "code",
      "metadata": {
        "id": "xLA61M_ePbpS",
        "colab_type": "code",
        "outputId": "7551830f-925c-4754-db74-a46ce78280e7",
        "colab": {
          "base_uri": "https://localhost:8080/",
          "height": 1000
        }
      },
      "source": [
        ""
      ],
      "execution_count": 0,
      "outputs": [
        {
          "output_type": "display_data",
          "data": {
            "text/html": [
              "<h4 id=\"imshow\" class=\"doc_header\"><code>imshow</code><a class=\"source_link\" data-toggle=\"collapse\" data-target=\"#imshow-pytest\" style=\"float:right; padding-right:10px\">[test]</a></h4><blockquote><p><code>imshow</code>(<strong><code>X</code></strong>, <strong><code>cmap</code></strong>=<strong><em><code>None</code></em></strong>, <strong><code>norm</code></strong>=<strong><em><code>None</code></em></strong>, <strong><code>aspect</code></strong>=<strong><em><code>None</code></em></strong>, <strong><code>interpolation</code></strong>=<strong><em><code>None</code></em></strong>, <strong><code>alpha</code></strong>=<strong><em><code>None</code></em></strong>, <strong><code>vmin</code></strong>=<strong><em><code>None</code></em></strong>, <strong><code>vmax</code></strong>=<strong><em><code>None</code></em></strong>, <strong><code>origin</code></strong>=<strong><em><code>None</code></em></strong>, <strong><code>extent</code></strong>=<strong><em><code>None</code></em></strong>, <strong><code>shape</code></strong>=<strong><em><code>&lt;deprecated parameter&gt;</code></em></strong>, <strong><code>filternorm</code></strong>=<strong><em><code>1</code></em></strong>, <strong><code>filterrad</code></strong>=<strong><em><code>4.0</code></em></strong>, <strong><code>imlim</code></strong>=<strong><em><code>&lt;deprecated parameter&gt;</code></em></strong>, <strong><code>resample</code></strong>=<strong><em><code>None</code></em></strong>, <strong><code>url</code></strong>=<strong><em><code>None</code></em></strong>, <strong><code>data</code></strong>=<strong><em><code>None</code></em></strong>, <strong>**<code>kwargs</code></strong>)</p>\n",
              "</blockquote>\n",
              "<div class=\"collapse\" id=\"imshow-pytest\"><div class=\"card card-body pytest_card\"><a type=\"button\" data-toggle=\"collapse\" data-target=\"#imshow-pytest\" class=\"close\" aria-label=\"Close\"><span aria-hidden=\"true\">&times;</span></a><p>No tests found for <code>imshow</code>. To contribute a test please refer to <a href=\"/dev/test.html\">this guide</a> and <a href=\"https://forums.fast.ai/t/improving-expanding-functional-tests/32929\">this discussion</a>.</p></div></div><h2 id=\"Display-an-image,-i.e.-data-on-a-2D-regular-raster.-Parameters\">Display an image, i.e. data on a 2D regular raster. Parameters<a class=\"anchor-link\" href=\"#Display-an-image,-i.e.-data-on-a-2D-regular-raster.-Parameters\">&#182;</a></h2><p>X : array-like or PIL image\n",
              "    The image data. Supported array shapes are:</p>\n",
              "\n",
              "<pre><code>- (M, N): an image with scalar data. The data is visualized\n",
              "  using a colormap.\n",
              "- (M, N, 3): an image with RGB values (0-1 float or 0-255 int).\n",
              "- (M, N, 4): an image with RGBA values (0-1 float or 0-255 int),\n",
              "  i.e. including transparency.\n",
              "\n",
              "The first two dimensions (M, N) define the rows and columns of\n",
              "the image.\n",
              "\n",
              "Out-of-range RGB(A) values are clipped.\n",
              "\n",
              "</code></pre>\n",
              "<p>cmap : str or <code>~matplotlib.colors.Colormap</code>, optional\n",
              "    The Colormap instance or registered colormap name used to map\n",
              "    scalar data to colors. This parameter is ignored for RGB(A) data.\n",
              "    Defaults to :rc:<code>image.cmap</code>.</p>\n",
              "<p>norm : <code>~matplotlib.colors.Normalize</code>, optional\n",
              "    The <code>Normalize</code> instance used to scale scalar data to the [0, 1]\n",
              "    range before mapping to colors using <em>cmap</em>. By default, a linear\n",
              "    scaling mapping the lowest value to 0 and the highest to 1 is used.\n",
              "    This parameter is ignored for RGB(A) data.</p>\n",
              "<p>aspect : {'equal', 'auto'} or float, optional\n",
              "    Controls the aspect ratio of the axes. The aspect is of particular\n",
              "    relevance for images since it may distort the image, i.e. pixel\n",
              "    will not be square.</p>\n",
              "\n",
              "<pre><code>This parameter is a shortcut for explicitly calling\n",
              "`.Axes.set_aspect`. See there for further details.\n",
              "\n",
              "- 'equal': Ensures an aspect ratio of 1. Pixels will be square\n",
              "  (unless pixel sizes are explicitly made non-square in data\n",
              "  coordinates using *extent*).\n",
              "- 'auto': The axes is kept fixed and the aspect is adjusted so\n",
              "  that the data fit in the axes. In general, this will result in\n",
              "  non-square pixels.\n",
              "\n",
              "If not given, use :rc:`image.aspect` (default: 'equal').\n",
              "\n",
              "</code></pre>\n",
              "<p>interpolation : str, optional\n",
              "    The interpolation method used. If <em>None</em>\n",
              "    :rc:<code>image.interpolation</code> is used, which defaults to 'nearest'.</p>\n",
              "\n",
              "<pre><code>Supported values are 'none', 'nearest', 'bilinear', 'bicubic',\n",
              "'spline16', 'spline36', 'hanning', 'hamming', 'hermite', 'kaiser',\n",
              "'quadric', 'catrom', 'gaussian', 'bessel', 'mitchell', 'sinc',\n",
              "'lanczos'.\n",
              "\n",
              "If *interpolation* is 'none', then no interpolation is performed\n",
              "on the Agg, ps, pdf and svg backends. Other backends will fall back\n",
              "to 'nearest'. Note that most SVG renders perform interpolation at\n",
              "rendering and that the default interpolation method they implement\n",
              "may differ.\n",
              "\n",
              "See\n",
              ":doc:`/gallery/images_contours_and_fields/interpolation_methods`\n",
              "for an overview of the supported interpolation methods.\n",
              "\n",
              "Some interpolation methods require an additional radius parameter,\n",
              "which can be set by *filterrad*. Additionally, the antigrain image\n",
              "resize filter is controlled by the parameter *filternorm*.\n",
              "\n",
              "</code></pre>\n",
              "<p>alpha : scalar, optional\n",
              "    The alpha blending value, between 0 (transparent) and 1 (opaque).\n",
              "    This parameter is ignored for RGBA input data.</p>\n",
              "<p>vmin, vmax : scalar, optional\n",
              "    When using scalar data and no explicit <em>norm</em>, <em>vmin</em> and <em>vmax</em>\n",
              "    define the data range that the colormap covers. By default,\n",
              "    the colormap covers the complete value range of the supplied\n",
              "    data. <em>vmin</em>, <em>vmax</em> are ignored if the <em>norm</em> parameter is used.</p>\n",
              "<p>origin : {'upper', 'lower'}, optional\n",
              "    Place the [0,0] index of the array in the upper left or lower left\n",
              "    corner of the axes. The convention 'upper' is typically used for\n",
              "    matrices and images.\n",
              "    If not given, :rc:<code>image.origin</code> is used, defaulting to 'upper'.</p>\n",
              "\n",
              "<pre><code>Note that the vertical axes points upward for 'lower'\n",
              "but downward for 'upper'.\n",
              "\n",
              "See the :doc:`/tutorials/intermediate/imshow_extent` tutorial for\n",
              "examples and a more detailed description.\n",
              "\n",
              "</code></pre>\n",
              "<p>extent : scalars (left, right, bottom, top), optional\n",
              "    The bounding box in data coordinates that the image will fill.\n",
              "    The image is stretched individually along x and y to fill the box.</p>\n",
              "\n",
              "<pre><code>The default extent is determined by the following conditions.\n",
              "Pixels have unit size in data coordinates. Their centers are on\n",
              "integer coordinates, and their center coordinates range from 0 to\n",
              "columns-1 horizontally and from 0 to rows-1 vertically.\n",
              "\n",
              "Note that the direction of the vertical axis and thus the default\n",
              "values for top and bottom depend on *origin*:\n",
              "\n",
              "- For ``origin == 'upper'`` the default is\n",
              "  ``(-0.5, numcols-0.5, numrows-0.5, -0.5)``.\n",
              "- For ``origin == 'lower'`` the default is\n",
              "  ``(-0.5, numcols-0.5, -0.5, numrows-0.5)``.\n",
              "\n",
              "See the :doc:`/tutorials/intermediate/imshow_extent` tutorial for\n",
              "examples and a more detailed description.\n",
              "\n",
              "</code></pre>\n",
              "<p>filternorm : bool, optional, default: True\n",
              "    A parameter for the antigrain image resize filter (see the\n",
              "    antigrain documentation).  If <em>filternorm</em> is set, the filter\n",
              "    normalizes integer values and corrects the rounding errors. It\n",
              "    doesn't do anything with the source floating point values, it\n",
              "    corrects only integers according to the rule of 1.0 which means\n",
              "    that any sum of pixel weights must be equal to 1.0.  So, the\n",
              "    filter function must produce a graph of the proper shape.</p>\n",
              "<p>filterrad : float &gt; 0, optional, default: 4.0\n",
              "    The filter radius for filters that have a radius parameter, i.e.\n",
              "    when interpolation is one of: 'sinc', 'lanczos' or 'blackman'.</p>\n",
              "<p>resample : bool, optional\n",
              "    When <em>True</em>, use a full resampling method.  When <em>False</em>, only\n",
              "    resample when the output image is larger than the input image.</p>\n",
              "<p>url : str, optional\n",
              "    Set the url of the created <code>.AxesImage</code>. See <code>.Artist.set_url</code>.</p>\n",
              "<h2 id=\"Returns\">Returns<a class=\"anchor-link\" href=\"#Returns\">&#182;</a></h2><p>image : <code>~matplotlib.image.AxesImage</code></p>\n",
              "<h2 id=\"Other-Parameters\">Other Parameters<a class=\"anchor-link\" href=\"#Other-Parameters\">&#182;</a></h2><p>**kwargs : <code>~matplotlib.artist.Artist</code> properties\n",
              "    These parameters are passed on to the constructor of the\n",
              "    <code>.AxesImage</code> artist.</p>\n",
              "<h2 id=\"See-also\">See also<a class=\"anchor-link\" href=\"#See-also\">&#182;</a></h2><p>matshow : Plot a matrix or an array as an image.</p>\n",
              "<h2 id=\"Notes\">Notes<a class=\"anchor-link\" href=\"#Notes\">&#182;</a></h2><p>Unless <em>extent</em> is used, pixel centers will be located at integer\n",
              "coordinates. In other words: the origin will coincide with the center\n",
              "of pixel (0, 0).</p>\n",
              "<p>There are two common representations for RGB images with an alpha\n",
              "channel:</p>\n",
              "<ul>\n",
              "<li>Straight (unassociated) alpha: R, G, and B channels represent the\n",
              "color of the pixel, disregarding its opacity.</li>\n",
              "<li>Premultiplied (associated) alpha: R, G, and B channels represent\n",
              "the color of the pixel, adjusted for its opacity by multiplication.</li>\n",
              "</ul>\n",
              "<p><code>~matplotlib.pyplot.imshow</code> expects RGB images adopting the straight\n",
              "(unassociated) alpha representation.</p>\n",
              "<p>.. note::\n",
              "    In addition to the above described arguments, this function can take a\n",
              "    <strong>data</strong> keyword argument. If such a <strong>data</strong> argument is given, the\n",
              "    following arguments are replaced by <strong>data[<arg>]</strong>:</p>\n",
              "\n",
              "<pre><code>* All positional and all keyword arguments.\n",
              "\n",
              "Objects passed as **data** must support item access (``data[&lt;arg&gt;]``) and\n",
              "membership test (``&lt;arg&gt; in data``). </code></pre>\n"
            ],
            "text/plain": [
              "<IPython.core.display.HTML object>"
            ]
          },
          "metadata": {
            "tags": []
          }
        }
      ]
    },
    {
      "cell_type": "code",
      "metadata": {
        "id": "nSAZ_hbX0s9Y",
        "colab_type": "code",
        "outputId": "fcf68c14-08d4-4de9-c872-61a9186f62f7",
        "colab": {
          "base_uri": "https://localhost:8080/",
          "height": 33
        }
      },
      "source": [
        "# What\n",
        "\n",
        "x_train.shape"
      ],
      "execution_count": 7,
      "outputs": [
        {
          "output_type": "execute_result",
          "data": {
            "text/plain": [
              "(50000, 784)"
            ]
          },
          "metadata": {
            "tags": []
          },
          "execution_count": 7
        }
      ]
    },
    {
      "cell_type": "code",
      "metadata": {
        "id": "wk0fP0h51TY6",
        "colab_type": "code",
        "outputId": "6027fcf0-6b91-4740-9391-5e9ffff4400b",
        "colab": {
          "base_uri": "https://localhost:8080/",
          "height": 33
        }
      },
      "source": [
        "x_train,y_train,x_valid,y_valid = map(torch.tensor, (x_train,y_train,x_valid,y_valid))\n",
        "n,c = x_train.shape\n",
        "x_train.shape, y_train.min(), y_train.max()"
      ],
      "execution_count": 8,
      "outputs": [
        {
          "output_type": "execute_result",
          "data": {
            "text/plain": [
              "(torch.Size([50000, 784]), tensor(0), tensor(9))"
            ]
          },
          "metadata": {
            "tags": []
          },
          "execution_count": 8
        }
      ]
    },
    {
      "cell_type": "code",
      "metadata": {
        "id": "4O5s4E1E1l5A",
        "colab_type": "code",
        "colab": {}
      },
      "source": [
        "bs=64\n",
        "train_ds = TensorDataset(x_train, y_train)\n",
        "valid_ds = TensorDataset(x_valid, y_valid)\n",
        "data = DataBunch.create(train_ds, valid_ds, bs=bs)"
      ],
      "execution_count": 0,
      "outputs": []
    },
    {
      "cell_type": "code",
      "metadata": {
        "id": "fmQBUN-b1n6g",
        "colab_type": "code",
        "outputId": "a6d42853-5226-4d77-974b-a11fb117adda",
        "colab": {
          "base_uri": "https://localhost:8080/",
          "height": 33
        }
      },
      "source": [
        "x,y = next(iter(data.train_dl))\n",
        "x.shape,y.shape"
      ],
      "execution_count": 10,
      "outputs": [
        {
          "output_type": "execute_result",
          "data": {
            "text/plain": [
              "(torch.Size([64, 784]), torch.Size([64]))"
            ]
          },
          "metadata": {
            "tags": []
          },
          "execution_count": 10
        }
      ]
    },
    {
      "cell_type": "code",
      "metadata": {
        "id": "t-DL255E1pzF",
        "colab_type": "code",
        "colab": {}
      },
      "source": [
        "class Mnist_Logistic(nn.Module):\n",
        "    def __init__(self):\n",
        "        super().__init__()\n",
        "        self.lin = nn.Linear(784, 10, bias=True)\n",
        "\n",
        "    def forward(self, xb): return self.lin(xb)"
      ],
      "execution_count": 0,
      "outputs": []
    },
    {
      "cell_type": "code",
      "metadata": {
        "id": "rP_KuyqQ1rxg",
        "colab_type": "code",
        "colab": {}
      },
      "source": [
        "model = Mnist_Logistic().cuda()"
      ],
      "execution_count": 0,
      "outputs": []
    },
    {
      "cell_type": "code",
      "metadata": {
        "id": "_EUM61xu1s2P",
        "colab_type": "code",
        "colab": {
          "base_uri": "https://localhost:8080/",
          "height": 67
        },
        "outputId": "894fd8e2-2052-49a9-acad-9dfd2cbce503"
      },
      "source": [
        "model"
      ],
      "execution_count": 13,
      "outputs": [
        {
          "output_type": "execute_result",
          "data": {
            "text/plain": [
              "Mnist_Logistic(\n",
              "  (lin): Linear(in_features=784, out_features=10, bias=True)\n",
              ")"
            ]
          },
          "metadata": {
            "tags": []
          },
          "execution_count": 13
        }
      ]
    },
    {
      "cell_type": "code",
      "metadata": {
        "id": "1LgQceJt10s7",
        "colab_type": "code",
        "colab": {
          "base_uri": "https://localhost:8080/",
          "height": 33
        },
        "outputId": "789224cf-974e-4522-83b4-8bc1c05d578f"
      },
      "source": [
        "model.lin\n"
      ],
      "execution_count": 14,
      "outputs": [
        {
          "output_type": "execute_result",
          "data": {
            "text/plain": [
              "Linear(in_features=784, out_features=10, bias=True)"
            ]
          },
          "metadata": {
            "tags": []
          },
          "execution_count": 14
        }
      ]
    },
    {
      "cell_type": "code",
      "metadata": {
        "id": "ZIF_gMK61292",
        "colab_type": "code",
        "colab": {
          "base_uri": "https://localhost:8080/",
          "height": 33
        },
        "outputId": "7f7a3647-7e6f-4e46-9863-9a0c59912df1"
      },
      "source": [
        "model(x).shape"
      ],
      "execution_count": 15,
      "outputs": [
        {
          "output_type": "execute_result",
          "data": {
            "text/plain": [
              "torch.Size([64, 10])"
            ]
          },
          "metadata": {
            "tags": []
          },
          "execution_count": 15
        }
      ]
    },
    {
      "cell_type": "code",
      "metadata": {
        "id": "EhaDZXZk14dK",
        "colab_type": "code",
        "colab": {
          "base_uri": "https://localhost:8080/",
          "height": 33
        },
        "outputId": "c398bda3-5605-4215-a089-b21634928c8c"
      },
      "source": [
        "[p.shape for p in model.parameters()]"
      ],
      "execution_count": 16,
      "outputs": [
        {
          "output_type": "execute_result",
          "data": {
            "text/plain": [
              "[torch.Size([10, 784]), torch.Size([10])]"
            ]
          },
          "metadata": {
            "tags": []
          },
          "execution_count": 16
        }
      ]
    },
    {
      "cell_type": "code",
      "metadata": {
        "id": "CFcCBL5o15d_",
        "colab_type": "code",
        "colab": {}
      },
      "source": [
        "lr=2e-2"
      ],
      "execution_count": 0,
      "outputs": []
    },
    {
      "cell_type": "code",
      "metadata": {
        "id": "TA8iIhca16mC",
        "colab_type": "code",
        "colab": {}
      },
      "source": [
        "loss_func = nn.CrossEntropyLoss()"
      ],
      "execution_count": 0,
      "outputs": []
    },
    {
      "cell_type": "code",
      "metadata": {
        "id": "sVB2r3Zm17-a",
        "colab_type": "code",
        "colab": {}
      },
      "source": [
        "def update(x,y,lr):\n",
        "    wd = 1e-5\n",
        "    y_hat = model(x)\n",
        "    # weight decay\n",
        "    w2 = 0.\n",
        "    for p in model.parameters(): w2 += (p**2).sum()\n",
        "    # add to regular loss\n",
        "    loss = loss_func(y_hat, y) + w2*wd\n",
        "    loss.backward()\n",
        "    with torch.no_grad():\n",
        "        for p in model.parameters():\n",
        "            p.sub_(lr * p.grad)\n",
        "            p.grad.zero_()\n",
        "    return loss.item()"
      ],
      "execution_count": 0,
      "outputs": []
    },
    {
      "cell_type": "code",
      "metadata": {
        "id": "dPwbvwY419XR",
        "colab_type": "code",
        "colab": {}
      },
      "source": [
        "losses = [update(x,y,lr) for x,y in data.train_dl]"
      ],
      "execution_count": 0,
      "outputs": []
    },
    {
      "cell_type": "code",
      "metadata": {
        "id": "7XbkXtGF1-6A",
        "colab_type": "code",
        "colab": {
          "base_uri": "https://localhost:8080/",
          "height": 265
        },
        "outputId": "d0add4d6-59ce-45c7-cebb-510b8d2cd75d"
      },
      "source": [
        "plt.plot(losses);"
      ],
      "execution_count": 21,
      "outputs": [
        {
          "output_type": "display_data",
          "data": {
            "image/png": "[encoded data removed]",
            "text/plain": [
              "<Figure size 432x288 with 1 Axes>"
            ]
          },
          "metadata": {
            "tags": []
          }
        }
      ]
    },
    {
      "cell_type": "code",
      "metadata": {
        "id": "WjtPRla-2AZn",
        "colab_type": "code",
        "colab": {}
      },
      "source": [
        "class Mnist_NN(nn.Module):\n",
        "    def __init__(self):\n",
        "        super().__init__()\n",
        "        self.lin1 = nn.Linear(784, 50, bias=True)\n",
        "        self.lin2 = nn.Linear(50, 10, bias=True)\n",
        "\n",
        "    def forward(self, xb):\n",
        "        x = self.lin1(xb)\n",
        "        x = F.relu(x)\n",
        "        return self.lin2(x)"
      ],
      "execution_count": 0,
      "outputs": []
    },
    {
      "cell_type": "code",
      "metadata": {
        "id": "gwd6FwKn2BsE",
        "colab_type": "code",
        "colab": {}
      },
      "source": [
        "model = Mnist_NN().cuda()"
      ],
      "execution_count": 0,
      "outputs": []
    },
    {
      "cell_type": "code",
      "metadata": {
        "id": "qHNgeC2S2C-5",
        "colab_type": "code",
        "colab": {}
      },
      "source": [
        "losses = [update(x,y,lr) for x,y in data.train_dl]"
      ],
      "execution_count": 0,
      "outputs": []
    },
    {
      "cell_type": "code",
      "metadata": {
        "id": "9QoWnwRN2ELY",
        "colab_type": "code",
        "colab": {
          "base_uri": "https://localhost:8080/",
          "height": 265
        },
        "outputId": "9a82caa9-7eb8-4eb6-881d-d4a485fc067b"
      },
      "source": [
        "plt.plot(losses);"
      ],
      "execution_count": 25,
      "outputs": [
        {
          "output_type": "display_data",
          "data": {
            "image/png": "[encoded data removed]",
            "text/plain": [
              "<Figure size 432x288 with 1 Axes>"
            ]
          },
          "metadata": {
            "tags": []
          }
        }
      ]
    },
    {
      "cell_type": "code",
      "metadata": {
        "id": "DhKWF3-O2FaX",
        "colab_type": "code",
        "colab": {}
      },
      "source": [
        "model = Mnist_NN().cuda()"
      ],
      "execution_count": 0,
      "outputs": []
    },
    {
      "cell_type": "code",
      "metadata": {
        "id": "tSDC2k5D2HAF",
        "colab_type": "code",
        "colab": {}
      },
      "source": [
        "def update(x,y,lr):\n",
        "    opt = optim.Adam(model.parameters(), lr)\n",
        "    y_hat = model(x)\n",
        "    loss = loss_func(y_hat, y)\n",
        "    loss.backward()\n",
        "    opt.step()\n",
        "    opt.zero_grad()\n",
        "    return loss.item()"
      ],
      "execution_count": 0,
      "outputs": []
    },
    {
      "cell_type": "code",
      "metadata": {
        "id": "SsjGmsv12IbT",
        "colab_type": "code",
        "colab": {}
      },
      "source": [
        "losses = [update(x,y,1e-3) for x,y in data.train_dl]"
      ],
      "execution_count": 0,
      "outputs": []
    },
    {
      "cell_type": "code",
      "metadata": {
        "id": "aEm5aaPB2JhE",
        "colab_type": "code",
        "colab": {
          "base_uri": "https://localhost:8080/",
          "height": 265
        },
        "outputId": "d6b2c109-92de-41e9-d388-730cb000bf02"
      },
      "source": [
        "plt.plot(losses);"
      ],
      "execution_count": 29,
      "outputs": [
        {
          "output_type": "display_data",
          "data": {
            "image/png": "[encoded data removed]",
            "text/plain": [
              "<Figure size 432x288 with 1 Axes>"
            ]
          },
          "metadata": {
            "tags": []
          }
        }
      ]
    },
    {
      "cell_type": "code",
      "metadata": {
        "id": "JJ7XTBJd2K9F",
        "colab_type": "code",
        "colab": {}
      },
      "source": [
        "learn = Learner(data, Mnist_NN(), loss_func=loss_func, metrics=accuracy)"
      ],
      "execution_count": 0,
      "outputs": []
    },
    {
      "cell_type": "code",
      "metadata": {
        "id": "p0TgUlKJ2N4-",
        "colab_type": "code",
        "outputId": "a44e6cb5-6d5e-43d4-ef9c-f8c4c6385d43",
        "colab": {
          "base_uri": "https://localhost:8080/",
          "height": 167
        }
      },
      "source": [
        "%debug"
      ],
      "execution_count": 0,
      "outputs": [
        {
          "output_type": "stream",
          "text": [
            "> \u001b[0;32m<ipython-input-16-0a4e3778c18d>\u001b[0m(1)\u001b[0;36m<module>\u001b[0;34m()\u001b[0m\n",
            "\u001b[0;32m----> 1 \u001b[0;31m\u001b[0mx_train\u001b[0m\u001b[0;34m[\u001b[0m\u001b[0;36m50000\u001b[0m\u001b[0;34m]\u001b[0m\u001b[0;34m.\u001b[0m\u001b[0mshape\u001b[0m\u001b[0;34m\u001b[0m\u001b[0;34m\u001b[0m\u001b[0m\n",
            "\u001b[0m\n",
            "0\n",
            "0\n",
            "-1\n",
            "--KeyboardInterrupt--\n",
            "--KeyboardInterrupt--\n",
            "--KeyboardInterrupt--\n"
          ],
          "name": "stdout"
        }
      ]
    },
    {
      "cell_type": "code",
      "metadata": {
        "id": "MsSjkTVS2PZF",
        "colab_type": "code",
        "colab": {
          "base_uri": "https://localhost:8080/",
          "height": 372
        },
        "outputId": "4b9cfcb1-275b-4b05-b825-5abb7294661e"
      },
      "source": [
        "learn.lr_find()\n",
        "learn.recorder.plot()"
      ],
      "execution_count": 31,
      "outputs": [
        {
          "output_type": "display_data",
          "data": {
            "text/html": [
              "\n",
              "    <div>\n",
              "        <style>\n",
              "            /* Turns off some styling */\n",
              "            progress {\n",
              "                /* gets rid of default border in Firefox and Opera. */\n",
              "                border: none;\n",
              "                /* Needs to be in here for Safari polyfill so background images work as expected. */\n",
              "                background-size: auto;\n",
              "            }\n",
              "            .progress-bar-interrupted, .progress-bar-interrupted::-webkit-progress-bar {\n",
              "                background: #F44336;\n",
              "            }\n",
              "        </style>\n",
              "      <progress value='0' class='' max='1', style='width:300px; height:20px; vertical-align: middle;'></progress>\n",
              "      0.00% [0/1 00:00<00:00]\n",
              "    </div>\n",
              "    \n",
              "<table border=\"1\" class=\"dataframe\">\n",
              "  <thead>\n",
              "    <tr style=\"text-align: left;\">\n",
              "      <th>epoch</th>\n",
              "      <th>train_loss</th>\n",
              "      <th>valid_loss</th>\n",
              "      <th>accuracy</th>\n",
              "      <th>time</th>\n",
              "    </tr>\n",
              "  </thead>\n",
              "  <tbody>\n",
              "  </tbody>\n",
              "</table><p>\n",
              "\n",
              "    <div>\n",
              "        <style>\n",
              "            /* Turns off some styling */\n",
              "            progress {\n",
              "                /* gets rid of default border in Firefox and Opera. */\n",
              "                border: none;\n",
              "                /* Needs to be in here for Safari polyfill so background images work as expected. */\n",
              "                background-size: auto;\n",
              "            }\n",
              "            .progress-bar-interrupted, .progress-bar-interrupted::-webkit-progress-bar {\n",
              "                background: #F44336;\n",
              "            }\n",
              "        </style>\n",
              "      <progress value='92' class='' max='781', style='width:300px; height:20px; vertical-align: middle;'></progress>\n",
              "      11.78% [92/781 00:00<00:03 2.0839]\n",
              "    </div>\n",
              "    "
            ],
            "text/plain": [
              "<IPython.core.display.HTML object>"
            ]
          },
          "metadata": {
            "tags": []
          }
        },
        {
          "output_type": "stream",
          "text": [
            "LR Finder is complete, type {learner_name}.recorder.plot() to see the graph.\n"
          ],
          "name": "stdout"
        },
        {
          "output_type": "display_data",
          "data": {
            "image/png": "[encoded data removed]",
            "text/plain": [
              "<Figure size 432x288 with 1 Axes>"
            ]
          },
          "metadata": {
            "tags": []
          }
        }
      ]
    },
    {
      "cell_type": "code",
      "metadata": {
        "id": "UmcgQh-72Qzf",
        "colab_type": "code",
        "colab": {
          "base_uri": "https://localhost:8080/",
          "height": 77
        },
        "outputId": "e56d17ad-c61b-440b-9e8b-dc652707959a"
      },
      "source": [
        "learn.fit_one_cycle(1, 1e-2)"
      ],
      "execution_count": 32,
      "outputs": [
        {
          "output_type": "display_data",
          "data": {
            "text/html": [
              "<table border=\"1\" class=\"dataframe\">\n",
              "  <thead>\n",
              "    <tr style=\"text-align: left;\">\n",
              "      <th>epoch</th>\n",
              "      <th>train_loss</th>\n",
              "      <th>valid_loss</th>\n",
              "      <th>accuracy</th>\n",
              "      <th>time</th>\n",
              "    </tr>\n",
              "  </thead>\n",
              "  <tbody>\n",
              "    <tr>\n",
              "      <td>0</td>\n",
              "      <td>0.156771</td>\n",
              "      <td>0.131636</td>\n",
              "      <td>0.962700</td>\n",
              "      <td>00:03</td>\n",
              "    </tr>\n",
              "  </tbody>\n",
              "</table>"
            ],
            "text/plain": [
              "<IPython.core.display.HTML object>"
            ]
          },
          "metadata": {
            "tags": []
          }
        }
      ]
    },
    {
      "cell_type": "code",
      "metadata": {
        "id": "nmY1t4cq2SKa",
        "colab_type": "code",
        "colab": {
          "base_uri": "https://localhost:8080/",
          "height": 279
        },
        "outputId": "a580d074-4a76-417c-9fd7-5ebd29c6c430"
      },
      "source": [
        "learn.recorder.plot_lr(show_moms=True)"
      ],
      "execution_count": 33,
      "outputs": [
        {
          "output_type": "display_data",
          "data": {
            "image/png": "[encoded data removed]",
            "text/plain": [
              "<Figure size 864x288 with 2 Axes>"
            ]
          },
          "metadata": {
            "tags": []
          }
        }
      ]
    },
    {
      "cell_type": "code",
      "metadata": {
        "id": "gy5ZlBJS2TV_",
        "colab_type": "code",
        "colab": {
          "base_uri": "https://localhost:8080/",
          "height": 279
        },
        "outputId": "7032e581-9acb-4be0-a6c0-190bd24e8891"
      },
      "source": [
        "learn.recorder.plot_losses()"
      ],
      "execution_count": 34,
      "outputs": [
        {
          "output_type": "display_data",
          "data": {
            "image/png": "[encoded data removed]",
            "text/plain": [
              "<Figure size 432x288 with 1 Axes>"
            ]
          },
          "metadata": {
            "tags": []
          }
        }
      ]
    }
  ]
}