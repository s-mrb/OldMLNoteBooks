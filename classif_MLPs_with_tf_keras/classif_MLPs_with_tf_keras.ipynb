{
  "nbformat": 4,
  "nbformat_minor": 0,
  "metadata": {
    "colab": {
      "name": "classif_MLPs_with_tf_keras.ipynb",
      "provenance": []
    },
    "kernelspec": {
      "name": "python3",
      "display_name": "Python 3"
    }
  },
  "cells": [
    {
      "cell_type": "code",
      "metadata": {
        "id": "mrKJsUQfIsSr",
        "colab_type": "code",
        "colab": {}
      },
      "source": [
        "import tensorflow as tf"
      ],
      "execution_count": 0,
      "outputs": []
    },
    {
      "cell_type": "code",
      "metadata": {
        "id": "qcnbwtQXI3C_",
        "colab_type": "code",
        "colab": {}
      },
      "source": [
        "from tensorflow import keras"
      ],
      "execution_count": 0,
      "outputs": []
    },
    {
      "cell_type": "code",
      "metadata": {
        "id": "qvKGK4UaI6M9",
        "colab_type": "code",
        "colab": {}
      },
      "source": [
        "fashion_mnist = keras.datasets.fashion_mnist"
      ],
      "execution_count": 0,
      "outputs": []
    },
    {
      "cell_type": "code",
      "metadata": {
        "id": "1_0Wkn-3JTZD",
        "colab_type": "code",
        "colab": {}
      },
      "source": [
        "(X_train_full, y_train_full), (X_test, y_test) = fashion_mnist.load_data()"
      ],
      "execution_count": 0,
      "outputs": []
    },
    {
      "cell_type": "code",
      "metadata": {
        "id": "D1k48LSQJYRg",
        "colab_type": "code",
        "colab": {
          "base_uri": "https://localhost:8080/",
          "height": 34
        },
        "outputId": "98323431-a534-43d0-a7a7-d7cc9b8eceda"
      },
      "source": [
        "X_train_full.shape"
      ],
      "execution_count": 15,
      "outputs": [
        {
          "output_type": "execute_result",
          "data": {
            "text/plain": [
              "(60000, 28, 28)"
            ]
          },
          "metadata": {
            "tags": []
          },
          "execution_count": 15
        }
      ]
    },
    {
      "cell_type": "code",
      "metadata": {
        "id": "gvJxtoCXJz_I",
        "colab_type": "code",
        "colab": {
          "base_uri": "https://localhost:8080/",
          "height": 34
        },
        "outputId": "24adcd1c-c8be-48c9-b555-69522857db10"
      },
      "source": [
        "X_train_full.dtype"
      ],
      "execution_count": 16,
      "outputs": [
        {
          "output_type": "execute_result",
          "data": {
            "text/plain": [
              "dtype('uint8')"
            ]
          },
          "metadata": {
            "tags": []
          },
          "execution_count": 16
        }
      ]
    },
    {
      "cell_type": "code",
      "metadata": {
        "id": "1Ve1UPtZJ6MN",
        "colab_type": "code",
        "colab": {}
      },
      "source": [
        "X_valid, X_train = X_train_full[:5000] / 255.0, X_train_full[5000:] / 255.0"
      ],
      "execution_count": 0,
      "outputs": []
    },
    {
      "cell_type": "code",
      "metadata": {
        "id": "sM-RIi-7O1ta",
        "colab_type": "code",
        "colab": {}
      },
      "source": [
        "y_valid, y_train = y_train_full[:5000], y_train_full[5000:]"
      ],
      "execution_count": 0,
      "outputs": []
    },
    {
      "cell_type": "code",
      "metadata": {
        "id": "qetZCuQHO9hS",
        "colab_type": "code",
        "colab": {}
      },
      "source": [
        "class_names = [\"T-shirt/top\", \"Trouser\", \"Pullover\", \"Dress\", \"Coat\", \"Sandal\", \"Shirt\", \"Sneaker\", \"Bag\", \"Ankle boot\"]"
      ],
      "execution_count": 0,
      "outputs": []
    },
    {
      "cell_type": "code",
      "metadata": {
        "id": "uDtWmbzCPEZL",
        "colab_type": "code",
        "colab": {
          "base_uri": "https://localhost:8080/",
          "height": 34
        },
        "outputId": "63bf55aa-487c-43fc-ecdc-d53bbec3a2e6"
      },
      "source": [
        "class_names[y_train[0]]"
      ],
      "execution_count": 20,
      "outputs": [
        {
          "output_type": "execute_result",
          "data": {
            "text/plain": [
              "'Coat'"
            ]
          },
          "metadata": {
            "tags": []
          },
          "execution_count": 20
        }
      ]
    },
    {
      "cell_type": "code",
      "metadata": {
        "id": "zMOKKRdAPgu3",
        "colab_type": "code",
        "colab": {}
      },
      "source": [
        "model = keras.models.Sequential()\n",
        "model.add(keras.layers.Flatten(input_shape=[28, 28]))\n",
        "model.add(keras.layers.Dense(300, activation=\"relu\"))\n",
        "model.add(keras.layers.Dense(100, activation=\"relu\"))\n",
        "model.add(keras.layers.Dense(10, activation=\"softmax\"))"
      ],
      "execution_count": 0,
      "outputs": []
    },
    {
      "cell_type": "markdown",
      "metadata": {
        "id": "V3Ga6cLSVlO0",
        "colab_type": "text"
      },
      "source": [
        "**OR IN CONSTRUCTOR**"
      ]
    },
    {
      "cell_type": "code",
      "metadata": {
        "id": "eCHamS_xPgBw",
        "colab_type": "code",
        "colab": {}
      },
      "source": [
        "model = keras.models.Sequential([ keras.layers.Flatten(input_shape=[28, 28]),\n",
        "                                  keras.layers.Dense(300, activation=\"relu\"),\n",
        "                                  keras.layers.Dense(100, activation=\"relu\"),\n",
        "                                  keras.layers.Dense(10, activation=\"softmax\")\n",
        "                                ])"
      ],
      "execution_count": 0,
      "outputs": []
    },
    {
      "cell_type": "code",
      "metadata": {
        "id": "_vLHjC4pVx7p",
        "colab_type": "code",
        "colab": {
          "base_uri": "https://localhost:8080/",
          "height": 289
        },
        "outputId": "e7fc9327-2239-4903-f555-f705c3b245ac"
      },
      "source": [
        "model.summary()"
      ],
      "execution_count": 23,
      "outputs": [
        {
          "output_type": "stream",
          "text": [
            "Model: \"sequential\"\n",
            "_________________________________________________________________\n",
            "Layer (type)                 Output Shape              Param #   \n",
            "=================================================================\n",
            "flatten (Flatten)            (None, 784)               0         \n",
            "_________________________________________________________________\n",
            "dense (Dense)                (None, 300)               235500    \n",
            "_________________________________________________________________\n",
            "dense_1 (Dense)              (None, 100)               30100     \n",
            "_________________________________________________________________\n",
            "dense_2 (Dense)              (None, 10)                1010      \n",
            "=================================================================\n",
            "Total params: 266,610\n",
            "Trainable params: 266,610\n",
            "Non-trainable params: 0\n",
            "_________________________________________________________________\n"
          ],
          "name": "stdout"
        }
      ]
    },
    {
      "cell_type": "markdown",
      "metadata": {
        "id": "zVTl2VxJXGEn",
        "colab_type": "text"
      },
      "source": [
        "get a model’s list of layers"
      ]
    },
    {
      "cell_type": "code",
      "metadata": {
        "id": "dm5lwClzXGjS",
        "colab_type": "code",
        "colab": {
          "base_uri": "https://localhost:8080/",
          "height": 85
        },
        "outputId": "92e349da-15d9-4154-adc6-094ff0e1538b"
      },
      "source": [
        "model.layers"
      ],
      "execution_count": 24,
      "outputs": [
        {
          "output_type": "execute_result",
          "data": {
            "text/plain": [
              "[<tensorflow.python.keras.layers.core.Flatten at 0x7f9b2aa9ff60>,\n",
              " <tensorflow.python.keras.layers.core.Dense at 0x7f9b2a61b438>,\n",
              " <tensorflow.python.keras.layers.core.Dense at 0x7f9b2aacc8d0>,\n",
              " <tensorflow.python.keras.layers.core.Dense at 0x7f9b7aee4ba8>]"
            ]
          },
          "metadata": {
            "tags": []
          },
          "execution_count": 24
        }
      ]
    },
    {
      "cell_type": "code",
      "metadata": {
        "id": "Iv1pq0RwXITy",
        "colab_type": "code",
        "colab": {}
      },
      "source": [
        "hidden1 = model.layers[1]"
      ],
      "execution_count": 0,
      "outputs": []
    },
    {
      "cell_type": "code",
      "metadata": {
        "id": "FXAIGb8KXLjZ",
        "colab_type": "code",
        "colab": {
          "base_uri": "https://localhost:8080/",
          "height": 34
        },
        "outputId": "786205a8-8176-4709-faa9-7478dee851c6"
      },
      "source": [
        "\n",
        "hidden1.name\n"
      ],
      "execution_count": 26,
      "outputs": [
        {
          "output_type": "execute_result",
          "data": {
            "text/plain": [
              "'dense'"
            ]
          },
          "metadata": {
            "tags": []
          },
          "execution_count": 26
        }
      ]
    },
    {
      "cell_type": "code",
      "metadata": {
        "id": "edOfms3hXO8G",
        "colab_type": "code",
        "colab": {}
      },
      "source": [
        "weights, biases = hidden1.get_weights()"
      ],
      "execution_count": 0,
      "outputs": []
    },
    {
      "cell_type": "code",
      "metadata": {
        "id": "UZK75erfYICA",
        "colab_type": "code",
        "colab": {
          "base_uri": "https://localhost:8080/",
          "height": 238
        },
        "outputId": "aa93a376-fa21-4071-9a8e-9a4391c8b3b5"
      },
      "source": [
        "weights"
      ],
      "execution_count": 28,
      "outputs": [
        {
          "output_type": "execute_result",
          "data": {
            "text/plain": [
              "array([[ 0.03569192,  0.03432711,  0.03398945, ...,  0.04347679,\n",
              "        -0.03217759, -0.04565591],\n",
              "       [ 0.06032102, -0.02134435, -0.03291227, ...,  0.01751913,\n",
              "         0.03963829, -0.04745428],\n",
              "       [-0.04984676, -0.01767829, -0.03124498, ..., -0.01163778,\n",
              "        -0.00465546, -0.03579873],\n",
              "       ...,\n",
              "       [ 0.07228811, -0.05955337,  0.06935799, ..., -0.02100444,\n",
              "        -0.0128582 , -0.05439316],\n",
              "       [ 0.06117195, -0.05623714, -0.07370482, ..., -0.02839775,\n",
              "         0.01097345, -0.01250256],\n",
              "       [ 0.06562868, -0.04896668, -0.05902413, ..., -0.0712807 ,\n",
              "        -0.02429731,  0.05414468]], dtype=float32)"
            ]
          },
          "metadata": {
            "tags": []
          },
          "execution_count": 28
        }
      ]
    },
    {
      "cell_type": "code",
      "metadata": {
        "id": "3EQApKf3YJ3e",
        "colab_type": "code",
        "colab": {
          "base_uri": "https://localhost:8080/",
          "height": 34
        },
        "outputId": "3c076ef6-88cf-4bd6-86a4-e01902577245"
      },
      "source": [
        "weights.shape"
      ],
      "execution_count": 29,
      "outputs": [
        {
          "output_type": "execute_result",
          "data": {
            "text/plain": [
              "(784, 300)"
            ]
          },
          "metadata": {
            "tags": []
          },
          "execution_count": 29
        }
      ]
    },
    {
      "cell_type": "code",
      "metadata": {
        "id": "RZADmRN3YOK6",
        "colab_type": "code",
        "colab": {
          "base_uri": "https://localhost:8080/",
          "height": 323
        },
        "outputId": "53ad94ea-95a5-4174-bd0f-9c1ed0e7108f"
      },
      "source": [
        "biases"
      ],
      "execution_count": 30,
      "outputs": [
        {
          "output_type": "execute_result",
          "data": {
            "text/plain": [
              "array([0., 0., 0., 0., 0., 0., 0., 0., 0., 0., 0., 0., 0., 0., 0., 0., 0.,\n",
              "       0., 0., 0., 0., 0., 0., 0., 0., 0., 0., 0., 0., 0., 0., 0., 0., 0.,\n",
              "       0., 0., 0., 0., 0., 0., 0., 0., 0., 0., 0., 0., 0., 0., 0., 0., 0.,\n",
              "       0., 0., 0., 0., 0., 0., 0., 0., 0., 0., 0., 0., 0., 0., 0., 0., 0.,\n",
              "       0., 0., 0., 0., 0., 0., 0., 0., 0., 0., 0., 0., 0., 0., 0., 0., 0.,\n",
              "       0., 0., 0., 0., 0., 0., 0., 0., 0., 0., 0., 0., 0., 0., 0., 0., 0.,\n",
              "       0., 0., 0., 0., 0., 0., 0., 0., 0., 0., 0., 0., 0., 0., 0., 0., 0.,\n",
              "       0., 0., 0., 0., 0., 0., 0., 0., 0., 0., 0., 0., 0., 0., 0., 0., 0.,\n",
              "       0., 0., 0., 0., 0., 0., 0., 0., 0., 0., 0., 0., 0., 0., 0., 0., 0.,\n",
              "       0., 0., 0., 0., 0., 0., 0., 0., 0., 0., 0., 0., 0., 0., 0., 0., 0.,\n",
              "       0., 0., 0., 0., 0., 0., 0., 0., 0., 0., 0., 0., 0., 0., 0., 0., 0.,\n",
              "       0., 0., 0., 0., 0., 0., 0., 0., 0., 0., 0., 0., 0., 0., 0., 0., 0.,\n",
              "       0., 0., 0., 0., 0., 0., 0., 0., 0., 0., 0., 0., 0., 0., 0., 0., 0.,\n",
              "       0., 0., 0., 0., 0., 0., 0., 0., 0., 0., 0., 0., 0., 0., 0., 0., 0.,\n",
              "       0., 0., 0., 0., 0., 0., 0., 0., 0., 0., 0., 0., 0., 0., 0., 0., 0.,\n",
              "       0., 0., 0., 0., 0., 0., 0., 0., 0., 0., 0., 0., 0., 0., 0., 0., 0.,\n",
              "       0., 0., 0., 0., 0., 0., 0., 0., 0., 0., 0., 0., 0., 0., 0., 0., 0.,\n",
              "       0., 0., 0., 0., 0., 0., 0., 0., 0., 0., 0.], dtype=float32)"
            ]
          },
          "metadata": {
            "tags": []
          },
          "execution_count": 30
        }
      ]
    },
    {
      "cell_type": "code",
      "metadata": {
        "id": "9Yez-EqPYcaE",
        "colab_type": "code",
        "colab": {
          "base_uri": "https://localhost:8080/",
          "height": 34
        },
        "outputId": "85407415-c6ce-4561-a711-b3a4ff7155d9"
      },
      "source": [
        "biases.shape"
      ],
      "execution_count": 31,
      "outputs": [
        {
          "output_type": "execute_result",
          "data": {
            "text/plain": [
              "(300,)"
            ]
          },
          "metadata": {
            "tags": []
          },
          "execution_count": 31
        }
      ]
    },
    {
      "cell_type": "code",
      "metadata": {
        "id": "yQ5dHqakYftC",
        "colab_type": "code",
        "colab": {}
      },
      "source": [
        "model.compile(loss=\"sparse_categorical_crossentropy\", optimizer=\"sgd\", metrics=[\"accuracy\"])"
      ],
      "execution_count": 0,
      "outputs": []
    },
    {
      "cell_type": "code",
      "metadata": {
        "id": "VLuaqVD9aBwD",
        "colab_type": "code",
        "colab": {
          "base_uri": "https://localhost:8080/",
          "height": 1000
        },
        "outputId": "ec251ec4-137e-4e8a-a1bf-c01bc0172445"
      },
      "source": [
        "history = model.fit(X_train, y_train, epochs=30,validation_data=(X_valid, y_valid))"
      ],
      "execution_count": 33,
      "outputs": [
        {
          "output_type": "stream",
          "text": [
            "Epoch 1/30\n",
            "1719/1719 [==============================] - 5s 3ms/step - loss: 0.7213 - accuracy: 0.7663 - val_loss: 0.5201 - val_accuracy: 0.8216\n",
            "Epoch 2/30\n",
            "1719/1719 [==============================] - 5s 3ms/step - loss: 0.4856 - accuracy: 0.8311 - val_loss: 0.4451 - val_accuracy: 0.8512\n",
            "Epoch 3/30\n",
            "1719/1719 [==============================] - 5s 3ms/step - loss: 0.4414 - accuracy: 0.8454 - val_loss: 0.4108 - val_accuracy: 0.8614\n",
            "Epoch 4/30\n",
            "1719/1719 [==============================] - 5s 3ms/step - loss: 0.4135 - accuracy: 0.8560 - val_loss: 0.4111 - val_accuracy: 0.8600\n",
            "Epoch 5/30\n",
            "1719/1719 [==============================] - 5s 3ms/step - loss: 0.3937 - accuracy: 0.8621 - val_loss: 0.3769 - val_accuracy: 0.8702\n",
            "Epoch 6/30\n",
            "1719/1719 [==============================] - 5s 3ms/step - loss: 0.3768 - accuracy: 0.8662 - val_loss: 0.3803 - val_accuracy: 0.8688\n",
            "Epoch 7/30\n",
            "1719/1719 [==============================] - 5s 3ms/step - loss: 0.3640 - accuracy: 0.8714 - val_loss: 0.3625 - val_accuracy: 0.8774\n",
            "Epoch 8/30\n",
            "1719/1719 [==============================] - 5s 3ms/step - loss: 0.3523 - accuracy: 0.8746 - val_loss: 0.3512 - val_accuracy: 0.8784\n",
            "Epoch 9/30\n",
            "1719/1719 [==============================] - 5s 3ms/step - loss: 0.3429 - accuracy: 0.8776 - val_loss: 0.3584 - val_accuracy: 0.8760\n",
            "Epoch 10/30\n",
            "1719/1719 [==============================] - 5s 3ms/step - loss: 0.3326 - accuracy: 0.8815 - val_loss: 0.3462 - val_accuracy: 0.8762\n",
            "Epoch 11/30\n",
            "1719/1719 [==============================] - 5s 3ms/step - loss: 0.3238 - accuracy: 0.8839 - val_loss: 0.3438 - val_accuracy: 0.8804\n",
            "Epoch 12/30\n",
            "1719/1719 [==============================] - 5s 3ms/step - loss: 0.3156 - accuracy: 0.8869 - val_loss: 0.3359 - val_accuracy: 0.8808\n",
            "Epoch 13/30\n",
            "1719/1719 [==============================] - 5s 3ms/step - loss: 0.3080 - accuracy: 0.8900 - val_loss: 0.3306 - val_accuracy: 0.8846\n",
            "Epoch 14/30\n",
            "1719/1719 [==============================] - 5s 3ms/step - loss: 0.3024 - accuracy: 0.8907 - val_loss: 0.3222 - val_accuracy: 0.8858\n",
            "Epoch 15/30\n",
            "1719/1719 [==============================] - 5s 3ms/step - loss: 0.2965 - accuracy: 0.8924 - val_loss: 0.3223 - val_accuracy: 0.8866\n",
            "Epoch 16/30\n",
            "1719/1719 [==============================] - 5s 3ms/step - loss: 0.2891 - accuracy: 0.8962 - val_loss: 0.3198 - val_accuracy: 0.8834\n",
            "Epoch 17/30\n",
            "1719/1719 [==============================] - 5s 3ms/step - loss: 0.2839 - accuracy: 0.8980 - val_loss: 0.3053 - val_accuracy: 0.8924\n",
            "Epoch 18/30\n",
            "1719/1719 [==============================] - 5s 3ms/step - loss: 0.2783 - accuracy: 0.8996 - val_loss: 0.3080 - val_accuracy: 0.8932\n",
            "Epoch 19/30\n",
            "1719/1719 [==============================] - 5s 3ms/step - loss: 0.2727 - accuracy: 0.9014 - val_loss: 0.3157 - val_accuracy: 0.8862\n",
            "Epoch 20/30\n",
            "1719/1719 [==============================] - 5s 3ms/step - loss: 0.2680 - accuracy: 0.9031 - val_loss: 0.3193 - val_accuracy: 0.8852\n",
            "Epoch 21/30\n",
            "1719/1719 [==============================] - 5s 3ms/step - loss: 0.2618 - accuracy: 0.9060 - val_loss: 0.3034 - val_accuracy: 0.8902\n",
            "Epoch 22/30\n",
            "1719/1719 [==============================] - 5s 3ms/step - loss: 0.2579 - accuracy: 0.9069 - val_loss: 0.3041 - val_accuracy: 0.8896\n",
            "Epoch 23/30\n",
            "1719/1719 [==============================] - 5s 3ms/step - loss: 0.2538 - accuracy: 0.9087 - val_loss: 0.3200 - val_accuracy: 0.8850\n",
            "Epoch 24/30\n",
            "1719/1719 [==============================] - 5s 3ms/step - loss: 0.2482 - accuracy: 0.9101 - val_loss: 0.2915 - val_accuracy: 0.8950\n",
            "Epoch 25/30\n",
            "1719/1719 [==============================] - 5s 3ms/step - loss: 0.2444 - accuracy: 0.9129 - val_loss: 0.3154 - val_accuracy: 0.8892\n",
            "Epoch 26/30\n",
            "1719/1719 [==============================] - 5s 3ms/step - loss: 0.2401 - accuracy: 0.9137 - val_loss: 0.2997 - val_accuracy: 0.8938\n",
            "Epoch 27/30\n",
            "1719/1719 [==============================] - 5s 3ms/step - loss: 0.2359 - accuracy: 0.9147 - val_loss: 0.3049 - val_accuracy: 0.8904\n",
            "Epoch 28/30\n",
            "1719/1719 [==============================] - 5s 3ms/step - loss: 0.2316 - accuracy: 0.9159 - val_loss: 0.2927 - val_accuracy: 0.8940\n",
            "Epoch 29/30\n",
            "1719/1719 [==============================] - 5s 3ms/step - loss: 0.2286 - accuracy: 0.9186 - val_loss: 0.2976 - val_accuracy: 0.8918\n",
            "Epoch 30/30\n",
            "1719/1719 [==============================] - 5s 3ms/step - loss: 0.2242 - accuracy: 0.9186 - val_loss: 0.2922 - val_accuracy: 0.8960\n"
          ],
          "name": "stdout"
        }
      ]
    },
    {
      "cell_type": "code",
      "metadata": {
        "id": "Wf6JmQ_Ib4rF",
        "colab_type": "code",
        "colab": {
          "base_uri": "https://localhost:8080/",
          "height": 34
        },
        "outputId": "b24a9919-7805-4575-976d-a83ef17647bc"
      },
      "source": [
        "history"
      ],
      "execution_count": 34,
      "outputs": [
        {
          "output_type": "execute_result",
          "data": {
            "text/plain": [
              "<tensorflow.python.keras.callbacks.History at 0x7f9b2434d550>"
            ]
          },
          "metadata": {
            "tags": []
          },
          "execution_count": 34
        }
      ]
    },
    {
      "cell_type": "code",
      "metadata": {
        "id": "C0MkI1usfK5B",
        "colab_type": "code",
        "colab": {
          "base_uri": "https://localhost:8080/",
          "height": 34
        },
        "outputId": "49d61519-cd61-4ce0-faae-338c9c90b311"
      },
      "source": [
        "history.params"
      ],
      "execution_count": 35,
      "outputs": [
        {
          "output_type": "execute_result",
          "data": {
            "text/plain": [
              "{'epochs': 30, 'steps': 1719, 'verbose': 1}"
            ]
          },
          "metadata": {
            "tags": []
          },
          "execution_count": 35
        }
      ]
    },
    {
      "cell_type": "code",
      "metadata": {
        "id": "2shGrQJ_fMSI",
        "colab_type": "code",
        "colab": {
          "base_uri": "https://localhost:8080/",
          "height": 527
        },
        "outputId": "28ea01c7-4e1b-42ce-9432-370383826cb1"
      },
      "source": [
        "history.epoch"
      ],
      "execution_count": 36,
      "outputs": [
        {
          "output_type": "execute_result",
          "data": {
            "text/plain": [
              "[0,\n",
              " 1,\n",
              " 2,\n",
              " 3,\n",
              " 4,\n",
              " 5,\n",
              " 6,\n",
              " 7,\n",
              " 8,\n",
              " 9,\n",
              " 10,\n",
              " 11,\n",
              " 12,\n",
              " 13,\n",
              " 14,\n",
              " 15,\n",
              " 16,\n",
              " 17,\n",
              " 18,\n",
              " 19,\n",
              " 20,\n",
              " 21,\n",
              " 22,\n",
              " 23,\n",
              " 24,\n",
              " 25,\n",
              " 26,\n",
              " 27,\n",
              " 28,\n",
              " 29]"
            ]
          },
          "metadata": {
            "tags": []
          },
          "execution_count": 36
        }
      ]
    },
    {
      "cell_type": "code",
      "metadata": {
        "id": "e27tUowmfQiE",
        "colab_type": "code",
        "colab": {
          "base_uri": "https://localhost:8080/",
          "height": 1000
        },
        "outputId": "a9eb783b-97ff-4da8-aa53-30633a690e97"
      },
      "source": [
        "history.history"
      ],
      "execution_count": 37,
      "outputs": [
        {
          "output_type": "execute_result",
          "data": {
            "text/plain": [
              "{'accuracy': [0.7662545442581177,\n",
              "  0.8311454653739929,\n",
              "  0.8454363346099854,\n",
              "  0.8559818267822266,\n",
              "  0.8621090650558472,\n",
              "  0.8662182092666626,\n",
              "  0.8713818192481995,\n",
              "  0.8746181726455688,\n",
              "  0.8776181936264038,\n",
              "  0.8814545273780823,\n",
              "  0.8839091062545776,\n",
              "  0.8868727087974548,\n",
              "  0.8899999856948853,\n",
              "  0.8907091021537781,\n",
              "  0.8924000263214111,\n",
              "  0.8961636424064636,\n",
              "  0.8980000019073486,\n",
              "  0.8996182084083557,\n",
              "  0.9014363884925842,\n",
              "  0.903109073638916,\n",
              "  0.906036376953125,\n",
              "  0.9069091081619263,\n",
              "  0.9086727499961853,\n",
              "  0.9100909233093262,\n",
              "  0.9129454493522644,\n",
              "  0.9137272834777832,\n",
              "  0.9147090911865234,\n",
              "  0.9158909320831299,\n",
              "  0.9186182022094727,\n",
              "  0.9185636639595032],\n",
              " 'loss': [0.7212859988212585,\n",
              "  0.48562875390052795,\n",
              "  0.44136515259742737,\n",
              "  0.41352394223213196,\n",
              "  0.3936704397201538,\n",
              "  0.3768247067928314,\n",
              "  0.3640279173851013,\n",
              "  0.35227009654045105,\n",
              "  0.34293174743652344,\n",
              "  0.33256006240844727,\n",
              "  0.3238166272640228,\n",
              "  0.31563282012939453,\n",
              "  0.3080202341079712,\n",
              "  0.3023988902568817,\n",
              "  0.2964516580104828,\n",
              "  0.2891485393047333,\n",
              "  0.28386053442955017,\n",
              "  0.27825963497161865,\n",
              "  0.2726821303367615,\n",
              "  0.26804080605506897,\n",
              "  0.261842280626297,\n",
              "  0.2579386830329895,\n",
              "  0.2538171708583832,\n",
              "  0.24818821251392365,\n",
              "  0.24442213773727417,\n",
              "  0.2400972545146942,\n",
              "  0.23590466380119324,\n",
              "  0.23155373334884644,\n",
              "  0.228603333234787,\n",
              "  0.22417797148227692],\n",
              " 'val_accuracy': [0.8216000199317932,\n",
              "  0.8511999845504761,\n",
              "  0.8614000082015991,\n",
              "  0.8600000143051147,\n",
              "  0.870199978351593,\n",
              "  0.8687999844551086,\n",
              "  0.8773999810218811,\n",
              "  0.8784000277519226,\n",
              "  0.8759999871253967,\n",
              "  0.8762000203132629,\n",
              "  0.8804000020027161,\n",
              "  0.8808000087738037,\n",
              "  0.8845999836921692,\n",
              "  0.8858000040054321,\n",
              "  0.8866000175476074,\n",
              "  0.883400022983551,\n",
              "  0.8924000263214111,\n",
              "  0.8931999802589417,\n",
              "  0.8862000107765198,\n",
              "  0.885200023651123,\n",
              "  0.8902000188827515,\n",
              "  0.8895999789237976,\n",
              "  0.8849999904632568,\n",
              "  0.8949999809265137,\n",
              "  0.88919997215271,\n",
              "  0.8938000202178955,\n",
              "  0.8903999924659729,\n",
              "  0.8939999938011169,\n",
              "  0.8917999863624573,\n",
              "  0.8960000276565552],\n",
              " 'val_loss': [0.5201030373573303,\n",
              "  0.44511401653289795,\n",
              "  0.410830020904541,\n",
              "  0.4110982418060303,\n",
              "  0.3769456446170807,\n",
              "  0.3802868127822876,\n",
              "  0.36254173517227173,\n",
              "  0.3511516749858856,\n",
              "  0.3583982288837433,\n",
              "  0.3462303578853607,\n",
              "  0.3438112437725067,\n",
              "  0.33585599064826965,\n",
              "  0.3305615186691284,\n",
              "  0.32215508818626404,\n",
              "  0.3223167657852173,\n",
              "  0.3197694718837738,\n",
              "  0.305317223072052,\n",
              "  0.30803436040878296,\n",
              "  0.31574347615242004,\n",
              "  0.3193107843399048,\n",
              "  0.30340275168418884,\n",
              "  0.3041074275970459,\n",
              "  0.3200034201145172,\n",
              "  0.29152166843414307,\n",
              "  0.315395712852478,\n",
              "  0.2997265160083771,\n",
              "  0.30491751432418823,\n",
              "  0.29265862703323364,\n",
              "  0.2975592613220215,\n",
              "  0.29224830865859985]}"
            ]
          },
          "metadata": {
            "tags": []
          },
          "execution_count": 37
        }
      ]
    },
    {
      "cell_type": "markdown",
      "metadata": {
        "id": "U7p4t4yFfg_r",
        "colab_type": "text"
      },
      "source": [
        "If you use this dictionary to create a pandas DataFrame and call its plot() method, you get the learning curves "
      ]
    },
    {
      "cell_type": "code",
      "metadata": {
        "id": "8yKMHSbPfVco",
        "colab_type": "code",
        "colab": {}
      },
      "source": [
        "import pandas as pd \n",
        "import matplotlib.pyplot as plt"
      ],
      "execution_count": 0,
      "outputs": []
    },
    {
      "cell_type": "code",
      "metadata": {
        "id": "5Mp9mv07fkql",
        "colab_type": "code",
        "colab": {
          "base_uri": "https://localhost:8080/",
          "height": 324
        },
        "outputId": "76667e60-008e-4182-a858-15e9f2a58d4a"
      },
      "source": [
        "pd.DataFrame(history.history).plot(figsize=(8, 5))\n",
        "plt.grid(True) \n",
        "plt.gca().set_ylim(0, 1) # set the vertical range to [0-1] \n",
        "plt.show()"
      ],
      "execution_count": 41,
      "outputs": [
        {
          "output_type": "display_data",
          "data": {
            "image/png": "[encoded data removed]",
            "text/plain": [
              "<Figure size 576x360 with 1 Axes>"
            ]
          },
          "metadata": {
            "tags": [],
            "needs_background": "light"
          }
        }
      ]
    },
    {
      "cell_type": "markdown",
      "metadata": {
        "id": "i_9KpvsHgvPa",
        "colab_type": "text"
      },
      "source": [
        "In this particular case, the model looks like it performed better on the validation set than on the training set at the beginning of training. But that’s not the case: indeed, the validation error is computed at the end of each epoch, while the training error is computed using a running mean during each epoch. So the training curve should be shifted by half an epoch to the left."
      ]
    },
    {
      "cell_type": "markdown",
      "metadata": {
        "id": "JD-tlNbHhn7F",
        "colab_type": "text"
      },
      "source": [
        "**ON TEST**"
      ]
    },
    {
      "cell_type": "code",
      "metadata": {
        "id": "AnTu3XZrgvt1",
        "colab_type": "code",
        "colab": {
          "base_uri": "https://localhost:8080/",
          "height": 51
        },
        "outputId": "d189a320-3cfd-46a4-d15e-14b530bba26f"
      },
      "source": [
        "model.evaluate(X_test, y_test)"
      ],
      "execution_count": 42,
      "outputs": [
        {
          "output_type": "stream",
          "text": [
            "313/313 [==============================] - 1s 2ms/step - loss: 62.8440 - accuracy: 0.8494\n"
          ],
          "name": "stdout"
        },
        {
          "output_type": "execute_result",
          "data": {
            "text/plain": [
              "[62.843963623046875, 0.849399983882904]"
            ]
          },
          "metadata": {
            "tags": []
          },
          "execution_count": 42
        }
      ]
    },
    {
      "cell_type": "markdown",
      "metadata": {
        "id": "t8QS7v25hqXk",
        "colab_type": "text"
      },
      "source": [
        "Using the model to make predictions"
      ]
    },
    {
      "cell_type": "code",
      "metadata": {
        "id": "u0iJprZ7hXCz",
        "colab_type": "code",
        "colab": {}
      },
      "source": [
        "X_new = X_test[:3]"
      ],
      "execution_count": 0,
      "outputs": []
    },
    {
      "cell_type": "code",
      "metadata": {
        "id": "WfkQu4dShtn1",
        "colab_type": "code",
        "colab": {}
      },
      "source": [
        "y_proba = model.predict(X_new)\n"
      ],
      "execution_count": 0,
      "outputs": []
    },
    {
      "cell_type": "code",
      "metadata": {
        "id": "a2nf0mEkhxdb",
        "colab_type": "code",
        "colab": {
          "base_uri": "https://localhost:8080/",
          "height": 68
        },
        "outputId": "7bfde35e-6f35-4a6f-fe70-33cd385c832b"
      },
      "source": [
        "y_proba.round(2)"
      ],
      "execution_count": 45,
      "outputs": [
        {
          "output_type": "execute_result",
          "data": {
            "text/plain": [
              "array([[0., 0., 0., 0., 0., 0., 0., 0., 0., 1.],\n",
              "       [0., 0., 1., 0., 0., 0., 0., 0., 0., 0.],\n",
              "       [0., 1., 0., 0., 0., 0., 0., 0., 0., 0.]], dtype=float32)"
            ]
          },
          "metadata": {
            "tags": []
          },
          "execution_count": 45
        }
      ]
    },
    {
      "cell_type": "markdown",
      "metadata": {
        "id": "9Mu9PJpriVAi",
        "colab_type": "text"
      },
      "source": [
        "If you only care about the class with the highest estimated probability (even if that probability is quite low), then you can use the pre dict_classes() method instead:"
      ]
    },
    {
      "cell_type": "code",
      "metadata": {
        "id": "qry-4jhyiVm4",
        "colab_type": "code",
        "colab": {
          "base_uri": "https://localhost:8080/",
          "height": 88
        },
        "outputId": "bb350115-9c4b-4d59-a586-5180f556ab9a"
      },
      "source": [
        "y_pred = model.predict_classes(X_new)"
      ],
      "execution_count": 46,
      "outputs": [
        {
          "output_type": "stream",
          "text": [
            "WARNING:tensorflow:From <ipython-input-46-53f3df9ca645>:1: Sequential.predict_classes (from tensorflow.python.keras.engine.sequential) is deprecated and will be removed after 2021-01-01.\n",
            "Instructions for updating:\n",
            "Please use instead:* `np.argmax(model.predict(x), axis=-1)`,   if your model does multi-class classification   (e.g. if it uses a `softmax` last-layer activation).* `(model.predict(x) > 0.5).astype(\"int32\")`,   if your model does binary classification   (e.g. if it uses a `sigmoid` last-layer activation).\n"
          ],
          "name": "stdout"
        }
      ]
    },
    {
      "cell_type": "code",
      "metadata": {
        "id": "Gy_8C7u3iXx9",
        "colab_type": "code",
        "colab": {
          "base_uri": "https://localhost:8080/",
          "height": 34
        },
        "outputId": "bbc61dcd-b158-4f77-8b36-75813c363c89"
      },
      "source": [
        "y_pred"
      ],
      "execution_count": 47,
      "outputs": [
        {
          "output_type": "execute_result",
          "data": {
            "text/plain": [
              "array([9, 2, 1])"
            ]
          },
          "metadata": {
            "tags": []
          },
          "execution_count": 47
        }
      ]
    },
    {
      "cell_type": "code",
      "metadata": {
        "id": "AwrptYGWiZFF",
        "colab_type": "code",
        "colab": {
          "base_uri": "https://localhost:8080/",
          "height": 34
        },
        "outputId": "231c6b2a-4870-4379-a3ef-0a325a906854"
      },
      "source": [
        "import numpy as np\n",
        "np.array(class_names)[y_pred]"
      ],
      "execution_count": 49,
      "outputs": [
        {
          "output_type": "execute_result",
          "data": {
            "text/plain": [
              "array(['Ankle boot', 'Pullover', 'Trouser'], dtype='<U11')"
            ]
          },
          "metadata": {
            "tags": []
          },
          "execution_count": 49
        }
      ]
    },
    {
      "cell_type": "code",
      "metadata": {
        "id": "4Qj46fa_ihMo",
        "colab_type": "code",
        "colab": {}
      },
      "source": [
        "y_new = y_test[:3]"
      ],
      "execution_count": 0,
      "outputs": []
    },
    {
      "cell_type": "code",
      "metadata": {
        "id": "QuBzMq8nilXz",
        "colab_type": "code",
        "colab": {
          "base_uri": "https://localhost:8080/",
          "height": 34
        },
        "outputId": "cf93fcf7-e793-4332-d18e-f11921d5a061"
      },
      "source": [
        "y_new"
      ],
      "execution_count": 51,
      "outputs": [
        {
          "output_type": "execute_result",
          "data": {
            "text/plain": [
              "array([9, 2, 1], dtype=uint8)"
            ]
          },
          "metadata": {
            "tags": []
          },
          "execution_count": 51
        }
      ]
    }
  ]
}